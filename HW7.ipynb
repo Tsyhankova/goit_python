{
  "nbformat": 4,
  "nbformat_minor": 0,
  "metadata": {
    "colab": {
      "name": "HW7.ipynb",
      "provenance": [],
      "collapsed_sections": [],
      "authorship_tag": "ABX9TyP5mKjr1qC8NTzqazg0M4yU",
      "include_colab_link": true
    },
    "kernelspec": {
      "name": "python3",
      "display_name": "Python 3"
    },
    "language_info": {
      "name": "python"
    }
  },
  "cells": [
    {
      "cell_type": "markdown",
      "metadata": {
        "id": "view-in-github",
        "colab_type": "text"
      },
      "source": [
        "<a href=\"https://colab.research.google.com/github/Tsyhankova/goit_python/blob/main/HW7.ipynb\" target=\"_parent\"><img src=\"https://colab.research.google.com/assets/colab-badge.svg\" alt=\"Open In Colab\"/></a>"
      ]
    },
    {
      "cell_type": "markdown",
      "metadata": {
        "id": "KI4Dk-mgIzg6"
      },
      "source": [
        "# **Задание 1**\n"
      ]
    },
    {
      "cell_type": "code",
      "metadata": {
        "id": "kP_fECrvqv7M"
      },
      "source": [
        "from sklearn.datasets import load_wine\n",
        "from sklearn.model_selection import train_test_split\n",
        "from sklearn.linear_model import LogisticRegression\n",
        "from sklearn.linear_model import RidgeClassifier\n",
        "\n",
        "wine_dataset = load_wine()"
      ],
      "execution_count": 81,
      "outputs": []
    },
    {
      "cell_type": "markdown",
      "metadata": {
        "id": "r1zVtmF9_Ap6"
      },
      "source": [
        "Разделите wine_dataset на обучающую и тестовую выборки."
      ]
    },
    {
      "cell_type": "code",
      "metadata": {
        "id": "4pGpi2ODrDgK"
      },
      "source": [
        "X, y = load_wine(return_X_y = True)\n",
        "X_train, X_test, y_train, y_test = train_test_split(X, y)"
      ],
      "execution_count": 29,
      "outputs": []
    },
    {
      "cell_type": "markdown",
      "metadata": {
        "id": "ssQxO4jB_UP6"
      },
      "source": [
        "Обучите модель на тренировочной выборке и оцените ее качество на тестовой."
      ]
    },
    {
      "cell_type": "markdown",
      "metadata": {
        "id": "WvsXJxSo_GWd"
      },
      "source": [
        "# **RidgeClassifier**"
      ]
    },
    {
      "cell_type": "code",
      "metadata": {
        "colab": {
          "base_uri": "https://localhost:8080/"
        },
        "id": "uvmXBGZx4pKB",
        "outputId": "cadab929-369a-4cf6-f7b7-30eea8658ff5"
      },
      "source": [
        "rig_cls = RidgeClassifier().fit(X_train, y_train)\n",
        "rig_cls.score(X, y)"
      ],
      "execution_count": 34,
      "outputs": [
        {
          "output_type": "execute_result",
          "data": {
            "text/plain": [
              "0.9887640449438202"
            ]
          },
          "metadata": {},
          "execution_count": 34
        }
      ]
    },
    {
      "cell_type": "code",
      "metadata": {
        "colab": {
          "base_uri": "https://localhost:8080/"
        },
        "id": "UxldU3Ry80Dq",
        "outputId": "11b02c7c-e3a3-4614-958f-74a136f6d342"
      },
      "source": [
        "y_pred_rig = rig_cls.predict(X_test)\n",
        "y_pred_rig == y_test"
      ],
      "execution_count": 35,
      "outputs": [
        {
          "output_type": "execute_result",
          "data": {
            "text/plain": [
              "array([ True, False,  True,  True,  True,  True, False,  True,  True,\n",
              "        True,  True,  True,  True,  True,  True,  True,  True,  True,\n",
              "        True,  True,  True,  True,  True,  True,  True,  True,  True,\n",
              "        True,  True,  True,  True,  True,  True,  True,  True,  True,\n",
              "        True,  True,  True,  True,  True,  True,  True,  True,  True])"
            ]
          },
          "metadata": {},
          "execution_count": 35
        }
      ]
    },
    {
      "cell_type": "markdown",
      "metadata": {
        "id": "Nw3tP9MQ_NuC"
      },
      "source": [
        "# **LogisticRegression**"
      ]
    },
    {
      "cell_type": "code",
      "metadata": {
        "colab": {
          "base_uri": "https://localhost:8080/"
        },
        "id": "X8meEgBa7MbV",
        "outputId": "b1dcb3dd-67ab-46bb-84dd-1f86f3cb7994"
      },
      "source": [
        "logistic_regressor = LogisticRegression(max_iter=3000).fit(X_train, y_train)\n",
        "logistic_regressor.score(X, y)"
      ],
      "execution_count": 26,
      "outputs": [
        {
          "output_type": "execute_result",
          "data": {
            "text/plain": [
              "0.9775280898876404"
            ]
          },
          "metadata": {},
          "execution_count": 26
        }
      ]
    },
    {
      "cell_type": "code",
      "metadata": {
        "colab": {
          "base_uri": "https://localhost:8080/"
        },
        "id": "o7CuBJI19hAn",
        "outputId": "b78c7900-c762-4d0e-9cf1-7b102b48051e"
      },
      "source": [
        "y_pred_log = logistic_regressor.predict(X_test)\n",
        "y_pred_log == y_test"
      ],
      "execution_count": 27,
      "outputs": [
        {
          "output_type": "execute_result",
          "data": {
            "text/plain": [
              "array([ True,  True,  True,  True,  True,  True,  True,  True, False,\n",
              "        True,  True,  True,  True,  True,  True,  True,  True,  True,\n",
              "        True,  True,  True,  True,  True,  True,  True,  True,  True,\n",
              "        True,  True,  True,  True,  True,  True,  True,  True,  True,\n",
              "        True,  True,  True,  True,  True,  True,  True, False,  True])"
            ]
          },
          "metadata": {},
          "execution_count": 27
        }
      ]
    },
    {
      "cell_type": "markdown",
      "metadata": {
        "id": "GRmWWVAq_dEb"
      },
      "source": [
        "Попробуйте повторить шаги 3 и 4 разбив датасет на обучающую и тестовую выборки в какой-то собственной пропорции. Как это отразилось на качестве модели?"
      ]
    },
    {
      "cell_type": "code",
      "metadata": {
        "id": "uUXk23Bg_chc"
      },
      "source": [
        "X_train, X_test, y_train, y_test = train_test_split(X, y, test_size=0.15, random_state=42)"
      ],
      "execution_count": 71,
      "outputs": []
    },
    {
      "cell_type": "code",
      "metadata": {
        "colab": {
          "base_uri": "https://localhost:8080/"
        },
        "id": "XEWtMiBQ_xnD",
        "outputId": "025e6ab0-ed0c-46a6-c35d-dfbc5bb1ab6f"
      },
      "source": [
        "rig_cls = RidgeClassifier().fit(X_train, y_train)\n",
        "y_pred_rig = rig_cls.predict(X_test)\n",
        "y_pred_rig == y_test"
      ],
      "execution_count": 72,
      "outputs": [
        {
          "output_type": "execute_result",
          "data": {
            "text/plain": [
              "array([ True,  True,  True,  True,  True,  True,  True,  True,  True,\n",
              "        True,  True,  True,  True,  True,  True,  True,  True,  True,\n",
              "        True,  True,  True,  True,  True,  True,  True,  True,  True])"
            ]
          },
          "metadata": {},
          "execution_count": 72
        }
      ]
    },
    {
      "cell_type": "code",
      "metadata": {
        "colab": {
          "base_uri": "https://localhost:8080/"
        },
        "id": "FiwFbPAcH_kE",
        "outputId": "1edf8fc5-b7a7-47c3-da2c-9b13ba845638"
      },
      "source": [
        "rig_cls.score(X, y)"
      ],
      "execution_count": 73,
      "outputs": [
        {
          "output_type": "execute_result",
          "data": {
            "text/plain": [
              "1.0"
            ]
          },
          "metadata": {},
          "execution_count": 73
        }
      ]
    },
    {
      "cell_type": "code",
      "metadata": {
        "colab": {
          "base_uri": "https://localhost:8080/"
        },
        "id": "ehzcCcGz_4Zy",
        "outputId": "3a54f458-7836-468b-f7d8-5c9dd1d8f796"
      },
      "source": [
        "logistic_regressor = LogisticRegression(max_iter=6000).fit(X_train, y_train)\n",
        "y_pred_log = logistic_regressor.predict(X_test)\n",
        "y_pred_log == y_test"
      ],
      "execution_count": 74,
      "outputs": [
        {
          "output_type": "execute_result",
          "data": {
            "text/plain": [
              "array([ True,  True,  True,  True,  True,  True,  True,  True,  True,\n",
              "        True,  True,  True,  True,  True,  True,  True,  True,  True,\n",
              "        True,  True,  True,  True,  True,  True,  True,  True,  True])"
            ]
          },
          "metadata": {},
          "execution_count": 74
        }
      ]
    },
    {
      "cell_type": "code",
      "metadata": {
        "colab": {
          "base_uri": "https://localhost:8080/"
        },
        "id": "CoMEnTn4IE4U",
        "outputId": "53d32ab8-ca90-46a8-d1e2-163882661c66"
      },
      "source": [
        "logistic_regressor.score(X, y)"
      ],
      "execution_count": 75,
      "outputs": [
        {
          "output_type": "execute_result",
          "data": {
            "text/plain": [
              "0.9943820224719101"
            ]
          },
          "metadata": {},
          "execution_count": 75
        }
      ]
    },
    {
      "cell_type": "code",
      "metadata": {
        "id": "nhw7TixSAuk4"
      },
      "source": [
        "X_train, X_test, y_train, y_test = train_test_split(X, y, test_size=0.4, random_state=42)"
      ],
      "execution_count": 76,
      "outputs": []
    },
    {
      "cell_type": "code",
      "metadata": {
        "colab": {
          "base_uri": "https://localhost:8080/"
        },
        "id": "xeGY75CwA1cQ",
        "outputId": "730ee59f-8283-4b55-a876-63437865aef2"
      },
      "source": [
        "rig_cls = RidgeClassifier().fit(X_train, y_train)\n",
        "y_pred_rig = rig_cls.predict(X_test)\n",
        "y_pred_rig == y_test"
      ],
      "execution_count": 77,
      "outputs": [
        {
          "output_type": "execute_result",
          "data": {
            "text/plain": [
              "array([ True,  True,  True,  True,  True,  True,  True,  True,  True,\n",
              "        True,  True,  True,  True,  True,  True,  True,  True,  True,\n",
              "        True,  True,  True,  True,  True,  True,  True,  True,  True,\n",
              "        True,  True,  True,  True,  True,  True,  True,  True,  True,\n",
              "        True,  True,  True,  True,  True,  True,  True, False,  True,\n",
              "        True,  True,  True,  True,  True,  True,  True,  True,  True,\n",
              "        True,  True,  True,  True,  True,  True,  True,  True,  True,\n",
              "        True,  True,  True,  True,  True,  True,  True,  True,  True])"
            ]
          },
          "metadata": {},
          "execution_count": 77
        }
      ]
    },
    {
      "cell_type": "code",
      "metadata": {
        "colab": {
          "base_uri": "https://localhost:8080/"
        },
        "id": "2mEIgZHXB4QQ",
        "outputId": "e00a6605-078f-4d5f-85bb-61665820bee5"
      },
      "source": [
        "rig_cls.score(X, y)"
      ],
      "execution_count": 78,
      "outputs": [
        {
          "output_type": "execute_result",
          "data": {
            "text/plain": [
              "0.9943820224719101"
            ]
          },
          "metadata": {},
          "execution_count": 78
        }
      ]
    },
    {
      "cell_type": "code",
      "metadata": {
        "colab": {
          "base_uri": "https://localhost:8080/"
        },
        "id": "w9vy8KdGA3Hg",
        "outputId": "c96969a9-4fa8-43e3-d9bc-6c5d98e338a5"
      },
      "source": [
        "logistic_regressor = LogisticRegression(max_iter=5000).fit(X_train, y_train)\n",
        "y_pred_log = logistic_regressor.predict(X_test)\n",
        "y_pred_log == y_test"
      ],
      "execution_count": 79,
      "outputs": [
        {
          "output_type": "execute_result",
          "data": {
            "text/plain": [
              "array([ True,  True,  True,  True,  True,  True,  True,  True,  True,\n",
              "        True,  True,  True,  True,  True,  True,  True,  True,  True,\n",
              "        True,  True,  True,  True,  True,  True,  True,  True,  True,\n",
              "        True,  True,  True,  True,  True,  True,  True,  True,  True,\n",
              "        True,  True,  True,  True,  True,  True,  True,  True,  True,\n",
              "        True,  True,  True,  True,  True,  True,  True,  True,  True,\n",
              "        True,  True, False,  True,  True,  True,  True,  True, False,\n",
              "        True,  True,  True,  True,  True,  True,  True, False,  True])"
            ]
          },
          "metadata": {},
          "execution_count": 79
        }
      ]
    },
    {
      "cell_type": "code",
      "metadata": {
        "colab": {
          "base_uri": "https://localhost:8080/"
        },
        "id": "-Cri6k1MBRuS",
        "outputId": "fca2aea1-45f7-4ac5-800d-40183b19c9f5"
      },
      "source": [
        "logistic_regressor.score(X, y)"
      ],
      "execution_count": 80,
      "outputs": [
        {
          "output_type": "execute_result",
          "data": {
            "text/plain": [
              "0.9775280898876404"
            ]
          },
          "metadata": {},
          "execution_count": 80
        }
      ]
    },
    {
      "cell_type": "markdown",
      "metadata": {
        "id": "2vyKRCcVAkkE"
      },
      "source": [
        "При увеличении обучающей выборки, модель показывает лучше результат.\n",
        "Класс RidgeClassifier обучился чуть лучше, чем LogisticRegression на данном датасете."
      ]
    },
    {
      "cell_type": "markdown",
      "metadata": {
        "id": "KjVw_GFhI8di"
      },
      "source": [
        "# **Задание 2**"
      ]
    },
    {
      "cell_type": "markdown",
      "metadata": {
        "id": "-1j90OYyJHuh"
      },
      "source": [
        "Постройте линейный классификатор подобно тому, как мы это делали в задании 1 на датасете Ириса Фишера."
      ]
    },
    {
      "cell_type": "code",
      "metadata": {
        "id": "H2udFGtiJPdF"
      },
      "source": [
        "from sklearn.datasets import load_iris"
      ],
      "execution_count": 92,
      "outputs": []
    },
    {
      "cell_type": "code",
      "metadata": {
        "id": "Oh2MV1QHJi4I"
      },
      "source": [
        "X, y = load_iris(return_X_y = True)\n",
        "X_train, X_test, y_train, y_test = train_test_split(X, y, test_size=0.33, random_state=42)"
      ],
      "execution_count": 101,
      "outputs": []
    },
    {
      "cell_type": "code",
      "metadata": {
        "colab": {
          "base_uri": "https://localhost:8080/"
        },
        "id": "4HZBcW7DJ1ZR",
        "outputId": "1977b13c-ac3b-40d6-ce97-e2e9e4548502"
      },
      "source": [
        "rig_cls = RidgeClassifier().fit(X_train, y_train)\n",
        "y_pred_rig = rig_cls.predict(X_test)\n",
        "y_pred_rig == y_test"
      ],
      "execution_count": 102,
      "outputs": [
        {
          "output_type": "execute_result",
          "data": {
            "text/plain": [
              "array([ True,  True,  True, False,  True,  True, False,  True,  True,\n",
              "        True,  True,  True,  True,  True,  True, False,  True,  True,\n",
              "        True,  True,  True,  True,  True,  True,  True,  True, False,\n",
              "        True,  True,  True,  True,  True, False,  True,  True,  True,\n",
              "       False,  True,  True,  True,  True, False, False,  True,  True,\n",
              "        True, False,  True, False,  True])"
            ]
          },
          "metadata": {},
          "execution_count": 102
        }
      ]
    },
    {
      "cell_type": "code",
      "metadata": {
        "colab": {
          "base_uri": "https://localhost:8080/"
        },
        "id": "_PFSsI8iJ9KA",
        "outputId": "c7cb5112-7ebf-43f7-c694-c374522efb87"
      },
      "source": [
        "rig_cls.score(X, y)"
      ],
      "execution_count": 103,
      "outputs": [
        {
          "output_type": "execute_result",
          "data": {
            "text/plain": [
              "0.8533333333333334"
            ]
          },
          "metadata": {},
          "execution_count": 103
        }
      ]
    },
    {
      "cell_type": "code",
      "metadata": {
        "id": "RKg77ehRKi-n"
      },
      "source": [
        "from sklearn.neighbors import KNeighborsClassifier"
      ],
      "execution_count": 104,
      "outputs": []
    },
    {
      "cell_type": "code",
      "metadata": {
        "colab": {
          "base_uri": "https://localhost:8080/"
        },
        "id": "Kne64HDmK3kO",
        "outputId": "9d269d7f-2a09-4ec0-ac0e-7a21cd274188"
      },
      "source": [
        "kn_cls = KNeighborsClassifier().fit(X_train, y_train)\n",
        "y_pred_kn = kn_cls.predict(X_test)\n",
        "y_pred_kn == y_test "
      ],
      "execution_count": 105,
      "outputs": [
        {
          "output_type": "execute_result",
          "data": {
            "text/plain": [
              "array([ True,  True,  True,  True,  True,  True,  True,  True,  True,\n",
              "        True,  True,  True,  True,  True,  True,  True,  True,  True,\n",
              "        True,  True,  True,  True,  True,  True,  True,  True,  True,\n",
              "        True,  True,  True,  True,  True,  True,  True,  True,  True,\n",
              "        True,  True,  True,  True,  True,  True,  True,  True,  True,\n",
              "        True, False,  True,  True,  True])"
            ]
          },
          "metadata": {},
          "execution_count": 105
        }
      ]
    },
    {
      "cell_type": "code",
      "metadata": {
        "colab": {
          "base_uri": "https://localhost:8080/"
        },
        "id": "HD_wSZbQLbAl",
        "outputId": "3117e92f-3383-447d-9077-aac43618e5fe"
      },
      "source": [
        "kn_cls.score(X, y)"
      ],
      "execution_count": 106,
      "outputs": [
        {
          "output_type": "execute_result",
          "data": {
            "text/plain": [
              "0.9666666666666667"
            ]
          },
          "metadata": {},
          "execution_count": 106
        }
      ]
    },
    {
      "cell_type": "code",
      "metadata": {
        "colab": {
          "base_uri": "https://localhost:8080/"
        },
        "id": "l6ncLes0MjMr",
        "outputId": "97a1cadd-d0d5-49b1-e005-509461fb4990"
      },
      "source": [
        "clf_log = LogisticRegression(random_state=0, max_iter = 5000).fit(X_train, y_train)\n",
        "y_pred_log = clf_log.predict(X_test)\n",
        "y_pred_log == y_test "
      ],
      "execution_count": 107,
      "outputs": [
        {
          "output_type": "execute_result",
          "data": {
            "text/plain": [
              "array([ True,  True,  True,  True,  True,  True,  True,  True,  True,\n",
              "        True,  True,  True,  True,  True,  True,  True,  True,  True,\n",
              "        True,  True,  True,  True,  True,  True,  True,  True,  True,\n",
              "        True,  True,  True,  True,  True,  True,  True,  True,  True,\n",
              "        True,  True,  True,  True,  True,  True,  True,  True,  True,\n",
              "        True,  True,  True,  True,  True])"
            ]
          },
          "metadata": {},
          "execution_count": 107
        }
      ]
    },
    {
      "cell_type": "code",
      "metadata": {
        "colab": {
          "base_uri": "https://localhost:8080/"
        },
        "id": "OEcs161ANWnT",
        "outputId": "c85afbda-564a-4406-a681-89dca6845a2d"
      },
      "source": [
        "clf_log.score(X, y)"
      ],
      "execution_count": 108,
      "outputs": [
        {
          "output_type": "execute_result",
          "data": {
            "text/plain": [
              "0.9733333333333334"
            ]
          },
          "metadata": {},
          "execution_count": 108
        }
      ]
    },
    {
      "cell_type": "markdown",
      "metadata": {
        "id": "cyJdrp9INpn2"
      },
      "source": [
        "# Задание **3**"
      ]
    },
    {
      "cell_type": "code",
      "metadata": {
        "id": "KHcuofKDN4Sq"
      },
      "source": [
        "import numpy as np\n",
        "from sklearn.datasets import load_diabetes\n",
        "from sklearn.linear_model import LinearRegression"
      ],
      "execution_count": 209,
      "outputs": []
    },
    {
      "cell_type": "code",
      "metadata": {
        "colab": {
          "base_uri": "https://localhost:8080/"
        },
        "id": "XTe1dH-KcFDr",
        "outputId": "822344b8-d44c-4d6d-9d11-3e57b21c408c"
      },
      "source": [
        "data_diab = load_diabetes()\n",
        "data_diab.keys()"
      ],
      "execution_count": 210,
      "outputs": [
        {
          "output_type": "execute_result",
          "data": {
            "text/plain": [
              "dict_keys(['data', 'target', 'DESCR', 'feature_names', 'data_filename', 'target_filename'])"
            ]
          },
          "metadata": {},
          "execution_count": 210
        }
      ]
    },
    {
      "cell_type": "code",
      "metadata": {
        "colab": {
          "base_uri": "https://localhost:8080/"
        },
        "id": "ILaS6-NGc4nF",
        "outputId": "eb83b243-2b35-422b-8e37-8efbb9a40540"
      },
      "source": [
        "y = data_diab['target']\n",
        "y[:10]"
      ],
      "execution_count": 225,
      "outputs": [
        {
          "output_type": "execute_result",
          "data": {
            "text/plain": [
              "array([151.,  75., 141., 206., 135.,  97., 138.,  63., 110., 310.])"
            ]
          },
          "metadata": {},
          "execution_count": 225
        }
      ]
    },
    {
      "cell_type": "code",
      "metadata": {
        "id": "ohlVbmKgN9LA"
      },
      "source": [
        "X, y = load_diabetes(return_X_y = True)\n",
        "X_train, X_test, y_train, y_test = train_test_split(X, y)"
      ],
      "execution_count": 212,
      "outputs": []
    },
    {
      "cell_type": "code",
      "metadata": {
        "colab": {
          "base_uri": "https://localhost:8080/"
        },
        "id": "muE09_HcPXJP",
        "outputId": "632ef05b-63a5-48d5-bfcc-df7c4e2a7aad"
      },
      "source": [
        "lin_reg = LinearRegression().fit(X_train, y_train)\n",
        "lin_reg.score(X, y)"
      ],
      "execution_count": 213,
      "outputs": [
        {
          "output_type": "execute_result",
          "data": {
            "text/plain": [
              "0.5151643310693095"
            ]
          },
          "metadata": {},
          "execution_count": 213
        }
      ]
    },
    {
      "cell_type": "markdown",
      "metadata": {
        "id": "Qvt1AP9Mh8Yw"
      },
      "source": [
        "Проверка точности прогнозов по r2 Scores (Коэффициент детерминации)\n"
      ]
    },
    {
      "cell_type": "code",
      "metadata": {
        "colab": {
          "base_uri": "https://localhost:8080/"
        },
        "id": "P1NPoE6lhyRk",
        "outputId": "05ad2a86-053b-48e2-bf52-c46573b8e113"
      },
      "source": [
        "from sklearn.metrics import r2_score\n",
        "\n",
        "y_pred_lin = lin_reg.predict(X_test)\n",
        "r2_score(y_test, y_pred_lin)"
      ],
      "execution_count": 214,
      "outputs": [
        {
          "output_type": "execute_result",
          "data": {
            "text/plain": [
              "0.5766857486397609"
            ]
          },
          "metadata": {},
          "execution_count": 214
        }
      ]
    },
    {
      "cell_type": "markdown",
      "metadata": {
        "id": "OGkv22lBh-HA"
      },
      "source": [
        "Root Mean Square Error"
      ]
    },
    {
      "cell_type": "code",
      "metadata": {
        "colab": {
          "base_uri": "https://localhost:8080/"
        },
        "id": "Y3_9qDD-iHFz",
        "outputId": "b31c53ef-ac4b-44ba-bddb-0e928a52ca3d"
      },
      "source": [
        "from sklearn.metrics import mean_squared_error\n",
        "\n",
        "mse = mean_squared_error(y_test, y_pred_lin)\n",
        "rmse = np.sqrt(mse)\n",
        "rmse"
      ],
      "execution_count": 215,
      "outputs": [
        {
          "output_type": "execute_result",
          "data": {
            "text/plain": [
              "53.228236266066766"
            ]
          },
          "metadata": {},
          "execution_count": 215
        }
      ]
    },
    {
      "cell_type": "code",
      "metadata": {
        "id": "k1o5EkvlUKI9"
      },
      "source": [
        "X_train, X_test, y_train, y_test = train_test_split(X, y, test_size = 0.3, random_state = 101)"
      ],
      "execution_count": 216,
      "outputs": []
    },
    {
      "cell_type": "code",
      "metadata": {
        "colab": {
          "base_uri": "https://localhost:8080/"
        },
        "id": "W91doDTpUqb8",
        "outputId": "659f8a43-0546-4ede-c21c-d3f6207af868"
      },
      "source": [
        "lin_reg = LinearRegression().fit(X_train, y_train)\n",
        "lin_reg.score(X, y)"
      ],
      "execution_count": 217,
      "outputs": [
        {
          "output_type": "execute_result",
          "data": {
            "text/plain": [
              "0.510811145402116"
            ]
          },
          "metadata": {},
          "execution_count": 217
        }
      ]
    },
    {
      "cell_type": "markdown",
      "metadata": {
        "id": "3--CWjMRgsPt"
      },
      "source": [
        "Проверка точности прогнозов по r2 *Scores*"
      ]
    },
    {
      "cell_type": "code",
      "metadata": {
        "colab": {
          "base_uri": "https://localhost:8080/"
        },
        "id": "E-d-MCeyUvgs",
        "outputId": "3e352214-46eb-4e40-8be9-bd9b82ed7e97"
      },
      "source": [
        "y_pred_lin = lin_reg.predict(X_test)\n",
        "r2_score(y_test, y_pred_lin)"
      ],
      "execution_count": 218,
      "outputs": [
        {
          "output_type": "execute_result",
          "data": {
            "text/plain": [
              "0.45767674177195583"
            ]
          },
          "metadata": {},
          "execution_count": 218
        }
      ]
    },
    {
      "cell_type": "markdown",
      "metadata": {
        "id": "QfHQAnTKhNVG"
      },
      "source": [
        "Root Mean Square Error"
      ]
    },
    {
      "cell_type": "code",
      "metadata": {
        "colab": {
          "base_uri": "https://localhost:8080/"
        },
        "id": "eTaeZgwug1qf",
        "outputId": "c1ecaaad-3446-4b8e-ea35-1a23a8fdc747"
      },
      "source": [
        "mse = mean_squared_error(y_test, y_pred_lin)\n",
        "rmse = np.sqrt(mse)\n",
        "rmse"
      ],
      "execution_count": 219,
      "outputs": [
        {
          "output_type": "execute_result",
          "data": {
            "text/plain": [
              "58.009275047551995"
            ]
          },
          "metadata": {},
          "execution_count": 219
        }
      ]
    },
    {
      "cell_type": "code",
      "metadata": {
        "id": "zFOkclL8VJBr"
      },
      "source": [
        "from sklearn.linear_model import SGDRegressor "
      ],
      "execution_count": 220,
      "outputs": []
    },
    {
      "cell_type": "code",
      "metadata": {
        "colab": {
          "base_uri": "https://localhost:8080/"
        },
        "id": "prvqP_w5VTrT",
        "outputId": "75410828-bef2-4ff9-e70a-e69c1459c159"
      },
      "source": [
        "sgd_reg = SGDRegressor(max_iter = 10900).fit(X_train, y_train)\n",
        "sgd_reg.score(X, y)"
      ],
      "execution_count": 222,
      "outputs": [
        {
          "output_type": "execute_result",
          "data": {
            "text/plain": [
              "0.5118834004098051"
            ]
          },
          "metadata": {},
          "execution_count": 222
        }
      ]
    },
    {
      "cell_type": "markdown",
      "metadata": {
        "id": "3GFgygTWiuzJ"
      },
      "source": [
        "Проверка точности прогнозов по r2 *Scores*"
      ]
    },
    {
      "cell_type": "code",
      "metadata": {
        "colab": {
          "base_uri": "https://localhost:8080/"
        },
        "id": "Txk8BsCMikkb",
        "outputId": "a262784e-7b29-4d45-d9ef-1a91ffc62a66"
      },
      "source": [
        "y_pred_sgd = sgd_reg.predict(X_test)\n",
        "r2_score(y_test, y_pred_sgd)"
      ],
      "execution_count": 223,
      "outputs": [
        {
          "output_type": "execute_result",
          "data": {
            "text/plain": [
              "0.4807542696560606"
            ]
          },
          "metadata": {},
          "execution_count": 223
        }
      ]
    },
    {
      "cell_type": "markdown",
      "metadata": {
        "id": "ue9IRFlpiwhq"
      },
      "source": [
        "Root Mean Square Error"
      ]
    },
    {
      "cell_type": "code",
      "metadata": {
        "colab": {
          "base_uri": "https://localhost:8080/"
        },
        "id": "QQX5V16DioCz",
        "outputId": "acf65360-375a-4dd0-8c7b-7dbcd4dbfe53"
      },
      "source": [
        "mse = mean_squared_error(y_test, y_pred_sgd)\n",
        "rmse = np.sqrt(mse)\n",
        "rmse"
      ],
      "execution_count": 224,
      "outputs": [
        {
          "output_type": "execute_result",
          "data": {
            "text/plain": [
              "56.761621063274234"
            ]
          },
          "metadata": {},
          "execution_count": 224
        }
      ]
    },
    {
      "cell_type": "markdown",
      "metadata": {
        "id": "Pv1ha7VojnhO"
      },
      "source": [
        "SGDRegressor немного лучше сработал на данной выборке при пропорциях 30% к 70% и random_state = 101, чем LinearRegression. LinearRegression сработала хуже при заданных мной пропорциях."
      ]
    }
  ]
}