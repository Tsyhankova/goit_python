{
  "nbformat": 4,
  "nbformat_minor": 0,
  "metadata": {
    "colab": {
      "name": "Hw2.2.ipynb",
      "provenance": [],
      "authorship_tag": "ABX9TyNlBf2wBIDB4GKix3apiwJt",
      "include_colab_link": true
    },
    "kernelspec": {
      "name": "python3",
      "display_name": "Python 3"
    },
    "language_info": {
      "name": "python"
    }
  },
  "cells": [
    {
      "cell_type": "markdown",
      "metadata": {
        "id": "view-in-github",
        "colab_type": "text"
      },
      "source": [
        "<a href=\"https://colab.research.google.com/github/Tsyhankova/goit_python/blob/main/Hw2_2.ipynb\" target=\"_parent\"><img src=\"https://colab.research.google.com/assets/colab-badge.svg\" alt=\"Open In Colab\"/></a>"
      ]
    },
    {
      "cell_type": "markdown",
      "metadata": {
        "id": "9zW-j5timlwz"
      },
      "source": [
        "# **Часть вторая: Анализ файлов**"
      ]
    },
    {
      "cell_type": "markdown",
      "metadata": {
        "id": "6-78rg4gmpp2"
      },
      "source": [
        "Проведите анализ файла 2017_jun_final.csv. Файл содержит результаты опроса разработчиков в июне 2017 года."
      ]
    },
    {
      "cell_type": "code",
      "metadata": {
        "id": "nyHnBSNjmgWK"
      },
      "source": [
        "import pandas as pd"
      ],
      "execution_count": 36,
      "outputs": []
    },
    {
      "cell_type": "markdown",
      "metadata": {
        "id": "ClXXEcUbnFEZ"
      },
      "source": [
        "Прочитайте файл 2017_jun_final.csv с помощью метода read_csv"
      ]
    },
    {
      "cell_type": "code",
      "metadata": {
        "colab": {
          "base_uri": "https://localhost:8080/"
        },
        "id": "C5MMvYy9nEnA",
        "outputId": "847c5abf-28f6-4e46-91de-ab9cb60d0259"
      },
      "source": [
        "url = 'https://drive.google.com/file/d/1N9olzaYSJA9QqO8Dfx1LLl14l2TU-5kV/view?usp=sharing'\n",
        "path = 'https://drive.google.com/uc?export=download&id='+url.split('/')[-2]\n",
        "jun_final = pd.read_csv(path)\n",
        "\n",
        "print(jun_final)"
      ],
      "execution_count": 37,
      "outputs": [
        {
          "output_type": "stream",
          "name": "stdout",
          "text": [
            "         N                 Должность Язык.программирования  ... salary Валюта  cls\n",
            "0        1        Junior QA engineer                   NaN  ...    400    NaN   QA\n",
            "1        2        Junior QA engineer                   NaN  ...    430    NaN   QA\n",
            "2        3         Software Engineer               C#/.NET  ...   2500    NaN  DEV\n",
            "3        4         Software Engineer            JavaScript  ...   2000    NaN  DEV\n",
            "4        5  Senior Software Engineer            JavaScript  ...   4500    NaN  DEV\n",
            "...    ...                       ...                   ...  ...    ...    ...  ...\n",
            "8699  8700               QA engineer                   NaN  ...    700    NaN   QA\n",
            "8700  8701                 Marketing                   NaN  ...    400    NaN  NaN\n",
            "8701  8702  Junior Software Engineer            Ruby/Rails  ...    800    NaN  DEV\n",
            "8702  8703                 Team lead                   NaN  ...   2600    NaN   PM\n",
            "8703  8704  Senior Software Engineer                  Java  ...   5000    NaN  DEV\n",
            "\n",
            "[8704 rows x 25 columns]\n"
          ]
        }
      ]
    },
    {
      "cell_type": "markdown",
      "metadata": {
        "id": "fDkE4i4Epr0T"
      },
      "source": [
        "Прочитайте полученную таблицу используя метод head"
      ]
    },
    {
      "cell_type": "code",
      "metadata": {
        "colab": {
          "base_uri": "https://localhost:8080/",
          "height": 581
        },
        "id": "yv7feTBbpyNZ",
        "outputId": "7c121596-e5c0-4ec8-d767-ee057c0ff8bf"
      },
      "source": [
        "jun_final.head()"
      ],
      "execution_count": 38,
      "outputs": [
        {
          "output_type": "execute_result",
          "data": {
            "text/html": [
              "<div>\n",
              "<style scoped>\n",
              "    .dataframe tbody tr th:only-of-type {\n",
              "        vertical-align: middle;\n",
              "    }\n",
              "\n",
              "    .dataframe tbody tr th {\n",
              "        vertical-align: top;\n",
              "    }\n",
              "\n",
              "    .dataframe thead th {\n",
              "        text-align: right;\n",
              "    }\n",
              "</style>\n",
              "<table border=\"1\" class=\"dataframe\">\n",
              "  <thead>\n",
              "    <tr style=\"text-align: right;\">\n",
              "      <th></th>\n",
              "      <th>N</th>\n",
              "      <th>Должность</th>\n",
              "      <th>Язык.программирования</th>\n",
              "      <th>Специализация</th>\n",
              "      <th>Общий.опыт.работы</th>\n",
              "      <th>Опыт.работы.на.текущем.месте</th>\n",
              "      <th>Зарплата.в.месяц</th>\n",
              "      <th>Изменение.зарплаты.за.12.месяцев</th>\n",
              "      <th>Город</th>\n",
              "      <th>Размер.компании</th>\n",
              "      <th>Тип.компании</th>\n",
              "      <th>Пол</th>\n",
              "      <th>Возраст</th>\n",
              "      <th>Образование</th>\n",
              "      <th>Университет</th>\n",
              "      <th>Еще.студент</th>\n",
              "      <th>Уровень.английского</th>\n",
              "      <th>Предметная.область</th>\n",
              "      <th>Дата.заполнения</th>\n",
              "      <th>User.Agent</th>\n",
              "      <th>exp</th>\n",
              "      <th>current_job_exp</th>\n",
              "      <th>salary</th>\n",
              "      <th>Валюта</th>\n",
              "      <th>cls</th>\n",
              "    </tr>\n",
              "  </thead>\n",
              "  <tbody>\n",
              "    <tr>\n",
              "      <th>0</th>\n",
              "      <td>1</td>\n",
              "      <td>Junior QA engineer</td>\n",
              "      <td>NaN</td>\n",
              "      <td>Manual QA</td>\n",
              "      <td>0.5</td>\n",
              "      <td>0.5</td>\n",
              "      <td>400</td>\n",
              "      <td>0</td>\n",
              "      <td>Харьков</td>\n",
              "      <td>до 10 человек</td>\n",
              "      <td>Аутсорсинговая</td>\n",
              "      <td>женский</td>\n",
              "      <td>20</td>\n",
              "      <td>Незаконченное высшее</td>\n",
              "      <td>ХНЭУ</td>\n",
              "      <td>True</td>\n",
              "      <td>ниже среднего</td>\n",
              "      <td>iOS,eCommerce</td>\n",
              "      <td>12/06/2017 12:38:08</td>\n",
              "      <td>Mozilla/5.0 (Windows NT 10.0; Win64; x64) Appl...</td>\n",
              "      <td>0.5</td>\n",
              "      <td>0.5</td>\n",
              "      <td>400</td>\n",
              "      <td>NaN</td>\n",
              "      <td>QA</td>\n",
              "    </tr>\n",
              "    <tr>\n",
              "      <th>1</th>\n",
              "      <td>2</td>\n",
              "      <td>Junior QA engineer</td>\n",
              "      <td>NaN</td>\n",
              "      <td>Manual QA</td>\n",
              "      <td>меньше 3 месяцев</td>\n",
              "      <td>меньше 3 месяцев</td>\n",
              "      <td>430</td>\n",
              "      <td>130</td>\n",
              "      <td>Харьков</td>\n",
              "      <td>свыше 1000 человек</td>\n",
              "      <td>Аутсорсинговая</td>\n",
              "      <td>женский</td>\n",
              "      <td>21</td>\n",
              "      <td>Незаконченное высшее</td>\n",
              "      <td>ХНЭУ</td>\n",
              "      <td>True</td>\n",
              "      <td>выше среднего</td>\n",
              "      <td>Веб-разработка</td>\n",
              "      <td>12/06/2017 12:42:51</td>\n",
              "      <td>Mozilla/5.0 (iPad; CPU OS 10_2_1 like Mac OS X...</td>\n",
              "      <td>0.0</td>\n",
              "      <td>0.0</td>\n",
              "      <td>430</td>\n",
              "      <td>NaN</td>\n",
              "      <td>QA</td>\n",
              "    </tr>\n",
              "    <tr>\n",
              "      <th>2</th>\n",
              "      <td>3</td>\n",
              "      <td>Software Engineer</td>\n",
              "      <td>C#/.NET</td>\n",
              "      <td>NaN</td>\n",
              "      <td>4</td>\n",
              "      <td>1</td>\n",
              "      <td>2500</td>\n",
              "      <td>800</td>\n",
              "      <td>Киев</td>\n",
              "      <td>до 1000 человек</td>\n",
              "      <td>Аутсорсинговая</td>\n",
              "      <td>мужской</td>\n",
              "      <td>26</td>\n",
              "      <td>Высшее</td>\n",
              "      <td>ДонНТУ</td>\n",
              "      <td>False</td>\n",
              "      <td>средний</td>\n",
              "      <td>Веб-разработка,Корпоративные системы</td>\n",
              "      <td>12/06/2017 13:02:47</td>\n",
              "      <td>Mozilla/5.0 (Windows NT 10.0; Win64; x64) Appl...</td>\n",
              "      <td>4.0</td>\n",
              "      <td>1.0</td>\n",
              "      <td>2500</td>\n",
              "      <td>NaN</td>\n",
              "      <td>DEV</td>\n",
              "    </tr>\n",
              "    <tr>\n",
              "      <th>3</th>\n",
              "      <td>4</td>\n",
              "      <td>Software Engineer</td>\n",
              "      <td>JavaScript</td>\n",
              "      <td>NaN</td>\n",
              "      <td>5</td>\n",
              "      <td>4</td>\n",
              "      <td>2000</td>\n",
              "      <td>400</td>\n",
              "      <td>Одесса</td>\n",
              "      <td>до 200 человек</td>\n",
              "      <td>Продуктовая</td>\n",
              "      <td>мужской</td>\n",
              "      <td>30</td>\n",
              "      <td>Среднее</td>\n",
              "      <td>NaN</td>\n",
              "      <td>False</td>\n",
              "      <td>ниже среднего</td>\n",
              "      <td>Desktop Applications,Веб-разработка</td>\n",
              "      <td>12/06/2017 13:03:01</td>\n",
              "      <td>Mozilla/5.0 (Windows NT 6.1; Win64; x64) Apple...</td>\n",
              "      <td>5.0</td>\n",
              "      <td>4.0</td>\n",
              "      <td>2000</td>\n",
              "      <td>NaN</td>\n",
              "      <td>DEV</td>\n",
              "    </tr>\n",
              "    <tr>\n",
              "      <th>4</th>\n",
              "      <td>5</td>\n",
              "      <td>Senior Software Engineer</td>\n",
              "      <td>JavaScript</td>\n",
              "      <td>NaN</td>\n",
              "      <td>10 и более лет</td>\n",
              "      <td>0.5</td>\n",
              "      <td>4500</td>\n",
              "      <td>500</td>\n",
              "      <td>Другой</td>\n",
              "      <td>до 10 человек</td>\n",
              "      <td>Продуктовая</td>\n",
              "      <td>мужской</td>\n",
              "      <td>30</td>\n",
              "      <td>Техникум / Колледж</td>\n",
              "      <td>NaN</td>\n",
              "      <td>False</td>\n",
              "      <td>средний</td>\n",
              "      <td>Desktop Applications,Веб-разработка</td>\n",
              "      <td>12/06/2017 13:03:47</td>\n",
              "      <td>Mozilla/5.0 (iPhone; CPU iPhone OS 10_3_2 like...</td>\n",
              "      <td>10.0</td>\n",
              "      <td>0.5</td>\n",
              "      <td>4500</td>\n",
              "      <td>NaN</td>\n",
              "      <td>DEV</td>\n",
              "    </tr>\n",
              "  </tbody>\n",
              "</table>\n",
              "</div>"
            ],
            "text/plain": [
              "   N                 Должность Язык.программирования  ... salary Валюта  cls\n",
              "0  1        Junior QA engineer                   NaN  ...    400    NaN   QA\n",
              "1  2        Junior QA engineer                   NaN  ...    430    NaN   QA\n",
              "2  3         Software Engineer               C#/.NET  ...   2500    NaN  DEV\n",
              "3  4         Software Engineer            JavaScript  ...   2000    NaN  DEV\n",
              "4  5  Senior Software Engineer            JavaScript  ...   4500    NaN  DEV\n",
              "\n",
              "[5 rows x 25 columns]"
            ]
          },
          "metadata": {},
          "execution_count": 38
        }
      ]
    },
    {
      "cell_type": "markdown",
      "metadata": {
        "id": "Jf6Atz_f-azM"
      },
      "source": [
        "Определите размер таблицы с помощью метода shape"
      ]
    },
    {
      "cell_type": "code",
      "metadata": {
        "colab": {
          "base_uri": "https://localhost:8080/"
        },
        "id": "G-_r26hD-b7m",
        "outputId": "ab89a5ff-6e74-425d-c0fe-13e3bc3ef200"
      },
      "source": [
        "jun_final.shape"
      ],
      "execution_count": 39,
      "outputs": [
        {
          "output_type": "execute_result",
          "data": {
            "text/plain": [
              "(8704, 25)"
            ]
          },
          "metadata": {},
          "execution_count": 39
        }
      ]
    },
    {
      "cell_type": "markdown",
      "metadata": {
        "id": "dNMNpWgF-jQk"
      },
      "source": [
        "Определите типы всех столбцов с помощью dataframe.dtypes"
      ]
    },
    {
      "cell_type": "code",
      "metadata": {
        "colab": {
          "base_uri": "https://localhost:8080/"
        },
        "id": "LmmJmMH9-kQN",
        "outputId": "7948a2c6-1531-4748-feb3-18b05a54bcea"
      },
      "source": [
        "jun_final.dtypes"
      ],
      "execution_count": 40,
      "outputs": [
        {
          "output_type": "execute_result",
          "data": {
            "text/plain": [
              "N                                     int64\n",
              "Должность                            object\n",
              "Язык.программирования                object\n",
              "Специализация                        object\n",
              "Общий.опыт.работы                    object\n",
              "Опыт.работы.на.текущем.месте         object\n",
              "Зарплата.в.месяц                      int64\n",
              "Изменение.зарплаты.за.12.месяцев      int64\n",
              "Город                                object\n",
              "Размер.компании                      object\n",
              "Тип.компании                         object\n",
              "Пол                                  object\n",
              "Возраст                               int64\n",
              "Образование                          object\n",
              "Университет                          object\n",
              "Еще.студент                            bool\n",
              "Уровень.английского                  object\n",
              "Предметная.область                   object\n",
              "Дата.заполнения                      object\n",
              "User.Agent                           object\n",
              "exp                                 float64\n",
              "current_job_exp                     float64\n",
              "salary                                int64\n",
              "Валюта                               object\n",
              "cls                                  object\n",
              "dtype: object"
            ]
          },
          "metadata": {},
          "execution_count": 40
        }
      ]
    },
    {
      "cell_type": "markdown",
      "metadata": {
        "id": "RcyFJ1bF-tIV"
      },
      "source": [
        "Посчитайте, какая доля пропусков содержится в каждой колонке (используйте методы isnull и sum)"
      ]
    },
    {
      "cell_type": "code",
      "metadata": {
        "colab": {
          "base_uri": "https://localhost:8080/"
        },
        "id": "N3ogzzvO-uFb",
        "outputId": "6413f879-75ac-4515-fee0-bf4c5796c170"
      },
      "source": [
        "jun_final.isnull().sum(axis = 0, skipna = True)"
      ],
      "execution_count": 41,
      "outputs": [
        {
          "output_type": "execute_result",
          "data": {
            "text/plain": [
              "N                                      0\n",
              "Должность                              0\n",
              "Язык.программирования               3850\n",
              "Специализация                       7219\n",
              "Общий.опыт.работы                      0\n",
              "Опыт.работы.на.текущем.месте           0\n",
              "Зарплата.в.месяц                       0\n",
              "Изменение.зарплаты.за.12.месяцев       0\n",
              "Город                                  0\n",
              "Размер.компании                        0\n",
              "Тип.компании                           0\n",
              "Пол                                    0\n",
              "Возраст                                0\n",
              "Образование                            0\n",
              "Университет                          358\n",
              "Еще.студент                            0\n",
              "Уровень.английского                    0\n",
              "Предметная.область                   223\n",
              "Дата.заполнения                        0\n",
              "User.Agent                             0\n",
              "exp                                    0\n",
              "current_job_exp                        0\n",
              "salary                                 0\n",
              "Валюта                              8694\n",
              "cls                                 1574\n",
              "dtype: int64"
            ]
          },
          "metadata": {},
          "execution_count": 41
        }
      ]
    },
    {
      "cell_type": "markdown",
      "metadata": {
        "id": "mfxeyhTh_SLd"
      },
      "source": [
        "Удалите все столбцы с пропусками, кроме столбца \"Язык.программирования\""
      ]
    },
    {
      "cell_type": "code",
      "metadata": {
        "colab": {
          "base_uri": "https://localhost:8080/"
        },
        "id": "Hbz3y192_WP6",
        "outputId": "fb6f8b1c-5e52-484c-80e4-8865e06bcb8c"
      },
      "source": [
        "jun_final = jun_final.drop([\"cls\", \"Валюта\", \"Предметная.область\", \"Университет\", \"Специализация\"], axis=1)\n",
        "jun_final.isnull().sum(axis = 0, skipna = True)"
      ],
      "execution_count": 42,
      "outputs": [
        {
          "output_type": "execute_result",
          "data": {
            "text/plain": [
              "N                                      0\n",
              "Должность                              0\n",
              "Язык.программирования               3850\n",
              "Общий.опыт.работы                      0\n",
              "Опыт.работы.на.текущем.месте           0\n",
              "Зарплата.в.месяц                       0\n",
              "Изменение.зарплаты.за.12.месяцев       0\n",
              "Город                                  0\n",
              "Размер.компании                        0\n",
              "Тип.компании                           0\n",
              "Пол                                    0\n",
              "Возраст                                0\n",
              "Образование                            0\n",
              "Еще.студент                            0\n",
              "Уровень.английского                    0\n",
              "Дата.заполнения                        0\n",
              "User.Agent                             0\n",
              "exp                                    0\n",
              "current_job_exp                        0\n",
              "salary                                 0\n",
              "dtype: int64"
            ]
          },
          "metadata": {},
          "execution_count": 42
        }
      ]
    },
    {
      "cell_type": "markdown",
      "metadata": {
        "id": "r1fvEypzCAmz"
      },
      "source": [
        "Удалите все строки в исходной таблице с помощью метода dropna"
      ]
    },
    {
      "cell_type": "code",
      "metadata": {
        "id": "tWgg3QEeCMb6"
      },
      "source": [
        "jun_final = jun_final.dropna()"
      ],
      "execution_count": 43,
      "outputs": []
    },
    {
      "cell_type": "markdown",
      "metadata": {
        "id": "csgwSKkGCsBA"
      },
      "source": [
        "Определите новый размер таблицы с помощью метода shape"
      ]
    },
    {
      "cell_type": "code",
      "metadata": {
        "colab": {
          "base_uri": "https://localhost:8080/"
        },
        "id": "iQIlMNCVCvEI",
        "outputId": "38a24867-c7f4-49f7-a455-947dc4fc9fb1"
      },
      "source": [
        "jun_final.shape"
      ],
      "execution_count": 44,
      "outputs": [
        {
          "output_type": "execute_result",
          "data": {
            "text/plain": [
              "(4854, 20)"
            ]
          },
          "metadata": {},
          "execution_count": 44
        }
      ]
    },
    {
      "cell_type": "markdown",
      "metadata": {
        "id": "JW_DizZIC7_w"
      },
      "source": [
        "Создайте новую таблицу python_data в которой будут только строки со специалистами указавшими язык программирования Python"
      ]
    },
    {
      "cell_type": "code",
      "metadata": {
        "colab": {
          "base_uri": "https://localhost:8080/",
          "height": 428
        },
        "id": "tHQkaJaTDB-X",
        "outputId": "964b4ba2-c261-47f6-8ff8-2fda584852ce"
      },
      "source": [
        "python_data = jun_final[jun_final['Язык.программирования'] == 'Python']\n",
        "python_data.head()"
      ],
      "execution_count": 45,
      "outputs": [
        {
          "output_type": "execute_result",
          "data": {
            "text/html": [
              "<div>\n",
              "<style scoped>\n",
              "    .dataframe tbody tr th:only-of-type {\n",
              "        vertical-align: middle;\n",
              "    }\n",
              "\n",
              "    .dataframe tbody tr th {\n",
              "        vertical-align: top;\n",
              "    }\n",
              "\n",
              "    .dataframe thead th {\n",
              "        text-align: right;\n",
              "    }\n",
              "</style>\n",
              "<table border=\"1\" class=\"dataframe\">\n",
              "  <thead>\n",
              "    <tr style=\"text-align: right;\">\n",
              "      <th></th>\n",
              "      <th>N</th>\n",
              "      <th>Должность</th>\n",
              "      <th>Язык.программирования</th>\n",
              "      <th>Общий.опыт.работы</th>\n",
              "      <th>Опыт.работы.на.текущем.месте</th>\n",
              "      <th>Зарплата.в.месяц</th>\n",
              "      <th>Изменение.зарплаты.за.12.месяцев</th>\n",
              "      <th>Город</th>\n",
              "      <th>Размер.компании</th>\n",
              "      <th>Тип.компании</th>\n",
              "      <th>Пол</th>\n",
              "      <th>Возраст</th>\n",
              "      <th>Образование</th>\n",
              "      <th>Еще.студент</th>\n",
              "      <th>Уровень.английского</th>\n",
              "      <th>Дата.заполнения</th>\n",
              "      <th>User.Agent</th>\n",
              "      <th>exp</th>\n",
              "      <th>current_job_exp</th>\n",
              "      <th>salary</th>\n",
              "    </tr>\n",
              "  </thead>\n",
              "  <tbody>\n",
              "    <tr>\n",
              "      <th>12</th>\n",
              "      <td>13</td>\n",
              "      <td>Software Engineer</td>\n",
              "      <td>Python</td>\n",
              "      <td>1</td>\n",
              "      <td>меньше 3 месяцев</td>\n",
              "      <td>800</td>\n",
              "      <td>200</td>\n",
              "      <td>Киев</td>\n",
              "      <td>до 50 человек</td>\n",
              "      <td>Аутсорсинговая</td>\n",
              "      <td>мужской</td>\n",
              "      <td>26</td>\n",
              "      <td>Высшее</td>\n",
              "      <td>False</td>\n",
              "      <td>ниже среднего</td>\n",
              "      <td>12/06/2017 13:05:54</td>\n",
              "      <td>Mozilla/5.0 (Windows NT 6.1; Win64; x64) Apple...</td>\n",
              "      <td>1.0</td>\n",
              "      <td>0.0</td>\n",
              "      <td>800</td>\n",
              "    </tr>\n",
              "    <tr>\n",
              "      <th>68</th>\n",
              "      <td>69</td>\n",
              "      <td>Software Engineer</td>\n",
              "      <td>Python</td>\n",
              "      <td>1.5</td>\n",
              "      <td>0.5</td>\n",
              "      <td>900</td>\n",
              "      <td>900</td>\n",
              "      <td>Киев</td>\n",
              "      <td>до 10 человек</td>\n",
              "      <td>Стартап</td>\n",
              "      <td>мужской</td>\n",
              "      <td>21</td>\n",
              "      <td>Незаконченное высшее</td>\n",
              "      <td>True</td>\n",
              "      <td>выше среднего</td>\n",
              "      <td>12/06/2017 13:11:17</td>\n",
              "      <td>Mozilla/5.0 (Windows NT 10.0; Win64; x64) Appl...</td>\n",
              "      <td>1.5</td>\n",
              "      <td>0.5</td>\n",
              "      <td>900</td>\n",
              "    </tr>\n",
              "    <tr>\n",
              "      <th>87</th>\n",
              "      <td>88</td>\n",
              "      <td>Junior Software Engineer</td>\n",
              "      <td>Python</td>\n",
              "      <td>0.5</td>\n",
              "      <td>0.5</td>\n",
              "      <td>600</td>\n",
              "      <td>0</td>\n",
              "      <td>Киев</td>\n",
              "      <td>до 10 человек</td>\n",
              "      <td>Аутсорсинговая</td>\n",
              "      <td>мужской</td>\n",
              "      <td>19</td>\n",
              "      <td>Незаконченное высшее</td>\n",
              "      <td>True</td>\n",
              "      <td>выше среднего</td>\n",
              "      <td>12/06/2017 13:12:25</td>\n",
              "      <td>Mozilla/5.0 (X11; Linux x86_64) AppleWebKit/53...</td>\n",
              "      <td>0.5</td>\n",
              "      <td>0.5</td>\n",
              "      <td>600</td>\n",
              "    </tr>\n",
              "    <tr>\n",
              "      <th>114</th>\n",
              "      <td>115</td>\n",
              "      <td>Junior Software Engineer</td>\n",
              "      <td>Python</td>\n",
              "      <td>1.5</td>\n",
              "      <td>0.5</td>\n",
              "      <td>685</td>\n",
              "      <td>250</td>\n",
              "      <td>Киев</td>\n",
              "      <td>до 1000 человек</td>\n",
              "      <td>Аутсорсинговая</td>\n",
              "      <td>мужской</td>\n",
              "      <td>21</td>\n",
              "      <td>Незаконченное высшее</td>\n",
              "      <td>False</td>\n",
              "      <td>средний</td>\n",
              "      <td>12/06/2017 13:14:52</td>\n",
              "      <td>Mozilla/5.0 (X11; Linux x86_64) AppleWebKit/53...</td>\n",
              "      <td>1.5</td>\n",
              "      <td>0.5</td>\n",
              "      <td>685</td>\n",
              "    </tr>\n",
              "    <tr>\n",
              "      <th>143</th>\n",
              "      <td>144</td>\n",
              "      <td>Junior Software Engineer</td>\n",
              "      <td>Python</td>\n",
              "      <td>1</td>\n",
              "      <td>1</td>\n",
              "      <td>750</td>\n",
              "      <td>250</td>\n",
              "      <td>Киев</td>\n",
              "      <td>до 10 человек</td>\n",
              "      <td>Аутсорсинговая</td>\n",
              "      <td>мужской</td>\n",
              "      <td>21</td>\n",
              "      <td>Незаконченное высшее</td>\n",
              "      <td>True</td>\n",
              "      <td>выше среднего</td>\n",
              "      <td>12/06/2017 13:19:10</td>\n",
              "      <td>Mozilla/5.0 (X11; Linux x86_64) AppleWebKit/53...</td>\n",
              "      <td>1.0</td>\n",
              "      <td>1.0</td>\n",
              "      <td>750</td>\n",
              "    </tr>\n",
              "  </tbody>\n",
              "</table>\n",
              "</div>"
            ],
            "text/plain": [
              "       N                 Должность  ... current_job_exp salary\n",
              "12    13         Software Engineer  ...             0.0    800\n",
              "68    69         Software Engineer  ...             0.5    900\n",
              "87    88  Junior Software Engineer  ...             0.5    600\n",
              "114  115  Junior Software Engineer  ...             0.5    685\n",
              "143  144  Junior Software Engineer  ...             1.0    750\n",
              "\n",
              "[5 rows x 20 columns]"
            ]
          },
          "metadata": {},
          "execution_count": 45
        }
      ]
    },
    {
      "cell_type": "markdown",
      "metadata": {
        "id": "z7lB4bvIGYuY"
      },
      "source": [
        "Определите размер таблицы python_data с помощью метода shape"
      ]
    },
    {
      "cell_type": "code",
      "metadata": {
        "colab": {
          "base_uri": "https://localhost:8080/"
        },
        "id": "wE1GUhJtGZK0",
        "outputId": "ba29e7ff-b26a-4a45-e155-b5cb712daa57"
      },
      "source": [
        "python_data.shape"
      ],
      "execution_count": 46,
      "outputs": [
        {
          "output_type": "execute_result",
          "data": {
            "text/plain": [
              "(207, 20)"
            ]
          },
          "metadata": {},
          "execution_count": 46
        }
      ]
    },
    {
      "cell_type": "markdown",
      "metadata": {
        "id": "S0-9rCHIGhYe"
      },
      "source": [
        "Используя метод groupby выполните группировку по столбцу \"Должность\""
      ]
    },
    {
      "cell_type": "code",
      "metadata": {
        "colab": {
          "base_uri": "https://localhost:8080/",
          "height": 476
        },
        "id": "eb1yIk1rGvhP",
        "outputId": "2dd8282e-19ec-4d6a-b166-eeb81be38321"
      },
      "source": [
        "group_by_position = python_data.groupby(\"Должность\")\n",
        "group_by_position.first()"
      ],
      "execution_count": 49,
      "outputs": [
        {
          "output_type": "execute_result",
          "data": {
            "text/html": [
              "<div>\n",
              "<style scoped>\n",
              "    .dataframe tbody tr th:only-of-type {\n",
              "        vertical-align: middle;\n",
              "    }\n",
              "\n",
              "    .dataframe tbody tr th {\n",
              "        vertical-align: top;\n",
              "    }\n",
              "\n",
              "    .dataframe thead th {\n",
              "        text-align: right;\n",
              "    }\n",
              "</style>\n",
              "<table border=\"1\" class=\"dataframe\">\n",
              "  <thead>\n",
              "    <tr style=\"text-align: right;\">\n",
              "      <th></th>\n",
              "      <th>N</th>\n",
              "      <th>Язык.программирования</th>\n",
              "      <th>Общий.опыт.работы</th>\n",
              "      <th>Опыт.работы.на.текущем.месте</th>\n",
              "      <th>Зарплата.в.месяц</th>\n",
              "      <th>Изменение.зарплаты.за.12.месяцев</th>\n",
              "      <th>Город</th>\n",
              "      <th>Размер.компании</th>\n",
              "      <th>Тип.компании</th>\n",
              "      <th>Пол</th>\n",
              "      <th>Возраст</th>\n",
              "      <th>Образование</th>\n",
              "      <th>Еще.студент</th>\n",
              "      <th>Уровень.английского</th>\n",
              "      <th>Дата.заполнения</th>\n",
              "      <th>User.Agent</th>\n",
              "      <th>exp</th>\n",
              "      <th>current_job_exp</th>\n",
              "      <th>salary</th>\n",
              "    </tr>\n",
              "    <tr>\n",
              "      <th>Должность</th>\n",
              "      <th></th>\n",
              "      <th></th>\n",
              "      <th></th>\n",
              "      <th></th>\n",
              "      <th></th>\n",
              "      <th></th>\n",
              "      <th></th>\n",
              "      <th></th>\n",
              "      <th></th>\n",
              "      <th></th>\n",
              "      <th></th>\n",
              "      <th></th>\n",
              "      <th></th>\n",
              "      <th></th>\n",
              "      <th></th>\n",
              "      <th></th>\n",
              "      <th></th>\n",
              "      <th></th>\n",
              "      <th></th>\n",
              "    </tr>\n",
              "  </thead>\n",
              "  <tbody>\n",
              "    <tr>\n",
              "      <th>Junior Software Engineer</th>\n",
              "      <td>88</td>\n",
              "      <td>Python</td>\n",
              "      <td>0.5</td>\n",
              "      <td>0.5</td>\n",
              "      <td>600</td>\n",
              "      <td>0</td>\n",
              "      <td>Киев</td>\n",
              "      <td>до 10 человек</td>\n",
              "      <td>Аутсорсинговая</td>\n",
              "      <td>мужской</td>\n",
              "      <td>19</td>\n",
              "      <td>Незаконченное высшее</td>\n",
              "      <td>True</td>\n",
              "      <td>выше среднего</td>\n",
              "      <td>12/06/2017 13:12:25</td>\n",
              "      <td>Mozilla/5.0 (X11; Linux x86_64) AppleWebKit/53...</td>\n",
              "      <td>0.5</td>\n",
              "      <td>0.50</td>\n",
              "      <td>600</td>\n",
              "    </tr>\n",
              "    <tr>\n",
              "      <th>Senior Software Engineer</th>\n",
              "      <td>303</td>\n",
              "      <td>Python</td>\n",
              "      <td>10 и более лет</td>\n",
              "      <td>0.5</td>\n",
              "      <td>3500</td>\n",
              "      <td>-300</td>\n",
              "      <td>Киев</td>\n",
              "      <td>до 200 человек</td>\n",
              "      <td>Продуктовая</td>\n",
              "      <td>мужской</td>\n",
              "      <td>30</td>\n",
              "      <td>Высшее</td>\n",
              "      <td>False</td>\n",
              "      <td>выше среднего</td>\n",
              "      <td>12/06/2017 13:46:24</td>\n",
              "      <td>Mozilla/5.0 (Windows NT 6.1; Win64; x64) Apple...</td>\n",
              "      <td>10.0</td>\n",
              "      <td>0.50</td>\n",
              "      <td>3500</td>\n",
              "    </tr>\n",
              "    <tr>\n",
              "      <th>Software Engineer</th>\n",
              "      <td>13</td>\n",
              "      <td>Python</td>\n",
              "      <td>1</td>\n",
              "      <td>меньше 3 месяцев</td>\n",
              "      <td>800</td>\n",
              "      <td>200</td>\n",
              "      <td>Киев</td>\n",
              "      <td>до 50 человек</td>\n",
              "      <td>Аутсорсинговая</td>\n",
              "      <td>мужской</td>\n",
              "      <td>26</td>\n",
              "      <td>Высшее</td>\n",
              "      <td>False</td>\n",
              "      <td>ниже среднего</td>\n",
              "      <td>12/06/2017 13:05:54</td>\n",
              "      <td>Mozilla/5.0 (Windows NT 6.1; Win64; x64) Apple...</td>\n",
              "      <td>1.0</td>\n",
              "      <td>0.00</td>\n",
              "      <td>800</td>\n",
              "    </tr>\n",
              "    <tr>\n",
              "      <th>System Architect</th>\n",
              "      <td>5749</td>\n",
              "      <td>Python</td>\n",
              "      <td>10 и более лет</td>\n",
              "      <td>0.25</td>\n",
              "      <td>3000</td>\n",
              "      <td>0</td>\n",
              "      <td>Киев</td>\n",
              "      <td>до 50 человек</td>\n",
              "      <td>Продуктовая</td>\n",
              "      <td>мужской</td>\n",
              "      <td>40</td>\n",
              "      <td>Высшее</td>\n",
              "      <td>False</td>\n",
              "      <td>выше среднего</td>\n",
              "      <td>20/06/2017 18:40:40</td>\n",
              "      <td>Mozilla/5.0 (X11; Ubuntu; Linux x86_64; rv:53....</td>\n",
              "      <td>10.0</td>\n",
              "      <td>0.25</td>\n",
              "      <td>3000</td>\n",
              "    </tr>\n",
              "    <tr>\n",
              "      <th>Technical Lead</th>\n",
              "      <td>2633</td>\n",
              "      <td>Python</td>\n",
              "      <td>4</td>\n",
              "      <td>1.5</td>\n",
              "      <td>3500</td>\n",
              "      <td>1000</td>\n",
              "      <td>Киев</td>\n",
              "      <td>до 50 человек</td>\n",
              "      <td>Продуктовая</td>\n",
              "      <td>мужской</td>\n",
              "      <td>23</td>\n",
              "      <td>Незаконченное высшее</td>\n",
              "      <td>False</td>\n",
              "      <td>выше среднего</td>\n",
              "      <td>13/06/2017 12:37:02</td>\n",
              "      <td>Mozilla/5.0 (Macintosh; Intel Mac OS X 10_12_5...</td>\n",
              "      <td>4.0</td>\n",
              "      <td>1.50</td>\n",
              "      <td>3500</td>\n",
              "    </tr>\n",
              "  </tbody>\n",
              "</table>\n",
              "</div>"
            ],
            "text/plain": [
              "                             N Язык.программирования  ... current_job_exp salary\n",
              "Должность                                             ...                       \n",
              "Junior Software Engineer    88                Python  ...            0.50    600\n",
              "Senior Software Engineer   303                Python  ...            0.50   3500\n",
              "Software Engineer           13                Python  ...            0.00    800\n",
              "System Architect          5749                Python  ...            0.25   3000\n",
              "Technical Lead            2633                Python  ...            1.50   3500\n",
              "\n",
              "[5 rows x 19 columns]"
            ]
          },
          "metadata": {},
          "execution_count": 49
        }
      ]
    },
    {
      "cell_type": "markdown",
      "metadata": {
        "id": "GecNHiHuJ0hG"
      },
      "source": [
        "Создайте новый DataFrame, где для сгруппированных данных по столбцу \"Должность\", выполните агрегацию данных с помощью метода agg и найдите минимальное и максимальное значение в столбце \"Зарплата.в.месяц\""
      ]
    },
    {
      "cell_type": "code",
      "metadata": {
        "colab": {
          "base_uri": "https://localhost:8080/",
          "height": 235
        },
        "id": "A3yFYoQ4J1rE",
        "outputId": "03d858b7-c13d-482c-8854-a730054dae69"
      },
      "source": [
        "import numpy as np\n",
        "\n",
        "\n",
        "group_by_position.agg({'Зарплата.в.месяц' : 'min', 'Зарплата.в.месяц' : 'max'})\n",
        "\n",
        "salary1 = group_by_position.agg({'Зарплата.в.месяц' : 'max'})\n",
        "salary1 = salary1.rename({\"Зарплата.в.месяц\" : \"max_salary\"}, axis=1)\n",
        "salary2 = group_by_position.agg({'Зарплата.в.месяц' : 'min'})\n",
        "salary2 = salary2.rename({\"Зарплата.в.месяц\" : \"min_salary\"}, axis=1)\n",
        "salary = pd.concat([salary1, salary2], axis=1)\n",
        "salary"
      ],
      "execution_count": 79,
      "outputs": [
        {
          "output_type": "execute_result",
          "data": {
            "text/html": [
              "<div>\n",
              "<style scoped>\n",
              "    .dataframe tbody tr th:only-of-type {\n",
              "        vertical-align: middle;\n",
              "    }\n",
              "\n",
              "    .dataframe tbody tr th {\n",
              "        vertical-align: top;\n",
              "    }\n",
              "\n",
              "    .dataframe thead th {\n",
              "        text-align: right;\n",
              "    }\n",
              "</style>\n",
              "<table border=\"1\" class=\"dataframe\">\n",
              "  <thead>\n",
              "    <tr style=\"text-align: right;\">\n",
              "      <th></th>\n",
              "      <th>max_salary</th>\n",
              "      <th>min_salary</th>\n",
              "    </tr>\n",
              "    <tr>\n",
              "      <th>Должность</th>\n",
              "      <th></th>\n",
              "      <th></th>\n",
              "    </tr>\n",
              "  </thead>\n",
              "  <tbody>\n",
              "    <tr>\n",
              "      <th>Junior Software Engineer</th>\n",
              "      <td>1250</td>\n",
              "      <td>100</td>\n",
              "    </tr>\n",
              "    <tr>\n",
              "      <th>Senior Software Engineer</th>\n",
              "      <td>9200</td>\n",
              "      <td>1300</td>\n",
              "    </tr>\n",
              "    <tr>\n",
              "      <th>Software Engineer</th>\n",
              "      <td>5400</td>\n",
              "      <td>500</td>\n",
              "    </tr>\n",
              "    <tr>\n",
              "      <th>System Architect</th>\n",
              "      <td>5000</td>\n",
              "      <td>3000</td>\n",
              "    </tr>\n",
              "    <tr>\n",
              "      <th>Technical Lead</th>\n",
              "      <td>6200</td>\n",
              "      <td>1425</td>\n",
              "    </tr>\n",
              "  </tbody>\n",
              "</table>\n",
              "</div>"
            ],
            "text/plain": [
              "                          max_salary  min_salary\n",
              "Должность                                       \n",
              "Junior Software Engineer        1250         100\n",
              "Senior Software Engineer        9200        1300\n",
              "Software Engineer               5400         500\n",
              "System Architect                5000        3000\n",
              "Technical Lead                  6200        1425"
            ]
          },
          "metadata": {},
          "execution_count": 79
        }
      ]
    },
    {
      "cell_type": "markdown",
      "metadata": {
        "id": "y26uzL_QNpKL"
      },
      "source": [
        "Создайте функцию fill_avg_salary которая будет возвращать среднее значение заработной платы в месяц. Используйте ее для метода apply и создайте новый столбик \"avg\""
      ]
    },
    {
      "cell_type": "code",
      "metadata": {
        "colab": {
          "base_uri": "https://localhost:8080/",
          "height": 235
        },
        "id": "LkwULf_4Wo-a",
        "outputId": "7dc9a9f3-823b-4b46-b088-7de4023d8fb9"
      },
      "source": [
        "salary_mean = salary.apply(np.mean, axis=1) \n",
        "salary[\"avg_salary\"] = [s for s in salary_mean]\n",
        "salary"
      ],
      "execution_count": 103,
      "outputs": [
        {
          "output_type": "execute_result",
          "data": {
            "text/html": [
              "<div>\n",
              "<style scoped>\n",
              "    .dataframe tbody tr th:only-of-type {\n",
              "        vertical-align: middle;\n",
              "    }\n",
              "\n",
              "    .dataframe tbody tr th {\n",
              "        vertical-align: top;\n",
              "    }\n",
              "\n",
              "    .dataframe thead th {\n",
              "        text-align: right;\n",
              "    }\n",
              "</style>\n",
              "<table border=\"1\" class=\"dataframe\">\n",
              "  <thead>\n",
              "    <tr style=\"text-align: right;\">\n",
              "      <th></th>\n",
              "      <th>max_salary</th>\n",
              "      <th>min_salary</th>\n",
              "      <th>avg_salary</th>\n",
              "    </tr>\n",
              "    <tr>\n",
              "      <th>Должность</th>\n",
              "      <th></th>\n",
              "      <th></th>\n",
              "      <th></th>\n",
              "    </tr>\n",
              "  </thead>\n",
              "  <tbody>\n",
              "    <tr>\n",
              "      <th>Junior Software Engineer</th>\n",
              "      <td>1250</td>\n",
              "      <td>100</td>\n",
              "      <td>675.0</td>\n",
              "    </tr>\n",
              "    <tr>\n",
              "      <th>Senior Software Engineer</th>\n",
              "      <td>9200</td>\n",
              "      <td>1300</td>\n",
              "      <td>5250.0</td>\n",
              "    </tr>\n",
              "    <tr>\n",
              "      <th>Software Engineer</th>\n",
              "      <td>5400</td>\n",
              "      <td>500</td>\n",
              "      <td>2950.0</td>\n",
              "    </tr>\n",
              "    <tr>\n",
              "      <th>System Architect</th>\n",
              "      <td>5000</td>\n",
              "      <td>3000</td>\n",
              "      <td>4000.0</td>\n",
              "    </tr>\n",
              "    <tr>\n",
              "      <th>Technical Lead</th>\n",
              "      <td>6200</td>\n",
              "      <td>1425</td>\n",
              "      <td>3812.5</td>\n",
              "    </tr>\n",
              "  </tbody>\n",
              "</table>\n",
              "</div>"
            ],
            "text/plain": [
              "                          max_salary  min_salary  avg_salary\n",
              "Должность                                                   \n",
              "Junior Software Engineer        1250         100       675.0\n",
              "Senior Software Engineer        9200        1300      5250.0\n",
              "Software Engineer               5400         500      2950.0\n",
              "System Architect                5000        3000      4000.0\n",
              "Technical Lead                  6200        1425      3812.5"
            ]
          },
          "metadata": {},
          "execution_count": 103
        }
      ]
    },
    {
      "cell_type": "markdown",
      "metadata": {
        "id": "AaOblOpFc_wm"
      },
      "source": [
        "Создайте описательную статистику с помощью метода describe для нового столбца."
      ]
    },
    {
      "cell_type": "code",
      "metadata": {
        "colab": {
          "base_uri": "https://localhost:8080/"
        },
        "id": "Bua2cwvMNqkf",
        "outputId": "194a8608-da40-4c0c-ff6f-87f6bc00f428"
      },
      "source": [
        "salary['avg_salary'].describe()"
      ],
      "execution_count": 104,
      "outputs": [
        {
          "output_type": "execute_result",
          "data": {
            "text/plain": [
              "count       5.000000\n",
              "mean     3337.500000\n",
              "std      1700.091909\n",
              "min       675.000000\n",
              "25%      2950.000000\n",
              "50%      3812.500000\n",
              "75%      4000.000000\n",
              "max      5250.000000\n",
              "Name: avg_salary, dtype: float64"
            ]
          },
          "metadata": {},
          "execution_count": 104
        }
      ]
    },
    {
      "cell_type": "markdown",
      "metadata": {
        "id": "SS4ZrGJRdq7s"
      },
      "source": [
        "Сохраните полученную таблицу в CSV файл"
      ]
    },
    {
      "cell_type": "code",
      "metadata": {
        "id": "vM8w6a8LdzVF"
      },
      "source": [
        "salary.to_csv('salary_python_jun_final.csv')"
      ],
      "execution_count": 105,
      "outputs": []
    }
  ]
}