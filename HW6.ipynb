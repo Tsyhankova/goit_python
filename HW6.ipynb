{
  "nbformat": 4,
  "nbformat_minor": 5,
  "metadata": {
    "kernelspec": {
      "display_name": "Python 3",
      "language": "python",
      "name": "python3"
    },
    "language_info": {
      "codemirror_mode": {
        "name": "ipython",
        "version": 3
      },
      "file_extension": ".py",
      "mimetype": "text/x-python",
      "name": "python",
      "nbconvert_exporter": "python",
      "pygments_lexer": "ipython3",
      "version": "3.8.8"
    },
    "colab": {
      "name": "HW6.ipynb",
      "provenance": [],
      "include_colab_link": true
    }
  },
  "cells": [
    {
      "cell_type": "markdown",
      "metadata": {
        "id": "view-in-github",
        "colab_type": "text"
      },
      "source": [
        "<a href=\"https://colab.research.google.com/github/Tsyhankova/goit_python/blob/main/HW6.ipynb\" target=\"_parent\"><img src=\"https://colab.research.google.com/assets/colab-badge.svg\" alt=\"Open In Colab\"/></a>"
      ]
    },
    {
      "cell_type": "code",
      "metadata": {
        "id": "31d84ac7",
        "outputId": "04f9e1c0-f172-4ca8-d997-147dc69bc99b"
      },
      "source": [
        "pip install pyspark"
      ],
      "id": "31d84ac7",
      "execution_count": null,
      "outputs": [
        {
          "name": "stdout",
          "output_type": "stream",
          "text": [
            "Requirement already satisfied: pyspark in c:\\users\\me\\anaconda3\\lib\\site-packages (3.2.0)Note: you may need to restart the kernel to use updated packages.\n",
            "Requirement already satisfied: py4j==0.10.9.2 in c:\\users\\me\\anaconda3\\lib\\site-packages (from pyspark) (0.10.9.2)\n",
            "\n"
          ]
        }
      ]
    },
    {
      "cell_type": "markdown",
      "metadata": {
        "id": "6ff2ce24"
      },
      "source": [
        "# Создать спарк сессию."
      ],
      "id": "6ff2ce24"
    },
    {
      "cell_type": "code",
      "metadata": {
        "id": "926aeef0"
      },
      "source": [
        "import pandas as pd\n",
        "import pyspark\n",
        "\n",
        "from pyspark.sql import Row\n",
        "from pyspark.sql import SparkSession\n",
        "\n",
        "\n",
        "spark = SparkSession.builder.getOrCreate()"
      ],
      "id": "926aeef0",
      "execution_count": null,
      "outputs": []
    },
    {
      "cell_type": "markdown",
      "metadata": {
        "id": "cb419eba"
      },
      "source": [
        "# Прочитать датасет в датафрейм."
      ],
      "id": "cb419eba"
    },
    {
      "cell_type": "code",
      "metadata": {
        "id": "670154a2"
      },
      "source": [
        "df = spark.read.format(\"csv\").load(\"bestsellers with categories.csv\", header=True)"
      ],
      "id": "670154a2",
      "execution_count": null,
      "outputs": []
    },
    {
      "cell_type": "code",
      "metadata": {
        "id": "6340ad76",
        "outputId": "1f7a49db-0dfb-49b6-8678-617b91522ff8"
      },
      "source": [
        "print(df.show())"
      ],
      "id": "6340ad76",
      "execution_count": null,
      "outputs": [
        {
          "name": "stdout",
          "output_type": "stream",
          "text": [
            "+--------------------+--------------------+-----------+-------+-----+----+-----------+\n",
            "|                Name|              Author|User Rating|Reviews|Price|Year|      Genre|\n",
            "+--------------------+--------------------+-----------+-------+-----+----+-----------+\n",
            "|10-Day Green Smoo...|            JJ Smith|        4.7|  17350|    8|2016|Non Fiction|\n",
            "|   11/22/63: A Novel|        Stephen King|        4.6|   2052|   22|2011|    Fiction|\n",
            "|12 Rules for Life...|  Jordan B. Peterson|        4.7|  18979|   15|2018|Non Fiction|\n",
            "|1984 (Signet Clas...|       George Orwell|        4.7|  21424|    6|2017|    Fiction|\n",
            "|5,000 Awesome Fac...|National Geograph...|        4.8|   7665|   12|2019|Non Fiction|\n",
            "|A Dance with Drag...| George R. R. Martin|        4.4|  12643|   11|2011|    Fiction|\n",
            "|A Game of Thrones...| George R. R. Martin|        4.7|  19735|   30|2014|    Fiction|\n",
            "|A Gentleman in Mo...|         Amor Towles|        4.7|  19699|   15|2017|    Fiction|\n",
            "|A Higher Loyalty:...|         James Comey|        4.7|   5983|    3|2018|Non Fiction|\n",
            "|A Man Called Ove:...|     Fredrik Backman|        4.6|  23848|    8|2016|    Fiction|\n",
            "|A Man Called Ove:...|     Fredrik Backman|        4.6|  23848|    8|2017|    Fiction|\n",
            "|A Patriot's Histo...|    Larry Schweikart|        4.6|    460|    2|2010|Non Fiction|\n",
            "|A Stolen Life: A ...|       Jaycee Dugard|        4.6|   4149|   32|2011|Non Fiction|\n",
            "|A Wrinkle in Time...|   Madeleine L'Engle|        4.5|   5153|    5|2018|    Fiction|\n",
            "|Act Like a Lady, ...|        Steve Harvey|        4.6|   5013|   17|2009|Non Fiction|\n",
            "|Adult Coloring Bo...|Adult Coloring Bo...|        4.5|   2313|    4|2016|Non Fiction|\n",
            "|Adult Coloring Bo...|  Blue Star Coloring|        4.6|   2925|    6|2015|Non Fiction|\n",
            "|Adult Coloring Bo...|  Blue Star Coloring|        4.4|   2951|    6|2015|Non Fiction|\n",
            "|Adult Coloring Bo...|Coloring Books fo...|        4.5|   2426|    8|2015|Non Fiction|\n",
            "|  Alexander Hamilton|         Ron Chernow|        4.8|   9198|   13|2016|Non Fiction|\n",
            "+--------------------+--------------------+-----------+-------+-----+----+-----------+\n",
            "only showing top 20 rows\n",
            "\n",
            "None\n"
          ]
        }
      ]
    },
    {
      "cell_type": "markdown",
      "metadata": {
        "id": "fe4d94dc"
      },
      "source": [
        "# Используя только RDD вычислить среднюю цену всех книг, у которых рейтинг выше 4.7"
      ],
      "id": "fe4d94dc"
    },
    {
      "cell_type": "code",
      "metadata": {
        "id": "55707d86"
      },
      "source": [
        "from pyspark.sql.functions import col\n",
        "user_rating = df.select(col(\"User Rating\").alias(\"User_rating\"))"
      ],
      "id": "55707d86",
      "execution_count": null,
      "outputs": []
    },
    {
      "cell_type": "code",
      "metadata": {
        "id": "e4e825a3"
      },
      "source": [
        "from pyspark.sql.functions import mean, stddev, round as _round"
      ],
      "id": "e4e825a3",
      "execution_count": null,
      "outputs": []
    },
    {
      "cell_type": "code",
      "metadata": {
        "id": "95803622"
      },
      "source": [
        "user_rating = user_rating.filter(\"User_rating >= 4.7\")"
      ],
      "id": "95803622",
      "execution_count": null,
      "outputs": []
    },
    {
      "cell_type": "code",
      "metadata": {
        "id": "e023ab34",
        "outputId": "c7e95459-4a62-4540-c076-eee00b43e55b"
      },
      "source": [
        "user_rating.select(\n",
        "    mean(\"User_rating\").alias(\"average rating\")).show()"
      ],
      "id": "e023ab34",
      "execution_count": null,
      "outputs": [
        {
          "name": "stdout",
          "output_type": "stream",
          "text": [
            "+-----------------+\n",
            "|   average rating|\n",
            "+-----------------+\n",
            "|4.780487804878049|\n",
            "+-----------------+\n",
            "\n"
          ]
        }
      ]
    },
    {
      "cell_type": "markdown",
      "metadata": {
        "id": "c0ffd3b0"
      },
      "source": [
        "# Построить гистограмму распределения рецензий (столбец Reviews)."
      ],
      "id": "c0ffd3b0"
    },
    {
      "cell_type": "code",
      "metadata": {
        "id": "c96c61d1"
      },
      "source": [
        "reviews = df.select(\"Reviews\")"
      ],
      "id": "c96c61d1",
      "execution_count": null,
      "outputs": []
    },
    {
      "cell_type": "code",
      "metadata": {
        "id": "60f9abc5",
        "outputId": "359d4739-3f41-4b79-bdee-0fbaafffc325"
      },
      "source": [
        "reviews.show(5)"
      ],
      "id": "60f9abc5",
      "execution_count": null,
      "outputs": [
        {
          "name": "stdout",
          "output_type": "stream",
          "text": [
            "+-------+\n",
            "|Reviews|\n",
            "+-------+\n",
            "|  17350|\n",
            "|   2052|\n",
            "|  18979|\n",
            "|  21424|\n",
            "|   7665|\n",
            "+-------+\n",
            "only showing top 5 rows\n",
            "\n"
          ]
        }
      ]
    },
    {
      "cell_type": "code",
      "metadata": {
        "id": "f3335fbc",
        "outputId": "8b649667-f4cb-4b00-c6b1-222b20f286f5"
      },
      "source": [
        "(reviews.toPandas()[[\"Reviews\"]]).astype('float64').hist(column = \"Reviews\" )"
      ],
      "id": "f3335fbc",
      "execution_count": null,
      "outputs": [
        {
          "data": {
            "text/plain": [
              "array([[<AxesSubplot:title={'center':'Reviews'}>]], dtype=object)"
            ]
          },
          "execution_count": 229,
          "metadata": {},
          "output_type": "execute_result"
        },
        {
          "data": {
            "image/png": "[encoded data removed]",
            "text/plain": [
              "<Figure size 432x288 with 1 Axes>"
            ]
          },
          "metadata": {
            "needs_background": "light"
          },
          "output_type": "display_data"
        }
      ]
    },
    {
      "cell_type": "markdown",
      "metadata": {
        "id": "c8c3969b"
      },
      "source": [
        "# Построить матрицу корреляции для столбцов \"User Rating\", \"Reviews\" и \"Price\"."
      ],
      "id": "c8c3969b"
    },
    {
      "cell_type": "code",
      "metadata": {
        "id": "bf1cbbf3"
      },
      "source": [
        "df_num = df.select(df[\"User Rating\"].cast(\"float\"), df.Reviews.cast(\"float\"), df.Price.cast(\"float\"))"
      ],
      "id": "bf1cbbf3",
      "execution_count": null,
      "outputs": []
    },
    {
      "cell_type": "code",
      "metadata": {
        "id": "02360219",
        "outputId": "af6676ad-b3e2-45b8-d93a-33845d6c4d90"
      },
      "source": [
        "df_num.toPandas().corr().abs()"
      ],
      "id": "02360219",
      "execution_count": null,
      "outputs": [
        {
          "data": {
            "text/html": [
              "<div>\n",
              "<style scoped>\n",
              "    .dataframe tbody tr th:only-of-type {\n",
              "        vertical-align: middle;\n",
              "    }\n",
              "\n",
              "    .dataframe tbody tr th {\n",
              "        vertical-align: top;\n",
              "    }\n",
              "\n",
              "    .dataframe thead th {\n",
              "        text-align: right;\n",
              "    }\n",
              "</style>\n",
              "<table border=\"1\" class=\"dataframe\">\n",
              "  <thead>\n",
              "    <tr style=\"text-align: right;\">\n",
              "      <th></th>\n",
              "      <th>User Rating</th>\n",
              "      <th>Reviews</th>\n",
              "      <th>Price</th>\n",
              "    </tr>\n",
              "  </thead>\n",
              "  <tbody>\n",
              "    <tr>\n",
              "      <th>User Rating</th>\n",
              "      <td>1.000000</td>\n",
              "      <td>0.001729</td>\n",
              "      <td>0.133086</td>\n",
              "    </tr>\n",
              "    <tr>\n",
              "      <th>Reviews</th>\n",
              "      <td>0.001729</td>\n",
              "      <td>1.000000</td>\n",
              "      <td>0.109182</td>\n",
              "    </tr>\n",
              "    <tr>\n",
              "      <th>Price</th>\n",
              "      <td>0.133086</td>\n",
              "      <td>0.109182</td>\n",
              "      <td>1.000000</td>\n",
              "    </tr>\n",
              "  </tbody>\n",
              "</table>\n",
              "</div>"
            ],
            "text/plain": [
              "             User Rating   Reviews     Price\n",
              "User Rating     1.000000  0.001729  0.133086\n",
              "Reviews         0.001729  1.000000  0.109182\n",
              "Price           0.133086  0.109182  1.000000"
            ]
          },
          "execution_count": 231,
          "metadata": {},
          "output_type": "execute_result"
        }
      ]
    },
    {
      "cell_type": "markdown",
      "metadata": {
        "id": "675f2a7a"
      },
      "source": [
        "# Используя библиотеку seaborn построить парные графики (pairplots) столбцов \"User Rating\", \"Reviews\" и \"Price\"."
      ],
      "id": "675f2a7a"
    },
    {
      "cell_type": "code",
      "metadata": {
        "id": "993340b5"
      },
      "source": [
        "import seaborn as sns\n",
        "import matplotlib.pyplot as plt"
      ],
      "id": "993340b5",
      "execution_count": null,
      "outputs": []
    },
    {
      "cell_type": "code",
      "metadata": {
        "id": "6eb56f1d"
      },
      "source": [
        "df_ = df_num.toPandas()"
      ],
      "id": "6eb56f1d",
      "execution_count": null,
      "outputs": []
    },
    {
      "cell_type": "code",
      "metadata": {
        "id": "c7e489c5",
        "outputId": "69d1bee4-74cd-45bb-9f0c-9a74cd6947cb"
      },
      "source": [
        "sns.pairplot(df_)"
      ],
      "id": "c7e489c5",
      "execution_count": null,
      "outputs": [
        {
          "data": {
            "text/plain": [
              "<seaborn.axisgrid.PairGrid at 0x4f474e06a0>"
            ]
          },
          "execution_count": 234,
          "metadata": {},
          "output_type": "execute_result"
        },
        {
          "data": {
            "image/png": "[encoded data removed]",
            "text/plain": [
              "<Figure size 540x540 with 12 Axes>"
            ]
          },
          "metadata": {
            "needs_background": "light"
          },
          "output_type": "display_data"
        }
      ]
    },
    {
      "cell_type": "markdown",
      "metadata": {
        "id": "5d18c69a"
      },
      "source": [
        "# Задание 2"
      ],
      "id": "5d18c69a"
    },
    {
      "cell_type": "markdown",
      "metadata": {
        "id": "57ff2c11"
      },
      "source": [
        "При выполнении этого задания разрешается использовать только Spark SQL. Для датасета из предыдущего задания выполните следующее:\n",
        "\n",
        "Найдите автора с самым высоким рейтингом. \n",
        "<b>Eсть не один автор с самым высоким рейтингом 4.9, вывожу в табл сразу 12 </b>"
      ],
      "id": "57ff2c11"
    },
    {
      "cell_type": "code",
      "metadata": {
        "id": "ec345b11"
      },
      "source": [
        "df.createOrReplaceTempView(\"df\")"
      ],
      "id": "ec345b11",
      "execution_count": null,
      "outputs": []
    },
    {
      "cell_type": "code",
      "metadata": {
        "id": "ef44323e",
        "outputId": "9d8908c9-11f7-4dba-a468-787f7944354a"
      },
      "source": [
        "spark.sql(\n",
        "    \"\"\"\n",
        "      Select \n",
        "        Author, avg(`User Rating`) as `Average Rating`\n",
        "      From df\n",
        "      Group By Author\n",
        "      Order by `Average Rating` desc\n",
        "      Limit 12\n",
        "    \"\"\"\n",
        ").show()"
      ],
      "id": "ef44323e",
      "execution_count": null,
      "outputs": [
        {
          "name": "stdout",
          "output_type": "stream",
          "text": [
            "+--------------------+------------------+\n",
            "|              Author|    Average Rating|\n",
            "+--------------------+------------------+\n",
            "|      Nathan W. Pyle|               4.9|\n",
            "|          Jill Twiss|               4.9|\n",
            "|       Rush Limbaugh|               4.9|\n",
            "|         Chip Gaines|               4.9|\n",
            "|  Lin-Manuel Miranda|               4.9|\n",
            "|      Alice Schertle|               4.9|\n",
            "|     Bill Martin Jr.|               4.9|\n",
            "|      Patrick Thorpe|               4.9|\n",
            "|Emily Winfield Ma...|               4.9|\n",
            "|          Pete Souza|               4.9|\n",
            "|Sherri Duskey Rinker|               4.9|\n",
            "|          Dav Pilkey|4.8999999999999995|\n",
            "+--------------------+------------------+\n",
            "\n"
          ]
        }
      ]
    },
    {
      "cell_type": "markdown",
      "metadata": {
        "id": "a93cbac9"
      },
      "source": [
        "Найдите трех авторов с самым низким рейтингом."
      ],
      "id": "a93cbac9"
    },
    {
      "cell_type": "code",
      "metadata": {
        "id": "0c430122",
        "outputId": "84e1be63-639d-45b5-bcad-4dbec1b0f242"
      },
      "source": [
        "spark.sql(\n",
        "    \"\"\"\n",
        "      Select \n",
        "        Author, avg(`User Rating`) as `Average Rating`\n",
        "      From df\n",
        "      Group By Author\n",
        "      Order by `Average Rating`\n",
        "      Limit 1\n",
        "    \"\"\"\n",
        ").show()"
      ],
      "id": "0c430122",
      "execution_count": null,
      "outputs": [
        {
          "name": "stdout",
          "output_type": "stream",
          "text": [
            "+-----------+--------------+\n",
            "|     Author|Average Rating|\n",
            "+-----------+--------------+\n",
            "|Donna Tartt|           3.9|\n",
            "+-----------+--------------+\n",
            "\n"
          ]
        }
      ]
    },
    {
      "cell_type": "markdown",
      "metadata": {
        "id": "91e88c47"
      },
      "source": [
        "Определите какой автор получил наибольшее количество рецензий."
      ],
      "id": "91e88c47"
    },
    {
      "cell_type": "code",
      "metadata": {
        "id": "0fabbf52",
        "outputId": "e4b9f758-9b41-4f38-b218-e154f29f79fa"
      },
      "source": [
        "df_rev = df.select(df[\"Reviews\"].cast(\"float\"), df[\"Author\"])\n",
        "df_rev.createOrReplaceTempView(\"df_rev\")\n",
        "\n",
        "spark.sql(\n",
        "    \"\"\"\n",
        "      Select Author, Reviews\n",
        "      From df_rev\n",
        "      Order by Reviews desc\n",
        "      Limit 1\n",
        "    \"\"\"\n",
        ").show()"
      ],
      "id": "0fabbf52",
      "execution_count": null,
      "outputs": [
        {
          "name": "stdout",
          "output_type": "stream",
          "text": [
            "+-----------+-------+\n",
            "|     Author|Reviews|\n",
            "+-----------+-------+\n",
            "|Delia Owens|87841.0|\n",
            "+-----------+-------+\n",
            "\n"
          ]
        }
      ]
    },
    {
      "cell_type": "markdown",
      "metadata": {
        "id": "01f381ca"
      },
      "source": [
        "Определите какой автор написал наибольшее количество книг за весь доступный в данных период."
      ],
      "id": "01f381ca"
    },
    {
      "cell_type": "code",
      "metadata": {
        "id": "f7124171",
        "outputId": "2b12db9b-0276-4c32-8ea1-4680b5b0a8a1"
      },
      "source": [
        "spark.sql(\n",
        "    \"\"\"\n",
        "      Select \n",
        "        Author, COUNT(*) AS `number of books`\n",
        "      From df\n",
        "      Group By Author\n",
        "      Order by `number of books` desc\n",
        "      Limit 1\n",
        "    \"\"\"\n",
        ").show()"
      ],
      "id": "f7124171",
      "execution_count": null,
      "outputs": [
        {
          "name": "stdout",
          "output_type": "stream",
          "text": [
            "+-----------+---------------+\n",
            "|     Author|number of books|\n",
            "+-----------+---------------+\n",
            "|Jeff Kinney|             12|\n",
            "+-----------+---------------+\n",
            "\n"
          ]
        }
      ]
    },
    {
      "cell_type": "markdown",
      "metadata": {
        "id": "bf8f17af"
      },
      "source": [
        "Определите какая книга жанра \"Fiction\" имеет самый маленький рейтинг."
      ],
      "id": "bf8f17af"
    },
    {
      "cell_type": "code",
      "metadata": {
        "id": "771490f6",
        "outputId": "e1321d2e-4c7b-483d-ac22-2bc647a5852e"
      },
      "source": [
        "spark.sql(\n",
        "    \"\"\"\n",
        "      Select \n",
        "        Name, `User Rating`, Genre, Author\n",
        "      From df\n",
        "      Where Genre = 'Fiction'\n",
        "      Order by `User Rating`\n",
        "      Limit 1\n",
        "    \"\"\"\n",
        ").show()"
      ],
      "id": "771490f6",
      "execution_count": null,
      "outputs": [
        {
          "name": "stdout",
          "output_type": "stream",
          "text": [
            "+------------------+-----------+-------+------------+\n",
            "|              Name|User Rating|  Genre|      Author|\n",
            "+------------------+-----------+-------+------------+\n",
            "|The Casual Vacancy|        3.3|Fiction|J.K. Rowling|\n",
            "+------------------+-----------+-------+------------+\n",
            "\n"
          ]
        }
      ]
    },
    {
      "cell_type": "markdown",
      "metadata": {
        "id": "f6efcaca"
      },
      "source": [
        "Определите какая книга жанра \"Non Fiction\" имеет самый высокий рейтинг. <b>Такая книга не одна, поэтому вывела 10 </b>"
      ],
      "id": "f6efcaca"
    },
    {
      "cell_type": "code",
      "metadata": {
        "id": "49924787",
        "outputId": "654cb5af-68c0-4b05-d640-e5aee158ea41"
      },
      "source": [
        "spark.sql(\n",
        "    \"\"\"\n",
        "      Select \n",
        "        Name, `User Rating`, Genre\n",
        "      From df\n",
        "      Where Genre = 'Non Fiction'\n",
        "      Order by `User Rating` desc\n",
        "      Limit 10\n",
        "    \"\"\"\n",
        ").show()"
      ],
      "id": "49924787",
      "execution_count": null,
      "outputs": [
        {
          "name": "stdout",
          "output_type": "stream",
          "text": [
            "+--------------------+-----------+-----------+\n",
            "|                Name|User Rating|      Genre|\n",
            "+--------------------+-----------+-----------+\n",
            "|Humans of New Yor...|        4.9|Non Fiction|\n",
            "|Unfreedom of the ...|        4.9|Non Fiction|\n",
            "|Jesus Calling: En...|        4.9|Non Fiction|\n",
            "|Jesus Calling: En...|        4.9|Non Fiction|\n",
            "|  The Magnolia Story|        4.9|Non Fiction|\n",
            "|Jesus Calling: En...|        4.9|Non Fiction|\n",
            "|Jesus Calling: En...|        4.9|Non Fiction|\n",
            "|Obama: An Intimat...|        4.9|Non Fiction|\n",
            "|Jesus Calling: En...|        4.9|Non Fiction|\n",
            "|Jesus Calling: En...|        4.9|Non Fiction|\n",
            "+--------------------+-----------+-----------+\n",
            "\n"
          ]
        }
      ]
    },
    {
      "cell_type": "markdown",
      "metadata": {
        "id": "d696255f"
      },
      "source": [
        "# Задание 3"
      ],
      "id": "d696255f"
    },
    {
      "cell_type": "markdown",
      "metadata": {
        "id": "e1184c8b"
      },
      "source": [
        "Постройте гистограмму среднего количества рецензий по годам. В виде отдельной гистограммы визуализируйте количество книг жанра \"Fiction\" и \"Non Fiction\" за весь доступный период."
      ],
      "id": "e1184c8b"
    },
    {
      "cell_type": "code",
      "metadata": {
        "id": "0d98cbcf",
        "outputId": "8fe2eb85-ff4a-47b5-e8d5-bdbc4f69e216"
      },
      "source": [
        "Avg_rev_by_y = spark.sql(\n",
        "    \"\"\"\n",
        "      Select\n",
        "        Year as `Year`, avg(`Reviews`) as `Average Reviews`\n",
        "      From df\n",
        "      Group by `Year`\n",
        "      Order by `Year`\n",
        "    \"\"\"\n",
        ")\n",
        "\n",
        "Avg_rev_by_year = Avg_rev_by_y.select(Avg_rev_by_y[\"Average Reviews\"].cast(\"float\"), Avg_rev_by_y[\"Year\"])\n",
        "\n",
        "Avg_rev_by_year.toPandas().plot(x=\"Year\", y=\"Average Reviews\", kind=\"bar\")"
      ],
      "id": "0d98cbcf",
      "execution_count": null,
      "outputs": [
        {
          "data": {
            "text/plain": [
              "<AxesSubplot:xlabel='Year'>"
            ]
          },
          "execution_count": 249,
          "metadata": {},
          "output_type": "execute_result"
        },
        {
          "data": {
            "image/png": "[encoded data removed]",
            "text/plain": [
              "<Figure size 432x288 with 1 Axes>"
            ]
          },
          "metadata": {
            "needs_background": "light"
          },
          "output_type": "display_data"
        }
      ]
    },
    {
      "cell_type": "code",
      "metadata": {
        "id": "79e6fd18",
        "outputId": "435a17c8-93ea-4667-a2d6-d63d2b162744"
      },
      "source": [
        "genre = spark.sql(\n",
        "    \"\"\"\n",
        "      Select\n",
        "        Genre, COUNT(*) AS `number of books`\n",
        "      From df\n",
        "      Group by Genre\n",
        "    \"\"\"\n",
        ")\n",
        "\n",
        "genre.show()"
      ],
      "id": "79e6fd18",
      "execution_count": null,
      "outputs": [
        {
          "name": "stdout",
          "output_type": "stream",
          "text": [
            "+-----------+---------------+\n",
            "|      Genre|number of books|\n",
            "+-----------+---------------+\n",
            "|    Fiction|            240|\n",
            "|Non Fiction|            310|\n",
            "+-----------+---------------+\n",
            "\n"
          ]
        }
      ]
    },
    {
      "cell_type": "code",
      "metadata": {
        "id": "d2307052",
        "outputId": "f13c4032-0fcd-4d30-9efe-00840276a5aa"
      },
      "source": [
        "genre.toPandas().plot(x=\"Genre\", y = \"number of books\", kind = \"pie\",\n",
        "                     title ='Genre', \n",
        "                     labels = ['Fiction', 'Non Fiction'], \n",
        "                     explode = [0.05, 0],\n",
        "                     autopct=\"%.2f%%\",\n",
        "                     startangle=140,\n",
        "                     pctdistance=0.8,\n",
        "                     labeldistance=1.05,\n",
        "                     colors=plt.cm.Set2.colors\n",
        ")"
      ],
      "id": "d2307052",
      "execution_count": null,
      "outputs": [
        {
          "data": {
            "text/plain": [
              "<AxesSubplot:title={'center':'Genre'}, ylabel='number of books'>"
            ]
          },
          "execution_count": 275,
          "metadata": {},
          "output_type": "execute_result"
        },
        {
          "data": {
            "image/png": "[encoded data removed]",
            "text/plain": [
              "<Figure size 432x288 with 1 Axes>"
            ]
          },
          "metadata": {},
          "output_type": "display_data"
        }
      ]
    },
    {
      "cell_type": "code",
      "metadata": {
        "id": "7145242f",
        "outputId": "61993d89-f190-41e0-f03d-38387c2ed50f"
      },
      "source": [
        "genre.toPandas().plot(x=\"Genre\", y = \"number of books\", kind=\"bar\")"
      ],
      "id": "7145242f",
      "execution_count": null,
      "outputs": [
        {
          "data": {
            "text/plain": [
              "<AxesSubplot:xlabel='Genre'>"
            ]
          },
          "execution_count": 277,
          "metadata": {},
          "output_type": "execute_result"
        },
        {
          "data": {
            "image/png": "[encoded data removed]",
            "text/plain": [
              "<Figure size 432x288 with 1 Axes>"
            ]
          },
          "metadata": {
            "needs_background": "light"
          },
          "output_type": "display_data"
        }
      ]
    },
    {
      "cell_type": "code",
      "metadata": {
        "id": "75b89561"
      },
      "source": [
        ""
      ],
      "id": "75b89561",
      "execution_count": null,
      "outputs": []
    }
  ]
}