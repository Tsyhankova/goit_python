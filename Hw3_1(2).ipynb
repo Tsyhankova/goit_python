{
  "nbformat": 4,
  "nbformat_minor": 0,
  "metadata": {
    "colab": {
      "name": "Hw3.1(2).ipynb",
      "provenance": [],
      "collapsed_sections": [],
      "authorship_tag": "ABX9TyP/c5YJ9FjYdU0TiLvnG88D",
      "include_colab_link": true
    },
    "kernelspec": {
      "name": "python3",
      "display_name": "Python 3"
    },
    "language_info": {
      "name": "python"
    }
  },
  "cells": [
    {
      "cell_type": "markdown",
      "metadata": {
        "id": "view-in-github",
        "colab_type": "text"
      },
      "source": [
        "<a href=\"https://colab.research.google.com/github/Tsyhankova/goit_python/blob/main/Hw3_1(2).ipynb\" target=\"_parent\"><img src=\"https://colab.research.google.com/assets/colab-badge.svg\" alt=\"Open In Colab\"/></a>"
      ]
    },
    {
      "cell_type": "markdown",
      "metadata": {
        "id": "9zW-j5timlwz"
      },
      "source": [
        "# **Часть вторая: Анализ файлов**"
      ]
    },
    {
      "cell_type": "markdown",
      "metadata": {
        "id": "6-78rg4gmpp2"
      },
      "source": [
        "Проведите анализ файла 2017_jun_final.csv. Файл содержит результаты опроса разработчиков в июне 2017 года."
      ]
    },
    {
      "cell_type": "code",
      "metadata": {
        "id": "nyHnBSNjmgWK"
      },
      "source": [
        "import pandas as pd\n",
        "import matplotlib.pyplot as plt"
      ],
      "execution_count": null,
      "outputs": []
    },
    {
      "cell_type": "markdown",
      "metadata": {
        "id": "ClXXEcUbnFEZ"
      },
      "source": [
        "Прочитайте файл 2017_jun_final.csv с помощью метода read_csv"
      ]
    },
    {
      "cell_type": "code",
      "metadata": {
        "colab": {
          "base_uri": "https://localhost:8080/"
        },
        "id": "C5MMvYy9nEnA",
        "outputId": "78259ea4-f3ad-43c5-cae6-4cc136697390"
      },
      "source": [
        "url = 'https://drive.google.com/file/d/1N9olzaYSJA9QqO8Dfx1LLl14l2TU-5kV/view?usp=sharing'\n",
        "path = 'https://drive.google.com/uc?export=download&id='+url.split('/')[-2]\n",
        "jun_final = pd.read_csv(path)\n",
        "\n",
        "print(jun_final)"
      ],
      "execution_count": null,
      "outputs": [
        {
          "output_type": "stream",
          "name": "stdout",
          "text": [
            "         N                 Должность Язык.программирования  ... salary Валюта  cls\n",
            "0        1        Junior QA engineer                   NaN  ...    400    NaN   QA\n",
            "1        2        Junior QA engineer                   NaN  ...    430    NaN   QA\n",
            "2        3         Software Engineer               C#/.NET  ...   2500    NaN  DEV\n",
            "3        4         Software Engineer            JavaScript  ...   2000    NaN  DEV\n",
            "4        5  Senior Software Engineer            JavaScript  ...   4500    NaN  DEV\n",
            "...    ...                       ...                   ...  ...    ...    ...  ...\n",
            "8699  8700               QA engineer                   NaN  ...    700    NaN   QA\n",
            "8700  8701                 Marketing                   NaN  ...    400    NaN  NaN\n",
            "8701  8702  Junior Software Engineer            Ruby/Rails  ...    800    NaN  DEV\n",
            "8702  8703                 Team lead                   NaN  ...   2600    NaN   PM\n",
            "8703  8704  Senior Software Engineer                  Java  ...   5000    NaN  DEV\n",
            "\n",
            "[8704 rows x 25 columns]\n"
          ]
        }
      ]
    },
    {
      "cell_type": "markdown",
      "metadata": {
        "id": "fDkE4i4Epr0T"
      },
      "source": [
        "Прочитайте полученную таблицу используя метод head"
      ]
    },
    {
      "cell_type": "code",
      "metadata": {
        "colab": {
          "base_uri": "https://localhost:8080/",
          "height": 591
        },
        "id": "yv7feTBbpyNZ",
        "outputId": "a55dcc8d-3441-43a9-ea24-444993a2b6c0"
      },
      "source": [
        "jun_final.head()"
      ],
      "execution_count": null,
      "outputs": [
        {
          "output_type": "execute_result",
          "data": {
            "text/html": [
              "<div>\n",
              "<style scoped>\n",
              "    .dataframe tbody tr th:only-of-type {\n",
              "        vertical-align: middle;\n",
              "    }\n",
              "\n",
              "    .dataframe tbody tr th {\n",
              "        vertical-align: top;\n",
              "    }\n",
              "\n",
              "    .dataframe thead th {\n",
              "        text-align: right;\n",
              "    }\n",
              "</style>\n",
              "<table border=\"1\" class=\"dataframe\">\n",
              "  <thead>\n",
              "    <tr style=\"text-align: right;\">\n",
              "      <th></th>\n",
              "      <th>N</th>\n",
              "      <th>Должность</th>\n",
              "      <th>Язык.программирования</th>\n",
              "      <th>Специализация</th>\n",
              "      <th>Общий.опыт.работы</th>\n",
              "      <th>Опыт.работы.на.текущем.месте</th>\n",
              "      <th>Зарплата.в.месяц</th>\n",
              "      <th>Изменение.зарплаты.за.12.месяцев</th>\n",
              "      <th>Город</th>\n",
              "      <th>Размер.компании</th>\n",
              "      <th>Тип.компании</th>\n",
              "      <th>Пол</th>\n",
              "      <th>Возраст</th>\n",
              "      <th>Образование</th>\n",
              "      <th>Университет</th>\n",
              "      <th>Еще.студент</th>\n",
              "      <th>Уровень.английского</th>\n",
              "      <th>Предметная.область</th>\n",
              "      <th>Дата.заполнения</th>\n",
              "      <th>User.Agent</th>\n",
              "      <th>exp</th>\n",
              "      <th>current_job_exp</th>\n",
              "      <th>salary</th>\n",
              "      <th>Валюта</th>\n",
              "      <th>cls</th>\n",
              "    </tr>\n",
              "  </thead>\n",
              "  <tbody>\n",
              "    <tr>\n",
              "      <th>0</th>\n",
              "      <td>1</td>\n",
              "      <td>Junior QA engineer</td>\n",
              "      <td>NaN</td>\n",
              "      <td>Manual QA</td>\n",
              "      <td>0.5</td>\n",
              "      <td>0.5</td>\n",
              "      <td>400</td>\n",
              "      <td>0</td>\n",
              "      <td>Харьков</td>\n",
              "      <td>до 10 человек</td>\n",
              "      <td>Аутсорсинговая</td>\n",
              "      <td>женский</td>\n",
              "      <td>20</td>\n",
              "      <td>Незаконченное высшее</td>\n",
              "      <td>ХНЭУ</td>\n",
              "      <td>True</td>\n",
              "      <td>ниже среднего</td>\n",
              "      <td>iOS,eCommerce</td>\n",
              "      <td>12/06/2017 12:38:08</td>\n",
              "      <td>Mozilla/5.0 (Windows NT 10.0; Win64; x64) Appl...</td>\n",
              "      <td>0.5</td>\n",
              "      <td>0.5</td>\n",
              "      <td>400</td>\n",
              "      <td>NaN</td>\n",
              "      <td>QA</td>\n",
              "    </tr>\n",
              "    <tr>\n",
              "      <th>1</th>\n",
              "      <td>2</td>\n",
              "      <td>Junior QA engineer</td>\n",
              "      <td>NaN</td>\n",
              "      <td>Manual QA</td>\n",
              "      <td>меньше 3 месяцев</td>\n",
              "      <td>меньше 3 месяцев</td>\n",
              "      <td>430</td>\n",
              "      <td>130</td>\n",
              "      <td>Харьков</td>\n",
              "      <td>свыше 1000 человек</td>\n",
              "      <td>Аутсорсинговая</td>\n",
              "      <td>женский</td>\n",
              "      <td>21</td>\n",
              "      <td>Незаконченное высшее</td>\n",
              "      <td>ХНЭУ</td>\n",
              "      <td>True</td>\n",
              "      <td>выше среднего</td>\n",
              "      <td>Веб-разработка</td>\n",
              "      <td>12/06/2017 12:42:51</td>\n",
              "      <td>Mozilla/5.0 (iPad; CPU OS 10_2_1 like Mac OS X...</td>\n",
              "      <td>0.0</td>\n",
              "      <td>0.0</td>\n",
              "      <td>430</td>\n",
              "      <td>NaN</td>\n",
              "      <td>QA</td>\n",
              "    </tr>\n",
              "    <tr>\n",
              "      <th>2</th>\n",
              "      <td>3</td>\n",
              "      <td>Software Engineer</td>\n",
              "      <td>C#/.NET</td>\n",
              "      <td>NaN</td>\n",
              "      <td>4</td>\n",
              "      <td>1</td>\n",
              "      <td>2500</td>\n",
              "      <td>800</td>\n",
              "      <td>Киев</td>\n",
              "      <td>до 1000 человек</td>\n",
              "      <td>Аутсорсинговая</td>\n",
              "      <td>мужской</td>\n",
              "      <td>26</td>\n",
              "      <td>Высшее</td>\n",
              "      <td>ДонНТУ</td>\n",
              "      <td>False</td>\n",
              "      <td>средний</td>\n",
              "      <td>Веб-разработка,Корпоративные системы</td>\n",
              "      <td>12/06/2017 13:02:47</td>\n",
              "      <td>Mozilla/5.0 (Windows NT 10.0; Win64; x64) Appl...</td>\n",
              "      <td>4.0</td>\n",
              "      <td>1.0</td>\n",
              "      <td>2500</td>\n",
              "      <td>NaN</td>\n",
              "      <td>DEV</td>\n",
              "    </tr>\n",
              "    <tr>\n",
              "      <th>3</th>\n",
              "      <td>4</td>\n",
              "      <td>Software Engineer</td>\n",
              "      <td>JavaScript</td>\n",
              "      <td>NaN</td>\n",
              "      <td>5</td>\n",
              "      <td>4</td>\n",
              "      <td>2000</td>\n",
              "      <td>400</td>\n",
              "      <td>Одесса</td>\n",
              "      <td>до 200 человек</td>\n",
              "      <td>Продуктовая</td>\n",
              "      <td>мужской</td>\n",
              "      <td>30</td>\n",
              "      <td>Среднее</td>\n",
              "      <td>NaN</td>\n",
              "      <td>False</td>\n",
              "      <td>ниже среднего</td>\n",
              "      <td>Desktop Applications,Веб-разработка</td>\n",
              "      <td>12/06/2017 13:03:01</td>\n",
              "      <td>Mozilla/5.0 (Windows NT 6.1; Win64; x64) Apple...</td>\n",
              "      <td>5.0</td>\n",
              "      <td>4.0</td>\n",
              "      <td>2000</td>\n",
              "      <td>NaN</td>\n",
              "      <td>DEV</td>\n",
              "    </tr>\n",
              "    <tr>\n",
              "      <th>4</th>\n",
              "      <td>5</td>\n",
              "      <td>Senior Software Engineer</td>\n",
              "      <td>JavaScript</td>\n",
              "      <td>NaN</td>\n",
              "      <td>10 и более лет</td>\n",
              "      <td>0.5</td>\n",
              "      <td>4500</td>\n",
              "      <td>500</td>\n",
              "      <td>Другой</td>\n",
              "      <td>до 10 человек</td>\n",
              "      <td>Продуктовая</td>\n",
              "      <td>мужской</td>\n",
              "      <td>30</td>\n",
              "      <td>Техникум / Колледж</td>\n",
              "      <td>NaN</td>\n",
              "      <td>False</td>\n",
              "      <td>средний</td>\n",
              "      <td>Desktop Applications,Веб-разработка</td>\n",
              "      <td>12/06/2017 13:03:47</td>\n",
              "      <td>Mozilla/5.0 (iPhone; CPU iPhone OS 10_3_2 like...</td>\n",
              "      <td>10.0</td>\n",
              "      <td>0.5</td>\n",
              "      <td>4500</td>\n",
              "      <td>NaN</td>\n",
              "      <td>DEV</td>\n",
              "    </tr>\n",
              "  </tbody>\n",
              "</table>\n",
              "</div>"
            ],
            "text/plain": [
              "   N                 Должность Язык.программирования  ... salary Валюта  cls\n",
              "0  1        Junior QA engineer                   NaN  ...    400    NaN   QA\n",
              "1  2        Junior QA engineer                   NaN  ...    430    NaN   QA\n",
              "2  3         Software Engineer               C#/.NET  ...   2500    NaN  DEV\n",
              "3  4         Software Engineer            JavaScript  ...   2000    NaN  DEV\n",
              "4  5  Senior Software Engineer            JavaScript  ...   4500    NaN  DEV\n",
              "\n",
              "[5 rows x 25 columns]"
            ]
          },
          "metadata": {},
          "execution_count": 42
        }
      ]
    },
    {
      "cell_type": "markdown",
      "metadata": {
        "id": "Jf6Atz_f-azM"
      },
      "source": [
        "Определите размер таблицы с помощью метода shape"
      ]
    },
    {
      "cell_type": "code",
      "metadata": {
        "colab": {
          "base_uri": "https://localhost:8080/"
        },
        "id": "G-_r26hD-b7m",
        "outputId": "ce7010dc-6220-4caa-9813-5bccaa9d305c"
      },
      "source": [
        "jun_final.shape"
      ],
      "execution_count": null,
      "outputs": [
        {
          "output_type": "execute_result",
          "data": {
            "text/plain": [
              "(8704, 25)"
            ]
          },
          "metadata": {},
          "execution_count": 43
        }
      ]
    },
    {
      "cell_type": "markdown",
      "metadata": {
        "id": "dNMNpWgF-jQk"
      },
      "source": [
        "Определите типы всех столбцов с помощью dataframe.dtypes"
      ]
    },
    {
      "cell_type": "code",
      "metadata": {
        "colab": {
          "base_uri": "https://localhost:8080/"
        },
        "id": "LmmJmMH9-kQN",
        "outputId": "d4d4eab0-d445-45fe-be95-21daff3ecfae"
      },
      "source": [
        "jun_final.dtypes"
      ],
      "execution_count": null,
      "outputs": [
        {
          "output_type": "execute_result",
          "data": {
            "text/plain": [
              "N                                     int64\n",
              "Должность                            object\n",
              "Язык.программирования                object\n",
              "Специализация                        object\n",
              "Общий.опыт.работы                    object\n",
              "Опыт.работы.на.текущем.месте         object\n",
              "Зарплата.в.месяц                      int64\n",
              "Изменение.зарплаты.за.12.месяцев      int64\n",
              "Город                                object\n",
              "Размер.компании                      object\n",
              "Тип.компании                         object\n",
              "Пол                                  object\n",
              "Возраст                               int64\n",
              "Образование                          object\n",
              "Университет                          object\n",
              "Еще.студент                            bool\n",
              "Уровень.английского                  object\n",
              "Предметная.область                   object\n",
              "Дата.заполнения                      object\n",
              "User.Agent                           object\n",
              "exp                                 float64\n",
              "current_job_exp                     float64\n",
              "salary                                int64\n",
              "Валюта                               object\n",
              "cls                                  object\n",
              "dtype: object"
            ]
          },
          "metadata": {},
          "execution_count": 44
        }
      ]
    },
    {
      "cell_type": "markdown",
      "metadata": {
        "id": "RcyFJ1bF-tIV"
      },
      "source": [
        "Посчитайте, какая доля пропусков содержится в каждой колонке (используйте методы isnull и sum)"
      ]
    },
    {
      "cell_type": "code",
      "metadata": {
        "colab": {
          "base_uri": "https://localhost:8080/"
        },
        "id": "N3ogzzvO-uFb",
        "outputId": "7738e615-43d5-48a9-dbf9-e9b837cba5b0"
      },
      "source": [
        "jun_final.isnull().sum(axis = 0, skipna = True)"
      ],
      "execution_count": null,
      "outputs": [
        {
          "output_type": "execute_result",
          "data": {
            "text/plain": [
              "N                                      0\n",
              "Должность                              0\n",
              "Язык.программирования               3850\n",
              "Специализация                       7219\n",
              "Общий.опыт.работы                      0\n",
              "Опыт.работы.на.текущем.месте           0\n",
              "Зарплата.в.месяц                       0\n",
              "Изменение.зарплаты.за.12.месяцев       0\n",
              "Город                                  0\n",
              "Размер.компании                        0\n",
              "Тип.компании                           0\n",
              "Пол                                    0\n",
              "Возраст                                0\n",
              "Образование                            0\n",
              "Университет                          358\n",
              "Еще.студент                            0\n",
              "Уровень.английского                    0\n",
              "Предметная.область                   223\n",
              "Дата.заполнения                        0\n",
              "User.Agent                             0\n",
              "exp                                    0\n",
              "current_job_exp                        0\n",
              "salary                                 0\n",
              "Валюта                              8694\n",
              "cls                                 1574\n",
              "dtype: int64"
            ]
          },
          "metadata": {},
          "execution_count": 45
        }
      ]
    },
    {
      "cell_type": "markdown",
      "metadata": {
        "id": "mfxeyhTh_SLd"
      },
      "source": [
        "Удалите все столбцы с пропусками, кроме столбца \"Язык.программирования\""
      ]
    },
    {
      "cell_type": "code",
      "metadata": {
        "colab": {
          "base_uri": "https://localhost:8080/"
        },
        "id": "Hbz3y192_WP6",
        "outputId": "2b29e619-7c14-473c-b106-dd54fb978ee6"
      },
      "source": [
        "jun_final = jun_final.drop([\"cls\", \"Валюта\", \"Предметная.область\", \"Университет\", \"Специализация\"], axis=1)\n",
        "jun_final.isnull().sum(axis = 0, skipna = True)"
      ],
      "execution_count": null,
      "outputs": [
        {
          "output_type": "execute_result",
          "data": {
            "text/plain": [
              "N                                      0\n",
              "Должность                              0\n",
              "Язык.программирования               3850\n",
              "Общий.опыт.работы                      0\n",
              "Опыт.работы.на.текущем.месте           0\n",
              "Зарплата.в.месяц                       0\n",
              "Изменение.зарплаты.за.12.месяцев       0\n",
              "Город                                  0\n",
              "Размер.компании                        0\n",
              "Тип.компании                           0\n",
              "Пол                                    0\n",
              "Возраст                                0\n",
              "Образование                            0\n",
              "Еще.студент                            0\n",
              "Уровень.английского                    0\n",
              "Дата.заполнения                        0\n",
              "User.Agent                             0\n",
              "exp                                    0\n",
              "current_job_exp                        0\n",
              "salary                                 0\n",
              "dtype: int64"
            ]
          },
          "metadata": {},
          "execution_count": 46
        }
      ]
    },
    {
      "cell_type": "markdown",
      "metadata": {
        "id": "r1fvEypzCAmz"
      },
      "source": [
        "Удалите все строки в исходной таблице с помощью метода dropna"
      ]
    },
    {
      "cell_type": "code",
      "metadata": {
        "id": "tWgg3QEeCMb6"
      },
      "source": [
        "jun_final = jun_final.dropna()"
      ],
      "execution_count": null,
      "outputs": []
    },
    {
      "cell_type": "markdown",
      "metadata": {
        "id": "csgwSKkGCsBA"
      },
      "source": [
        "Определите новый размер таблицы с помощью метода shape"
      ]
    },
    {
      "cell_type": "code",
      "metadata": {
        "colab": {
          "base_uri": "https://localhost:8080/"
        },
        "id": "iQIlMNCVCvEI",
        "outputId": "7f7a5a7f-3814-4ced-e866-96fd9e7b9193"
      },
      "source": [
        "jun_final.shape"
      ],
      "execution_count": null,
      "outputs": [
        {
          "output_type": "execute_result",
          "data": {
            "text/plain": [
              "(4854, 20)"
            ]
          },
          "metadata": {},
          "execution_count": 48
        }
      ]
    },
    {
      "cell_type": "code",
      "metadata": {
        "colab": {
          "base_uri": "https://localhost:8080/",
          "height": 297
        },
        "id": "ePNCsr-wDToJ",
        "outputId": "0ed859d0-3c55-4896-d3ae-442411318a95"
      },
      "source": [
        "df = jun_final[jun_final['Должность'] == 'Junior Software Engineer']\n",
        "avg_salary_for_students = df['Зарплата.в.месяц'][df[\"Еще.студент\"] == True].mean()\n",
        "avg_salary_for__not_a_students = df['Зарплата.в.месяц'][df[\"Еще.студент\"] == False].mean()\n",
        "\n",
        "\n",
        "plt.bar(\n",
        "    [\"avg_salary_for_students\", \"avg_salary_for__not_a_students\"],\n",
        "    [avg_salary_for_students, avg_salary_for__not_a_students],\n",
        "    color=[\"b\", \"g\"],\n",
        ")\n",
        "\n",
        "plt.xlabel(\"Student or not\", fontsize=\"small\", color=\"midnightblue\")\n",
        "plt.ylabel(\"Salary\", fontsize=\"small\", color=\"midnightblue\")\n",
        "plt.title('Junior Software Engineer', fontsize=15)\n",
        "plt.show()\n"
      ],
      "execution_count": null,
      "outputs": [
        {
          "output_type": "display_data",
          "data": {
            "image/png": "[encoded data removed]",
            "text/plain": [
              "<Figure size 432x288 with 1 Axes>"
            ]
          },
          "metadata": {
            "needs_background": "light"
          }
        }
      ]
    },
    {
      "cell_type": "markdown",
      "metadata": {
        "id": "JW_DizZIC7_w"
      },
      "source": [
        "Создайте новую таблицу python_data в которой будут только строки со специалистами указавшими язык программирования Python"
      ]
    },
    {
      "cell_type": "code",
      "metadata": {
        "colab": {
          "base_uri": "https://localhost:8080/",
          "height": 434
        },
        "id": "tHQkaJaTDB-X",
        "outputId": "1385eb6b-fd45-46a8-df04-2e6216900e93"
      },
      "source": [
        "python_data = jun_final[jun_final['Язык.программирования'] == 'Python']\n",
        "python_data.head()"
      ],
      "execution_count": null,
      "outputs": [
        {
          "output_type": "execute_result",
          "data": {
            "text/html": [
              "<div>\n",
              "<style scoped>\n",
              "    .dataframe tbody tr th:only-of-type {\n",
              "        vertical-align: middle;\n",
              "    }\n",
              "\n",
              "    .dataframe tbody tr th {\n",
              "        vertical-align: top;\n",
              "    }\n",
              "\n",
              "    .dataframe thead th {\n",
              "        text-align: right;\n",
              "    }\n",
              "</style>\n",
              "<table border=\"1\" class=\"dataframe\">\n",
              "  <thead>\n",
              "    <tr style=\"text-align: right;\">\n",
              "      <th></th>\n",
              "      <th>N</th>\n",
              "      <th>Должность</th>\n",
              "      <th>Язык.программирования</th>\n",
              "      <th>Общий.опыт.работы</th>\n",
              "      <th>Опыт.работы.на.текущем.месте</th>\n",
              "      <th>Зарплата.в.месяц</th>\n",
              "      <th>Изменение.зарплаты.за.12.месяцев</th>\n",
              "      <th>Город</th>\n",
              "      <th>Размер.компании</th>\n",
              "      <th>Тип.компании</th>\n",
              "      <th>Пол</th>\n",
              "      <th>Возраст</th>\n",
              "      <th>Образование</th>\n",
              "      <th>Еще.студент</th>\n",
              "      <th>Уровень.английского</th>\n",
              "      <th>Дата.заполнения</th>\n",
              "      <th>User.Agent</th>\n",
              "      <th>exp</th>\n",
              "      <th>current_job_exp</th>\n",
              "      <th>salary</th>\n",
              "    </tr>\n",
              "  </thead>\n",
              "  <tbody>\n",
              "    <tr>\n",
              "      <th>12</th>\n",
              "      <td>13</td>\n",
              "      <td>Software Engineer</td>\n",
              "      <td>Python</td>\n",
              "      <td>1</td>\n",
              "      <td>меньше 3 месяцев</td>\n",
              "      <td>800</td>\n",
              "      <td>200</td>\n",
              "      <td>Киев</td>\n",
              "      <td>до 50 человек</td>\n",
              "      <td>Аутсорсинговая</td>\n",
              "      <td>мужской</td>\n",
              "      <td>26</td>\n",
              "      <td>Высшее</td>\n",
              "      <td>False</td>\n",
              "      <td>ниже среднего</td>\n",
              "      <td>12/06/2017 13:05:54</td>\n",
              "      <td>Mozilla/5.0 (Windows NT 6.1; Win64; x64) Apple...</td>\n",
              "      <td>1.0</td>\n",
              "      <td>0.0</td>\n",
              "      <td>800</td>\n",
              "    </tr>\n",
              "    <tr>\n",
              "      <th>68</th>\n",
              "      <td>69</td>\n",
              "      <td>Software Engineer</td>\n",
              "      <td>Python</td>\n",
              "      <td>1.5</td>\n",
              "      <td>0.5</td>\n",
              "      <td>900</td>\n",
              "      <td>900</td>\n",
              "      <td>Киев</td>\n",
              "      <td>до 10 человек</td>\n",
              "      <td>Стартап</td>\n",
              "      <td>мужской</td>\n",
              "      <td>21</td>\n",
              "      <td>Незаконченное высшее</td>\n",
              "      <td>True</td>\n",
              "      <td>выше среднего</td>\n",
              "      <td>12/06/2017 13:11:17</td>\n",
              "      <td>Mozilla/5.0 (Windows NT 10.0; Win64; x64) Appl...</td>\n",
              "      <td>1.5</td>\n",
              "      <td>0.5</td>\n",
              "      <td>900</td>\n",
              "    </tr>\n",
              "    <tr>\n",
              "      <th>87</th>\n",
              "      <td>88</td>\n",
              "      <td>Junior Software Engineer</td>\n",
              "      <td>Python</td>\n",
              "      <td>0.5</td>\n",
              "      <td>0.5</td>\n",
              "      <td>600</td>\n",
              "      <td>0</td>\n",
              "      <td>Киев</td>\n",
              "      <td>до 10 человек</td>\n",
              "      <td>Аутсорсинговая</td>\n",
              "      <td>мужской</td>\n",
              "      <td>19</td>\n",
              "      <td>Незаконченное высшее</td>\n",
              "      <td>True</td>\n",
              "      <td>выше среднего</td>\n",
              "      <td>12/06/2017 13:12:25</td>\n",
              "      <td>Mozilla/5.0 (X11; Linux x86_64) AppleWebKit/53...</td>\n",
              "      <td>0.5</td>\n",
              "      <td>0.5</td>\n",
              "      <td>600</td>\n",
              "    </tr>\n",
              "    <tr>\n",
              "      <th>114</th>\n",
              "      <td>115</td>\n",
              "      <td>Junior Software Engineer</td>\n",
              "      <td>Python</td>\n",
              "      <td>1.5</td>\n",
              "      <td>0.5</td>\n",
              "      <td>685</td>\n",
              "      <td>250</td>\n",
              "      <td>Киев</td>\n",
              "      <td>до 1000 человек</td>\n",
              "      <td>Аутсорсинговая</td>\n",
              "      <td>мужской</td>\n",
              "      <td>21</td>\n",
              "      <td>Незаконченное высшее</td>\n",
              "      <td>False</td>\n",
              "      <td>средний</td>\n",
              "      <td>12/06/2017 13:14:52</td>\n",
              "      <td>Mozilla/5.0 (X11; Linux x86_64) AppleWebKit/53...</td>\n",
              "      <td>1.5</td>\n",
              "      <td>0.5</td>\n",
              "      <td>685</td>\n",
              "    </tr>\n",
              "    <tr>\n",
              "      <th>143</th>\n",
              "      <td>144</td>\n",
              "      <td>Junior Software Engineer</td>\n",
              "      <td>Python</td>\n",
              "      <td>1</td>\n",
              "      <td>1</td>\n",
              "      <td>750</td>\n",
              "      <td>250</td>\n",
              "      <td>Киев</td>\n",
              "      <td>до 10 человек</td>\n",
              "      <td>Аутсорсинговая</td>\n",
              "      <td>мужской</td>\n",
              "      <td>21</td>\n",
              "      <td>Незаконченное высшее</td>\n",
              "      <td>True</td>\n",
              "      <td>выше среднего</td>\n",
              "      <td>12/06/2017 13:19:10</td>\n",
              "      <td>Mozilla/5.0 (X11; Linux x86_64) AppleWebKit/53...</td>\n",
              "      <td>1.0</td>\n",
              "      <td>1.0</td>\n",
              "      <td>750</td>\n",
              "    </tr>\n",
              "  </tbody>\n",
              "</table>\n",
              "</div>"
            ],
            "text/plain": [
              "       N                 Должность  ... current_job_exp salary\n",
              "12    13         Software Engineer  ...             0.0    800\n",
              "68    69         Software Engineer  ...             0.5    900\n",
              "87    88  Junior Software Engineer  ...             0.5    600\n",
              "114  115  Junior Software Engineer  ...             0.5    685\n",
              "143  144  Junior Software Engineer  ...             1.0    750\n",
              "\n",
              "[5 rows x 20 columns]"
            ]
          },
          "metadata": {},
          "execution_count": 49
        }
      ]
    },
    {
      "cell_type": "markdown",
      "metadata": {
        "id": "z7lB4bvIGYuY"
      },
      "source": [
        "Определите размер таблицы python_data с помощью метода shape"
      ]
    },
    {
      "cell_type": "code",
      "metadata": {
        "colab": {
          "base_uri": "https://localhost:8080/"
        },
        "id": "wE1GUhJtGZK0",
        "outputId": "1c29f6e0-1d8a-44f3-d417-561c5dee81e7"
      },
      "source": [
        "python_data.shape"
      ],
      "execution_count": null,
      "outputs": [
        {
          "output_type": "execute_result",
          "data": {
            "text/plain": [
              "(207, 20)"
            ]
          },
          "metadata": {},
          "execution_count": 50
        }
      ]
    },
    {
      "cell_type": "markdown",
      "metadata": {
        "id": "S0-9rCHIGhYe"
      },
      "source": [
        "Используя метод groupby выполните группировку по столбцу \"Должность\""
      ]
    },
    {
      "cell_type": "code",
      "metadata": {
        "colab": {
          "base_uri": "https://localhost:8080/",
          "height": 483
        },
        "id": "eb1yIk1rGvhP",
        "outputId": "ae489907-2b7b-47f8-cf9c-9d4ee9b6e7b1"
      },
      "source": [
        "group_by_position = python_data.groupby(\"Должность\")\n",
        "group_by_position.first()"
      ],
      "execution_count": null,
      "outputs": [
        {
          "output_type": "execute_result",
          "data": {
            "text/html": [
              "<div>\n",
              "<style scoped>\n",
              "    .dataframe tbody tr th:only-of-type {\n",
              "        vertical-align: middle;\n",
              "    }\n",
              "\n",
              "    .dataframe tbody tr th {\n",
              "        vertical-align: top;\n",
              "    }\n",
              "\n",
              "    .dataframe thead th {\n",
              "        text-align: right;\n",
              "    }\n",
              "</style>\n",
              "<table border=\"1\" class=\"dataframe\">\n",
              "  <thead>\n",
              "    <tr style=\"text-align: right;\">\n",
              "      <th></th>\n",
              "      <th>N</th>\n",
              "      <th>Язык.программирования</th>\n",
              "      <th>Общий.опыт.работы</th>\n",
              "      <th>Опыт.работы.на.текущем.месте</th>\n",
              "      <th>Зарплата.в.месяц</th>\n",
              "      <th>Изменение.зарплаты.за.12.месяцев</th>\n",
              "      <th>Город</th>\n",
              "      <th>Размер.компании</th>\n",
              "      <th>Тип.компании</th>\n",
              "      <th>Пол</th>\n",
              "      <th>Возраст</th>\n",
              "      <th>Образование</th>\n",
              "      <th>Еще.студент</th>\n",
              "      <th>Уровень.английского</th>\n",
              "      <th>Дата.заполнения</th>\n",
              "      <th>User.Agent</th>\n",
              "      <th>exp</th>\n",
              "      <th>current_job_exp</th>\n",
              "      <th>salary</th>\n",
              "    </tr>\n",
              "    <tr>\n",
              "      <th>Должность</th>\n",
              "      <th></th>\n",
              "      <th></th>\n",
              "      <th></th>\n",
              "      <th></th>\n",
              "      <th></th>\n",
              "      <th></th>\n",
              "      <th></th>\n",
              "      <th></th>\n",
              "      <th></th>\n",
              "      <th></th>\n",
              "      <th></th>\n",
              "      <th></th>\n",
              "      <th></th>\n",
              "      <th></th>\n",
              "      <th></th>\n",
              "      <th></th>\n",
              "      <th></th>\n",
              "      <th></th>\n",
              "      <th></th>\n",
              "    </tr>\n",
              "  </thead>\n",
              "  <tbody>\n",
              "    <tr>\n",
              "      <th>Junior Software Engineer</th>\n",
              "      <td>88</td>\n",
              "      <td>Python</td>\n",
              "      <td>0.5</td>\n",
              "      <td>0.5</td>\n",
              "      <td>600</td>\n",
              "      <td>0</td>\n",
              "      <td>Киев</td>\n",
              "      <td>до 10 человек</td>\n",
              "      <td>Аутсорсинговая</td>\n",
              "      <td>мужской</td>\n",
              "      <td>19</td>\n",
              "      <td>Незаконченное высшее</td>\n",
              "      <td>True</td>\n",
              "      <td>выше среднего</td>\n",
              "      <td>12/06/2017 13:12:25</td>\n",
              "      <td>Mozilla/5.0 (X11; Linux x86_64) AppleWebKit/53...</td>\n",
              "      <td>0.5</td>\n",
              "      <td>0.50</td>\n",
              "      <td>600</td>\n",
              "    </tr>\n",
              "    <tr>\n",
              "      <th>Senior Software Engineer</th>\n",
              "      <td>303</td>\n",
              "      <td>Python</td>\n",
              "      <td>10 и более лет</td>\n",
              "      <td>0.5</td>\n",
              "      <td>3500</td>\n",
              "      <td>-300</td>\n",
              "      <td>Киев</td>\n",
              "      <td>до 200 человек</td>\n",
              "      <td>Продуктовая</td>\n",
              "      <td>мужской</td>\n",
              "      <td>30</td>\n",
              "      <td>Высшее</td>\n",
              "      <td>False</td>\n",
              "      <td>выше среднего</td>\n",
              "      <td>12/06/2017 13:46:24</td>\n",
              "      <td>Mozilla/5.0 (Windows NT 6.1; Win64; x64) Apple...</td>\n",
              "      <td>10.0</td>\n",
              "      <td>0.50</td>\n",
              "      <td>3500</td>\n",
              "    </tr>\n",
              "    <tr>\n",
              "      <th>Software Engineer</th>\n",
              "      <td>13</td>\n",
              "      <td>Python</td>\n",
              "      <td>1</td>\n",
              "      <td>меньше 3 месяцев</td>\n",
              "      <td>800</td>\n",
              "      <td>200</td>\n",
              "      <td>Киев</td>\n",
              "      <td>до 50 человек</td>\n",
              "      <td>Аутсорсинговая</td>\n",
              "      <td>мужской</td>\n",
              "      <td>26</td>\n",
              "      <td>Высшее</td>\n",
              "      <td>False</td>\n",
              "      <td>ниже среднего</td>\n",
              "      <td>12/06/2017 13:05:54</td>\n",
              "      <td>Mozilla/5.0 (Windows NT 6.1; Win64; x64) Apple...</td>\n",
              "      <td>1.0</td>\n",
              "      <td>0.00</td>\n",
              "      <td>800</td>\n",
              "    </tr>\n",
              "    <tr>\n",
              "      <th>System Architect</th>\n",
              "      <td>5749</td>\n",
              "      <td>Python</td>\n",
              "      <td>10 и более лет</td>\n",
              "      <td>0.25</td>\n",
              "      <td>3000</td>\n",
              "      <td>0</td>\n",
              "      <td>Киев</td>\n",
              "      <td>до 50 человек</td>\n",
              "      <td>Продуктовая</td>\n",
              "      <td>мужской</td>\n",
              "      <td>40</td>\n",
              "      <td>Высшее</td>\n",
              "      <td>False</td>\n",
              "      <td>выше среднего</td>\n",
              "      <td>20/06/2017 18:40:40</td>\n",
              "      <td>Mozilla/5.0 (X11; Ubuntu; Linux x86_64; rv:53....</td>\n",
              "      <td>10.0</td>\n",
              "      <td>0.25</td>\n",
              "      <td>3000</td>\n",
              "    </tr>\n",
              "    <tr>\n",
              "      <th>Technical Lead</th>\n",
              "      <td>2633</td>\n",
              "      <td>Python</td>\n",
              "      <td>4</td>\n",
              "      <td>1.5</td>\n",
              "      <td>3500</td>\n",
              "      <td>1000</td>\n",
              "      <td>Киев</td>\n",
              "      <td>до 50 человек</td>\n",
              "      <td>Продуктовая</td>\n",
              "      <td>мужской</td>\n",
              "      <td>23</td>\n",
              "      <td>Незаконченное высшее</td>\n",
              "      <td>False</td>\n",
              "      <td>выше среднего</td>\n",
              "      <td>13/06/2017 12:37:02</td>\n",
              "      <td>Mozilla/5.0 (Macintosh; Intel Mac OS X 10_12_5...</td>\n",
              "      <td>4.0</td>\n",
              "      <td>1.50</td>\n",
              "      <td>3500</td>\n",
              "    </tr>\n",
              "  </tbody>\n",
              "</table>\n",
              "</div>"
            ],
            "text/plain": [
              "                             N Язык.программирования  ... current_job_exp salary\n",
              "Должность                                             ...                       \n",
              "Junior Software Engineer    88                Python  ...            0.50    600\n",
              "Senior Software Engineer   303                Python  ...            0.50   3500\n",
              "Software Engineer           13                Python  ...            0.00    800\n",
              "System Architect          5749                Python  ...            0.25   3000\n",
              "Technical Lead            2633                Python  ...            1.50   3500\n",
              "\n",
              "[5 rows x 19 columns]"
            ]
          },
          "metadata": {},
          "execution_count": 51
        }
      ]
    },
    {
      "cell_type": "code",
      "metadata": {
        "colab": {
          "base_uri": "https://localhost:8080/",
          "height": 878
        },
        "id": "NW6uxx2KsxfJ",
        "outputId": "aa255828-3e53-41f7-ee04-177b76fe800c"
      },
      "source": [
        "labels = [\"мужской\", \"женский\"]\n",
        "\n",
        "data = [python_data[\"Пол\"][python_data[\"Пол\"] == \"мужской\"].count(), python_data[\"Пол\"][python_data[\"Пол\"] == \"женский\"].count()]\n",
        "explode = [0.05, 0]\n",
        "plt.pie(\n",
        "    data,\n",
        "    explode=explode,\n",
        "    autopct=\"%.2f%%\",\n",
        "    startangle=140,\n",
        "    pctdistance=0.8,\n",
        "    labeldistance=1.05,\n",
        ")\n",
        "fig = plt.gcf()\n",
        "fig.set_size_inches(20,14)\n",
        "plt.title('Percentage by gender', fontsize=24)\n",
        "plt.legend( labels, title=\"ПОЛ\", fontsize=14, loc=\"upper left\", bbox_to_anchor=(0.9, 0.1, 0.1, 1))"
      ],
      "execution_count": null,
      "outputs": [
        {
          "output_type": "execute_result",
          "data": {
            "text/plain": [
              "<matplotlib.legend.Legend at 0x7fa31429dd10>"
            ]
          },
          "metadata": {},
          "execution_count": 53
        },
        {
          "output_type": "display_data",
          "data": {
            "image/png": "[encoded data removed]",
            "text/plain": [
              "<Figure size 1440x1008 with 1 Axes>"
            ]
          },
          "metadata": {}
        }
      ]
    },
    {
      "cell_type": "markdown",
      "metadata": {
        "id": "GecNHiHuJ0hG"
      },
      "source": [
        "Создайте новый DataFrame, где для сгруппированных данных по столбцу \"Должность\", выполните агрегацию данных с помощью метода agg и найдите минимальное и максимальное значение в столбце \"Зарплата.в.месяц\""
      ]
    },
    {
      "cell_type": "code",
      "metadata": {
        "colab": {
          "base_uri": "https://localhost:8080/",
          "height": 238
        },
        "id": "A3yFYoQ4J1rE",
        "outputId": "c26ce295-4dff-4359-d856-54febdbd5cea"
      },
      "source": [
        "import numpy as np\n",
        "\n",
        "\n",
        "group_by_position.agg({'Зарплата.в.месяц' : 'min', 'Зарплата.в.месяц' : 'max'})\n",
        "\n",
        "salary1 = group_by_position.agg({'Зарплата.в.месяц' : 'max'})\n",
        "salary1 = salary1.rename({\"Зарплата.в.месяц\" : \"max_salary\"}, axis=1)\n",
        "salary2 = group_by_position.agg({'Зарплата.в.месяц' : 'min'})\n",
        "salary2 = salary2.rename({\"Зарплата.в.месяц\" : \"min_salary\"}, axis=1)\n",
        "salary = pd.concat([salary1, salary2], axis=1)\n",
        "salary"
      ],
      "execution_count": null,
      "outputs": [
        {
          "output_type": "execute_result",
          "data": {
            "text/html": [
              "<div>\n",
              "<style scoped>\n",
              "    .dataframe tbody tr th:only-of-type {\n",
              "        vertical-align: middle;\n",
              "    }\n",
              "\n",
              "    .dataframe tbody tr th {\n",
              "        vertical-align: top;\n",
              "    }\n",
              "\n",
              "    .dataframe thead th {\n",
              "        text-align: right;\n",
              "    }\n",
              "</style>\n",
              "<table border=\"1\" class=\"dataframe\">\n",
              "  <thead>\n",
              "    <tr style=\"text-align: right;\">\n",
              "      <th></th>\n",
              "      <th>max_salary</th>\n",
              "      <th>min_salary</th>\n",
              "    </tr>\n",
              "    <tr>\n",
              "      <th>Должность</th>\n",
              "      <th></th>\n",
              "      <th></th>\n",
              "    </tr>\n",
              "  </thead>\n",
              "  <tbody>\n",
              "    <tr>\n",
              "      <th>Junior Software Engineer</th>\n",
              "      <td>1250</td>\n",
              "      <td>100</td>\n",
              "    </tr>\n",
              "    <tr>\n",
              "      <th>Senior Software Engineer</th>\n",
              "      <td>9200</td>\n",
              "      <td>1300</td>\n",
              "    </tr>\n",
              "    <tr>\n",
              "      <th>Software Engineer</th>\n",
              "      <td>5400</td>\n",
              "      <td>500</td>\n",
              "    </tr>\n",
              "    <tr>\n",
              "      <th>System Architect</th>\n",
              "      <td>5000</td>\n",
              "      <td>3000</td>\n",
              "    </tr>\n",
              "    <tr>\n",
              "      <th>Technical Lead</th>\n",
              "      <td>6200</td>\n",
              "      <td>1425</td>\n",
              "    </tr>\n",
              "  </tbody>\n",
              "</table>\n",
              "</div>"
            ],
            "text/plain": [
              "                          max_salary  min_salary\n",
              "Должность                                       \n",
              "Junior Software Engineer        1250         100\n",
              "Senior Software Engineer        9200        1300\n",
              "Software Engineer               5400         500\n",
              "System Architect                5000        3000\n",
              "Technical Lead                  6200        1425"
            ]
          },
          "metadata": {},
          "execution_count": 63
        }
      ]
    },
    {
      "cell_type": "code",
      "metadata": {
        "colab": {
          "base_uri": "https://localhost:8080/",
          "height": 412
        },
        "id": "eholAoRGzgc6",
        "outputId": "de16803b-7ef9-4754-ff51-d3151b99e9ec"
      },
      "source": [
        "max_salary = salary[\"max_salary\"]\n",
        "min_salary = salary[\"min_salary\"]\n",
        "df = pd.DataFrame({'max_salary': max_salary,\n",
        "                   'min_salary': min_salary})\n",
        "ax = df.plot.bar(rot=90, color = {'max_salary':'green', 'min_salary':'red'}, title = \"Dependence of the minimum and maximum salary on the position\")"
      ],
      "execution_count": null,
      "outputs": [
        {
          "output_type": "display_data",
          "data": {
            "image/png": "[encoded data removed]",
            "text/plain": [
              "<Figure size 432x288 with 1 Axes>"
            ]
          },
          "metadata": {
            "needs_background": "light"
          }
        }
      ]
    },
    {
      "cell_type": "markdown",
      "metadata": {
        "id": "y26uzL_QNpKL"
      },
      "source": [
        "Создайте функцию fill_avg_salary которая будет возвращать среднее значение заработной платы в месяц. Используйте ее для метода apply и создайте новый столбик \"avg\""
      ]
    },
    {
      "cell_type": "code",
      "metadata": {
        "colab": {
          "base_uri": "https://localhost:8080/",
          "height": 238
        },
        "id": "LkwULf_4Wo-a",
        "outputId": "15ada995-7ff4-48e0-d456-816611b51f4a"
      },
      "source": [
        "salary_mean = salary.apply(np.mean, axis=1) \n",
        "salary[\"avg_salary\"] = [s for s in salary_mean]\n",
        "salary"
      ],
      "execution_count": null,
      "outputs": [
        {
          "output_type": "execute_result",
          "data": {
            "text/html": [
              "<div>\n",
              "<style scoped>\n",
              "    .dataframe tbody tr th:only-of-type {\n",
              "        vertical-align: middle;\n",
              "    }\n",
              "\n",
              "    .dataframe tbody tr th {\n",
              "        vertical-align: top;\n",
              "    }\n",
              "\n",
              "    .dataframe thead th {\n",
              "        text-align: right;\n",
              "    }\n",
              "</style>\n",
              "<table border=\"1\" class=\"dataframe\">\n",
              "  <thead>\n",
              "    <tr style=\"text-align: right;\">\n",
              "      <th></th>\n",
              "      <th>max_salary</th>\n",
              "      <th>min_salary</th>\n",
              "      <th>avg_salary</th>\n",
              "    </tr>\n",
              "    <tr>\n",
              "      <th>Должность</th>\n",
              "      <th></th>\n",
              "      <th></th>\n",
              "      <th></th>\n",
              "    </tr>\n",
              "  </thead>\n",
              "  <tbody>\n",
              "    <tr>\n",
              "      <th>Junior Software Engineer</th>\n",
              "      <td>1250</td>\n",
              "      <td>100</td>\n",
              "      <td>675.0</td>\n",
              "    </tr>\n",
              "    <tr>\n",
              "      <th>Senior Software Engineer</th>\n",
              "      <td>9200</td>\n",
              "      <td>1300</td>\n",
              "      <td>5250.0</td>\n",
              "    </tr>\n",
              "    <tr>\n",
              "      <th>Software Engineer</th>\n",
              "      <td>5400</td>\n",
              "      <td>500</td>\n",
              "      <td>2950.0</td>\n",
              "    </tr>\n",
              "    <tr>\n",
              "      <th>System Architect</th>\n",
              "      <td>5000</td>\n",
              "      <td>3000</td>\n",
              "      <td>4000.0</td>\n",
              "    </tr>\n",
              "    <tr>\n",
              "      <th>Technical Lead</th>\n",
              "      <td>6200</td>\n",
              "      <td>1425</td>\n",
              "      <td>3812.5</td>\n",
              "    </tr>\n",
              "  </tbody>\n",
              "</table>\n",
              "</div>"
            ],
            "text/plain": [
              "                          max_salary  min_salary  avg_salary\n",
              "Должность                                                   \n",
              "Junior Software Engineer        1250         100       675.0\n",
              "Senior Software Engineer        9200        1300      5250.0\n",
              "Software Engineer               5400         500      2950.0\n",
              "System Architect                5000        3000      4000.0\n",
              "Technical Lead                  6200        1425      3812.5"
            ]
          },
          "metadata": {},
          "execution_count": 75
        }
      ]
    },
    {
      "cell_type": "code",
      "metadata": {
        "id": "1HjU0AAD53fW"
      },
      "source": [
        ""
      ],
      "execution_count": null,
      "outputs": []
    },
    {
      "cell_type": "markdown",
      "metadata": {
        "id": "AaOblOpFc_wm"
      },
      "source": [
        "Создайте описательную статистику с помощью метода describe для нового столбца."
      ]
    },
    {
      "cell_type": "code",
      "metadata": {
        "colab": {
          "base_uri": "https://localhost:8080/"
        },
        "id": "Bua2cwvMNqkf",
        "outputId": "2f8e7962-4b99-4ce3-a607-4ea3efea848c"
      },
      "source": [
        "salary['avg_salary'].describe()"
      ],
      "execution_count": null,
      "outputs": [
        {
          "output_type": "execute_result",
          "data": {
            "text/plain": [
              "count       5.000000\n",
              "mean     3337.500000\n",
              "std      1700.091909\n",
              "min       675.000000\n",
              "25%      2950.000000\n",
              "50%      3812.500000\n",
              "75%      4000.000000\n",
              "max      5250.000000\n",
              "Name: avg_salary, dtype: float64"
            ]
          },
          "metadata": {},
          "execution_count": 76
        }
      ]
    },
    {
      "cell_type": "markdown",
      "metadata": {
        "id": "SS4ZrGJRdq7s"
      },
      "source": [
        "Сохраните полученную таблицу в CSV файл"
      ]
    },
    {
      "cell_type": "code",
      "metadata": {
        "id": "vM8w6a8LdzVF"
      },
      "source": [
        "salary.to_csv('salary_python_jun_final.csv')"
      ],
      "execution_count": null,
      "outputs": []
    }
  ]
}