{
  "nbformat": 4,
  "nbformat_minor": 0,
  "metadata": {
    "colab": {
      "name": "Hw5.1.ipynb",
      "provenance": [],
      "authorship_tag": "ABX9TyMKnEVA7098AuxxUregJoMs",
      "include_colab_link": true
    },
    "kernelspec": {
      "name": "python3",
      "display_name": "Python 3"
    },
    "language_info": {
      "name": "python"
    }
  },
  "cells": [
    {
      "cell_type": "markdown",
      "metadata": {
        "id": "view-in-github",
        "colab_type": "text"
      },
      "source": [
        "<a href=\"https://colab.research.google.com/github/Tsyhankova/goit_python/blob/main/Hw5_1.ipynb\" target=\"_parent\"><img src=\"https://colab.research.google.com/assets/colab-badge.svg\" alt=\"Open In Colab\"/></a>"
      ]
    },
    {
      "cell_type": "markdown",
      "metadata": {
        "id": "NvS9_VOqw-8x"
      },
      "source": [
        "Для прямоугольной области площадью 1000 м2, примыкающей к прямому участку реки, необходимо построить ограду (причем со стороны реки ограду строить не нужно). При каких размерах области a, b длина ограды будет минимальной? Используйте функцию minimize с параметрами ограничениями bounds и constraints"
      ]
    },
    {
      "cell_type": "code",
      "metadata": {
        "id": "Ssd5XpYIxC7D"
      },
      "source": [
        "# a*b = 1000\n",
        "# Пусть а - сторона реки\n",
        "# a + b*2 - длина забора (min)\n",
        "# min f(x) = 1000/b + b*2"
      ],
      "execution_count": null,
      "outputs": []
    },
    {
      "cell_type": "code",
      "metadata": {
        "id": "Th4-sEjE5BUh"
      },
      "source": [
        "from scipy.optimize import minimize\n",
        "import numpy as np"
      ],
      "execution_count": null,
      "outputs": []
    },
    {
      "cell_type": "code",
      "metadata": {
        "id": "JvvPLnJp5Rzf"
      },
      "source": [
        "def func(x):\n",
        "  return 1000/x + x*2"
      ],
      "execution_count": null,
      "outputs": []
    },
    {
      "cell_type": "code",
      "metadata": {
        "colab": {
          "base_uri": "https://localhost:8080/"
        },
        "id": "U3PouG865qFY",
        "outputId": "f57980c9-f1f2-47e3-cf88-e73b2a740661"
      },
      "source": [
        "min_length = minimize(func, 0.1, method='SLSQP', bounds = [(0,1000)])\n",
        "min_length"
      ],
      "execution_count": null,
      "outputs": [
        {
          "output_type": "execute_result",
          "data": {
            "text/plain": [
              "     fun: 89.44271922264913\n",
              "     jac: array([-0.00020981])\n",
              " message: 'Optimization terminated successfully.'\n",
              "    nfev: 67\n",
              "     nit: 19\n",
              "    njev: 19\n",
              "  status: 0\n",
              " success: True\n",
              "       x: array([22.35950876])"
            ]
          },
          "metadata": {},
          "execution_count": 33
        }
      ]
    },
    {
      "cell_type": "code",
      "metadata": {
        "colab": {
          "base_uri": "https://localhost:8080/"
        },
        "id": "tBLoNgRzB416",
        "outputId": "e84135bf-f88d-49f6-a1d7-9c0c26c55c35"
      },
      "source": [
        "b = min_length.x[0]\n",
        "a = 1000/b\n",
        "print(f\"ОТВЕТ: длина ограды будет минимально равной {min_length.fun} метра при размерах a и b - {a}м и {b}м\")"
      ],
      "execution_count": null,
      "outputs": [
        {
          "output_type": "stream",
          "name": "stdout",
          "text": [
            "ОТВЕТ: длина ограды будет минимально равной 89.44271922264913 метра при размерах a и b - 44.72370170697945м и 22.359508757834842м\n"
          ]
        }
      ]
    }
  ]
}