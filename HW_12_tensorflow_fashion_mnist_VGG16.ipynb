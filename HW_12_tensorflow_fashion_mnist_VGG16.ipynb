{
  "cells": [
    {
      "cell_type": "markdown",
      "metadata": {
        "id": "view-in-github",
        "colab_type": "text"
      },
      "source": [
        "<a href=\"https://colab.research.google.com/github/Tsyhankova/goit_python/blob/main/HW_12_tensorflow_fashion_mnist_VGG16.ipynb\" target=\"_parent\"><img src=\"https://colab.research.google.com/assets/colab-badge.svg\" alt=\"Open In Colab\"/></a>"
      ]
    },
    {
      "cell_type": "code",
      "execution_count": null,
      "metadata": {
        "id": "RK6r19id0CYT"
      },
      "outputs": [],
      "source": [
        "#pip install keras"
      ]
    },
    {
      "cell_type": "code",
      "execution_count": null,
      "metadata": {
        "id": "qorHDVbh0CYv"
      },
      "outputs": [],
      "source": [
        "#pip install tensorflow"
      ]
    },
    {
      "cell_type": "code",
      "execution_count": 56,
      "metadata": {
        "id": "K8Eil6aw0CYy"
      },
      "outputs": [],
      "source": [
        "import keras\n",
        "import matplotlib.pyplot as plt\n",
        "import numpy as np\n",
        "import pandas as pd \n",
        "import tensorflow as tf\n",
        "from keras import models\n",
        "from keras.layers import Dense, Dropout, Flatten, Conv2D, MaxPooling2D\n",
        "from keras.models import Sequential\n",
        "from tensorflow.keras import Model, layers"
      ]
    },
    {
      "cell_type": "code",
      "execution_count": 57,
      "metadata": {
        "id": "vPnuRvc50CZD"
      },
      "outputs": [],
      "source": [
        "from sklearn.model_selection import train_test_split\n",
        "from sklearn import  metrics\n",
        "\n",
        "from keras.applications.vgg16 import VGG16\n",
        "from keras import optimizers"
      ]
    },
    {
      "cell_type": "code",
      "source": [
        "from tensorflow.keras.datasets import fashion_mnist\n",
        "\n",
        "# Загружаем датасет\n",
        "(x_train, y_train), (x_test, y_test) = fashion_mnist.load_data()"
      ],
      "metadata": {
        "id": "gkrjwb1x8fLf"
      },
      "execution_count": 58,
      "outputs": []
    },
    {
      "cell_type": "code",
      "source": [
        "x_test.shape, x_train.shape"
      ],
      "metadata": {
        "colab": {
          "base_uri": "https://localhost:8080/"
        },
        "id": "OIBKWLSP8nXz",
        "outputId": "0c1d82d3-7a72-4d41-8ca5-a87ed3272d6b"
      },
      "execution_count": 59,
      "outputs": [
        {
          "output_type": "execute_result",
          "data": {
            "text/plain": [
              "((10000, 28, 28), (60000, 28, 28))"
            ]
          },
          "metadata": {},
          "execution_count": 59
        }
      ]
    },
    {
      "cell_type": "code",
      "source": [
        "# меняем черно-белые картинки на rgb, так как необходимо для модели vgg16\n",
        "x_train=tf.image.grayscale_to_rgb(tf.expand_dims(x_train, axis=3)) \n",
        "x_test=tf.image.grayscale_to_rgb(tf.expand_dims(x_test, axis=3))"
      ],
      "metadata": {
        "id": "l6bEeByrA7kk"
      },
      "execution_count": 60,
      "outputs": []
    },
    {
      "cell_type": "code",
      "execution_count": 61,
      "metadata": {
        "colab": {
          "base_uri": "https://localhost:8080/"
        },
        "id": "t7a2Hqrj0CZY",
        "outputId": "6349bf50-72c4-4943-b375-9c9d9e7bbbb7"
      },
      "outputs": [
        {
          "output_type": "execute_result",
          "data": {
            "text/plain": [
              "(TensorShape([10000, 28, 28, 3]), TensorShape([60000, 28, 28, 3]))"
            ]
          },
          "metadata": {},
          "execution_count": 61
        }
      ],
      "source": [
        "x_test.shape, x_train.shape"
      ]
    },
    {
      "cell_type": "code",
      "source": [
        "x_train=tf.image.resize_with_pad(x_train,48,48)\n",
        "x_test=tf.image.resize_with_pad(x_test,48,48)"
      ],
      "metadata": {
        "id": "b0Jh3XrXCyVT"
      },
      "execution_count": 62,
      "outputs": []
    },
    {
      "cell_type": "code",
      "source": [
        "x_train /= 255\n",
        "x_test  /= 255\n",
        "x_test.shape"
      ],
      "metadata": {
        "colab": {
          "base_uri": "https://localhost:8080/"
        },
        "id": "6UC5znzeDMh2",
        "outputId": "8f4c3da4-6bfc-42a2-dbd8-39987f25b48d"
      },
      "execution_count": 63,
      "outputs": [
        {
          "output_type": "execute_result",
          "data": {
            "text/plain": [
              "TensorShape([10000, 48, 48, 3])"
            ]
          },
          "metadata": {},
          "execution_count": 63
        }
      ]
    },
    {
      "cell_type": "code",
      "execution_count": 64,
      "metadata": {
        "id": "O7o8R1iU0CZa"
      },
      "outputs": [],
      "source": [
        "# параметры сети, чтобы их было удобно менять\n",
        "batch_size = 16\n",
        "num_classes = 10\n",
        "epochs = 5 "
      ]
    },
    {
      "cell_type": "code",
      "execution_count": 65,
      "metadata": {
        "id": "21tXOH0D0CZ0"
      },
      "outputs": [],
      "source": [
        "from keras.utils import np_utils"
      ]
    },
    {
      "cell_type": "code",
      "execution_count": 66,
      "metadata": {
        "id": "zK9X0rMy0CZ5"
      },
      "outputs": [],
      "source": [
        "\n",
        "input_shape = (48, 48, 3)\n",
        "\n",
        "# преобразование отклика в 10 бинарных перменных \n",
        "y_train = keras.utils.np_utils.to_categorical(y_train, num_classes)\n",
        "y_test = keras.utils.np_utils.to_categorical(y_test, num_classes)"
      ]
    },
    {
      "cell_type": "code",
      "execution_count": 67,
      "metadata": {
        "id": "aGY05V7d0CaG"
      },
      "outputs": [],
      "source": [
        "conv_base = VGG16(weights=\"imagenet\", include_top=False, input_shape = input_shape)\n",
        "conv_base.trainable = False"
      ]
    },
    {
      "cell_type": "code",
      "source": [
        "model = models.Sequential([\n",
        "   conv_base,\n",
        "   layers.Flatten(),\n",
        "   layers.Dense(128, activation=\"relu\"),\n",
        "   layers.Dropout(0.5),\n",
        "   layers.Dense(num_classes, activation='softmax'),\n",
        "])\n",
        "\n",
        "model.compile(\n",
        "    loss=\"categorical_crossentropy\",\n",
        "    optimizer=tf.keras.optimizers.Adam(),\n",
        "    #optimizer=tf.keras.optimizers.RMSprop(learning_rate=2e-5),\n",
        "    metrics=[\"accuracy\"]\n",
        ")"
      ],
      "metadata": {
        "id": "feSVfY-iFFjc"
      },
      "execution_count": 68,
      "outputs": []
    },
    {
      "cell_type": "code",
      "source": [
        "model.summary()"
      ],
      "metadata": {
        "colab": {
          "base_uri": "https://localhost:8080/"
        },
        "id": "bjxscC4dGNmv",
        "outputId": "3fe6a41b-6140-42ee-ea25-092de7561450"
      },
      "execution_count": 69,
      "outputs": [
        {
          "output_type": "stream",
          "name": "stdout",
          "text": [
            "Model: \"sequential_3\"\n",
            "_________________________________________________________________\n",
            " Layer (type)                Output Shape              Param #   \n",
            "=================================================================\n",
            " vgg16 (Functional)          (None, 1, 1, 512)         14714688  \n",
            "                                                                 \n",
            " flatten_2 (Flatten)         (None, 512)               0         \n",
            "                                                                 \n",
            " dense_4 (Dense)             (None, 128)               65664     \n",
            "                                                                 \n",
            " dropout_2 (Dropout)         (None, 128)               0         \n",
            "                                                                 \n",
            " dense_5 (Dense)             (None, 10)                1290      \n",
            "                                                                 \n",
            "=================================================================\n",
            "Total params: 14,781,642\n",
            "Trainable params: 66,954\n",
            "Non-trainable params: 14,714,688\n",
            "_________________________________________________________________\n"
          ]
        }
      ]
    },
    {
      "cell_type": "code",
      "execution_count": 70,
      "metadata": {
        "colab": {
          "base_uri": "https://localhost:8080/"
        },
        "id": "jEpjV6iM0CaL",
        "outputId": "0152504d-1764-4355-c371-d7c02e2f2b68"
      },
      "outputs": [
        {
          "output_type": "stream",
          "name": "stdout",
          "text": [
            "Epoch 1/5\n",
            "3750/3750 [==============================] - 104s 25ms/step - loss: 0.5914 - accuracy: 0.7914 - val_loss: 0.4314 - val_accuracy: 0.8401\n",
            "Epoch 2/5\n",
            "3750/3750 [==============================] - 84s 22ms/step - loss: 0.4518 - accuracy: 0.8355 - val_loss: 0.4024 - val_accuracy: 0.8501\n",
            "Epoch 3/5\n",
            "3750/3750 [==============================] - 89s 24ms/step - loss: 0.4216 - accuracy: 0.8471 - val_loss: 0.3812 - val_accuracy: 0.8596\n",
            "Epoch 4/5\n",
            "3750/3750 [==============================] - 98s 26ms/step - loss: 0.4065 - accuracy: 0.8518 - val_loss: 0.3733 - val_accuracy: 0.8628\n",
            "Epoch 5/5\n",
            "3750/3750 [==============================] - 85s 23ms/step - loss: 0.3904 - accuracy: 0.8567 - val_loss: 0.3669 - val_accuracy: 0.8655\n",
            "Test accuracy: 0.8654999732971191\n"
          ]
        }
      ],
      "source": [
        "history = model.fit(x_train, y_train, batch_size=batch_size, epochs=epochs, verbose=1, validation_data=(x_test, y_test))\n",
        "accuracy = model.evaluate(x_test, y_test, verbose=0)\n",
        "print('Test accuracy:', accuracy[1])\n"
      ]
    },
    {
      "cell_type": "markdown",
      "metadata": {
        "id": "PQNwQFel0CaR"
      },
      "source": [
        "# Попробуем дообучить, полученную сеть, разблокировав несколько (3х) слоев в conv_base"
      ]
    },
    {
      "cell_type": "code",
      "execution_count": 71,
      "metadata": {
        "colab": {
          "base_uri": "https://localhost:8080/"
        },
        "id": "EUKwaqm_0CaY",
        "outputId": "e8b50b4b-2c7d-42f3-d17a-e4c20c2c2426"
      },
      "outputs": [
        {
          "output_type": "stream",
          "name": "stdout",
          "text": [
            "Model: \"vgg16\"\n",
            "_________________________________________________________________\n",
            " Layer (type)                Output Shape              Param #   \n",
            "=================================================================\n",
            " input_3 (InputLayer)        [(None, 48, 48, 3)]       0         \n",
            "                                                                 \n",
            " block1_conv1 (Conv2D)       (None, 48, 48, 64)        1792      \n",
            "                                                                 \n",
            " block1_conv2 (Conv2D)       (None, 48, 48, 64)        36928     \n",
            "                                                                 \n",
            " block1_pool (MaxPooling2D)  (None, 24, 24, 64)        0         \n",
            "                                                                 \n",
            " block2_conv1 (Conv2D)       (None, 24, 24, 128)       73856     \n",
            "                                                                 \n",
            " block2_conv2 (Conv2D)       (None, 24, 24, 128)       147584    \n",
            "                                                                 \n",
            " block2_pool (MaxPooling2D)  (None, 12, 12, 128)       0         \n",
            "                                                                 \n",
            " block3_conv1 (Conv2D)       (None, 12, 12, 256)       295168    \n",
            "                                                                 \n",
            " block3_conv2 (Conv2D)       (None, 12, 12, 256)       590080    \n",
            "                                                                 \n",
            " block3_conv3 (Conv2D)       (None, 12, 12, 256)       590080    \n",
            "                                                                 \n",
            " block3_pool (MaxPooling2D)  (None, 6, 6, 256)         0         \n",
            "                                                                 \n",
            " block4_conv1 (Conv2D)       (None, 6, 6, 512)         1180160   \n",
            "                                                                 \n",
            " block4_conv2 (Conv2D)       (None, 6, 6, 512)         2359808   \n",
            "                                                                 \n",
            " block4_conv3 (Conv2D)       (None, 6, 6, 512)         2359808   \n",
            "                                                                 \n",
            " block4_pool (MaxPooling2D)  (None, 3, 3, 512)         0         \n",
            "                                                                 \n",
            " block5_conv1 (Conv2D)       (None, 3, 3, 512)         2359808   \n",
            "                                                                 \n",
            " block5_conv2 (Conv2D)       (None, 3, 3, 512)         2359808   \n",
            "                                                                 \n",
            " block5_conv3 (Conv2D)       (None, 3, 3, 512)         2359808   \n",
            "                                                                 \n",
            " block5_pool (MaxPooling2D)  (None, 1, 1, 512)         0         \n",
            "                                                                 \n",
            "=================================================================\n",
            "Total params: 14,714,688\n",
            "Trainable params: 0\n",
            "Non-trainable params: 14,714,688\n",
            "_________________________________________________________________\n"
          ]
        }
      ],
      "source": [
        "conv_base.summary()"
      ]
    },
    {
      "cell_type": "code",
      "execution_count": 72,
      "metadata": {
        "id": "fIUmsAVi0CaZ"
      },
      "outputs": [],
      "source": [
        "conv_base = VGG16(weights=\"imagenet\", include_top=False, input_shape = input_shape)"
      ]
    },
    {
      "cell_type": "code",
      "execution_count": 83,
      "metadata": {
        "id": "ye8p9YyJ0Caa"
      },
      "outputs": [],
      "source": [
        "conv_base.trainable = True\n",
        "set_trainable = False\n",
        "for layer in conv_base.layers:\n",
        "    if layer.name == \"block5_conv1\":\n",
        "        set_trainable = True\n",
        "    if set_trainable:\n",
        "        layer.trainable = True\n",
        "    else:\n",
        "        layer.trainable = False\n",
        "\n",
        "modified_model_vgg16 = models.Sequential([\n",
        "   conv_base,\n",
        "   layers.Flatten(),\n",
        "   layers.Dense(256, activation=\"relu\"),\n",
        "   layers.Dropout(0.5),\n",
        "   layers.Dense(num_classes, activation='softmax'),\n",
        "])\n",
        "\n",
        "modified_model_vgg16.compile(\n",
        "    loss=\"categorical_crossentropy\",\n",
        "    optimizer=tf.keras.optimizers.Adam(),\n",
        "    #optimizer=tf.keras.optimizers.RMSprop(learning_rate=2e-5),\n",
        "    metrics=[\"accuracy\"]\n",
        ")"
      ]
    },
    {
      "cell_type": "code",
      "execution_count": 84,
      "metadata": {
        "colab": {
          "base_uri": "https://localhost:8080/"
        },
        "id": "K_ttwxb-0Caf",
        "outputId": "d70405ae-94fb-4b60-fc3e-b1e6bab4264d"
      },
      "outputs": [
        {
          "output_type": "stream",
          "name": "stdout",
          "text": [
            "Epoch 1/100\n",
            "100/100 [==============================] - 7s 57ms/step - loss: 1.0101 - accuracy: 0.6419 - val_loss: 0.5915 - val_accuracy: 0.7912\n",
            "Epoch 2/100\n",
            "100/100 [==============================] - 5s 53ms/step - loss: 0.6316 - accuracy: 0.7853 - val_loss: 0.3898 - val_accuracy: 0.8669\n",
            "Epoch 3/100\n",
            "100/100 [==============================] - 5s 52ms/step - loss: 0.5012 - accuracy: 0.8234 - val_loss: 0.5101 - val_accuracy: 0.8138\n",
            "Epoch 4/100\n",
            "100/100 [==============================] - 5s 52ms/step - loss: 0.4920 - accuracy: 0.8288 - val_loss: 0.4215 - val_accuracy: 0.8575\n",
            "Epoch 5/100\n",
            "100/100 [==============================] - 5s 54ms/step - loss: 0.4457 - accuracy: 0.8434 - val_loss: 0.3303 - val_accuracy: 0.8769\n",
            "Epoch 6/100\n",
            "100/100 [==============================] - 6s 56ms/step - loss: 0.4264 - accuracy: 0.8578 - val_loss: 0.3525 - val_accuracy: 0.8725\n",
            "Epoch 7/100\n",
            "100/100 [==============================] - 5s 52ms/step - loss: 0.4224 - accuracy: 0.8662 - val_loss: 0.4131 - val_accuracy: 0.8525\n",
            "Epoch 8/100\n",
            "100/100 [==============================] - 5s 52ms/step - loss: 0.4124 - accuracy: 0.8597 - val_loss: 0.3189 - val_accuracy: 0.8800\n",
            "Epoch 9/100\n",
            "100/100 [==============================] - 5s 52ms/step - loss: 0.3568 - accuracy: 0.8737 - val_loss: 0.3391 - val_accuracy: 0.8737\n",
            "Epoch 10/100\n",
            "100/100 [==============================] - 5s 52ms/step - loss: 0.3779 - accuracy: 0.8691 - val_loss: 0.3369 - val_accuracy: 0.8831\n",
            "Epoch 11/100\n",
            "100/100 [==============================] - 5s 54ms/step - loss: 0.3730 - accuracy: 0.8794 - val_loss: 0.3124 - val_accuracy: 0.8869\n",
            "Epoch 12/100\n",
            "100/100 [==============================] - 5s 52ms/step - loss: 0.3492 - accuracy: 0.8872 - val_loss: 0.3095 - val_accuracy: 0.8744\n",
            "Epoch 13/100\n",
            "100/100 [==============================] - 5s 52ms/step - loss: 0.3551 - accuracy: 0.8769 - val_loss: 0.3100 - val_accuracy: 0.8963\n",
            "Epoch 14/100\n",
            "100/100 [==============================] - 5s 52ms/step - loss: 0.3560 - accuracy: 0.8734 - val_loss: 0.3350 - val_accuracy: 0.8794\n",
            "Epoch 15/100\n",
            "100/100 [==============================] - 5s 53ms/step - loss: 0.3196 - accuracy: 0.8944 - val_loss: 0.3246 - val_accuracy: 0.8938\n",
            "Epoch 16/100\n",
            "100/100 [==============================] - 5s 52ms/step - loss: 0.3269 - accuracy: 0.8894 - val_loss: 0.2773 - val_accuracy: 0.9000\n",
            "Epoch 17/100\n",
            "100/100 [==============================] - 5s 52ms/step - loss: 0.3316 - accuracy: 0.8894 - val_loss: 0.3126 - val_accuracy: 0.8850\n",
            "Epoch 18/100\n",
            "100/100 [==============================] - 5s 52ms/step - loss: 0.3338 - accuracy: 0.8872 - val_loss: 0.3233 - val_accuracy: 0.8856\n",
            "Epoch 19/100\n",
            "100/100 [==============================] - 5s 52ms/step - loss: 0.3302 - accuracy: 0.8838 - val_loss: 0.3480 - val_accuracy: 0.8731\n",
            "Epoch 20/100\n",
            "100/100 [==============================] - 5s 52ms/step - loss: 0.3214 - accuracy: 0.8944 - val_loss: 0.3267 - val_accuracy: 0.8788\n",
            "Epoch 21/100\n",
            "100/100 [==============================] - 5s 52ms/step - loss: 0.2883 - accuracy: 0.9006 - val_loss: 0.2992 - val_accuracy: 0.8919\n",
            "Epoch 22/100\n",
            "100/100 [==============================] - 5s 52ms/step - loss: 0.2683 - accuracy: 0.9087 - val_loss: 0.2631 - val_accuracy: 0.9081\n",
            "Epoch 23/100\n",
            "100/100 [==============================] - 5s 52ms/step - loss: 0.3230 - accuracy: 0.8866 - val_loss: 0.2438 - val_accuracy: 0.9050\n",
            "Epoch 24/100\n",
            "100/100 [==============================] - 5s 52ms/step - loss: 0.2887 - accuracy: 0.8975 - val_loss: 0.2656 - val_accuracy: 0.9087\n",
            "Epoch 25/100\n",
            "100/100 [==============================] - 5s 53ms/step - loss: 0.2923 - accuracy: 0.9022 - val_loss: 0.2762 - val_accuracy: 0.9056\n",
            "Epoch 26/100\n",
            "100/100 [==============================] - 6s 58ms/step - loss: 0.2895 - accuracy: 0.9059 - val_loss: 0.3103 - val_accuracy: 0.8850\n",
            "Epoch 27/100\n",
            "100/100 [==============================] - 6s 56ms/step - loss: 0.2945 - accuracy: 0.8972 - val_loss: 0.2852 - val_accuracy: 0.9019\n",
            "Epoch 28/100\n",
            "100/100 [==============================] - 5s 53ms/step - loss: 0.2813 - accuracy: 0.9056 - val_loss: 0.3324 - val_accuracy: 0.8850\n",
            "Epoch 29/100\n",
            "100/100 [==============================] - 5s 52ms/step - loss: 0.2944 - accuracy: 0.9003 - val_loss: 0.3159 - val_accuracy: 0.8925\n",
            "Epoch 30/100\n",
            "100/100 [==============================] - 5s 52ms/step - loss: 0.3119 - accuracy: 0.8978 - val_loss: 0.3234 - val_accuracy: 0.8931\n",
            "Epoch 31/100\n",
            "100/100 [==============================] - 5s 52ms/step - loss: 0.2930 - accuracy: 0.8978 - val_loss: 0.2390 - val_accuracy: 0.9106\n",
            "Epoch 32/100\n",
            "100/100 [==============================] - 5s 52ms/step - loss: 0.2778 - accuracy: 0.9053 - val_loss: 0.2900 - val_accuracy: 0.8931\n",
            "Epoch 33/100\n",
            "100/100 [==============================] - 5s 52ms/step - loss: 0.2845 - accuracy: 0.9006 - val_loss: 0.2667 - val_accuracy: 0.9069\n",
            "Epoch 34/100\n",
            "100/100 [==============================] - 5s 52ms/step - loss: 0.2898 - accuracy: 0.8984 - val_loss: 0.2561 - val_accuracy: 0.9100\n",
            "Epoch 35/100\n",
            "100/100 [==============================] - 5s 52ms/step - loss: 0.2796 - accuracy: 0.9078 - val_loss: 0.2596 - val_accuracy: 0.9013\n",
            "Epoch 36/100\n",
            "100/100 [==============================] - 5s 52ms/step - loss: 0.2701 - accuracy: 0.9103 - val_loss: 0.2672 - val_accuracy: 0.9112\n",
            "Epoch 37/100\n",
            "100/100 [==============================] - 5s 52ms/step - loss: 0.2897 - accuracy: 0.9003 - val_loss: 0.2676 - val_accuracy: 0.8994\n",
            "Epoch 38/100\n",
            "100/100 [==============================] - 5s 52ms/step - loss: 0.2769 - accuracy: 0.9053 - val_loss: 0.2613 - val_accuracy: 0.9100\n",
            "Epoch 39/100\n",
            "100/100 [==============================] - 5s 52ms/step - loss: 0.2576 - accuracy: 0.9069 - val_loss: 0.2756 - val_accuracy: 0.9075\n",
            "Epoch 40/100\n",
            "100/100 [==============================] - 5s 52ms/step - loss: 0.2752 - accuracy: 0.9106 - val_loss: 0.2416 - val_accuracy: 0.9100\n",
            "Epoch 41/100\n",
            "100/100 [==============================] - 5s 52ms/step - loss: 0.2445 - accuracy: 0.9172 - val_loss: 0.2675 - val_accuracy: 0.9019\n",
            "Epoch 42/100\n",
            "100/100 [==============================] - 5s 52ms/step - loss: 0.2846 - accuracy: 0.9050 - val_loss: 0.2557 - val_accuracy: 0.9081\n",
            "Epoch 43/100\n",
            "100/100 [==============================] - 5s 52ms/step - loss: 0.2479 - accuracy: 0.9216 - val_loss: 0.2461 - val_accuracy: 0.9112\n",
            "Epoch 44/100\n",
            "100/100 [==============================] - 5s 53ms/step - loss: 0.2394 - accuracy: 0.9119 - val_loss: 0.2742 - val_accuracy: 0.9062\n",
            "Epoch 45/100\n",
            "100/100 [==============================] - 5s 52ms/step - loss: 0.2698 - accuracy: 0.9081 - val_loss: 0.2573 - val_accuracy: 0.9044\n",
            "Epoch 46/100\n",
            "100/100 [==============================] - 5s 52ms/step - loss: 0.2452 - accuracy: 0.9125 - val_loss: 0.2899 - val_accuracy: 0.8931\n",
            "Epoch 47/100\n",
            "100/100 [==============================] - 5s 52ms/step - loss: 0.2432 - accuracy: 0.9109 - val_loss: 0.2545 - val_accuracy: 0.9100\n",
            "Epoch 48/100\n",
            "100/100 [==============================] - 5s 52ms/step - loss: 0.2359 - accuracy: 0.9112 - val_loss: 0.2390 - val_accuracy: 0.9062\n",
            "Epoch 49/100\n",
            "100/100 [==============================] - 5s 52ms/step - loss: 0.2631 - accuracy: 0.9119 - val_loss: 0.2765 - val_accuracy: 0.9044\n",
            "Epoch 50/100\n",
            "100/100 [==============================] - 5s 52ms/step - loss: 0.2779 - accuracy: 0.9078 - val_loss: 0.2641 - val_accuracy: 0.9062\n",
            "Epoch 51/100\n",
            "100/100 [==============================] - 5s 52ms/step - loss: 0.2375 - accuracy: 0.9116 - val_loss: 0.2361 - val_accuracy: 0.9219\n",
            "Epoch 52/100\n",
            "100/100 [==============================] - 5s 52ms/step - loss: 0.2627 - accuracy: 0.9031 - val_loss: 0.2646 - val_accuracy: 0.8963\n",
            "Epoch 53/100\n",
            "100/100 [==============================] - 5s 52ms/step - loss: 0.2547 - accuracy: 0.9141 - val_loss: 0.2458 - val_accuracy: 0.9106\n",
            "Epoch 54/100\n",
            "100/100 [==============================] - 5s 52ms/step - loss: 0.2670 - accuracy: 0.9084 - val_loss: 0.2600 - val_accuracy: 0.9106\n",
            "Epoch 55/100\n",
            "100/100 [==============================] - 5s 52ms/step - loss: 0.2514 - accuracy: 0.9122 - val_loss: 0.2486 - val_accuracy: 0.9119\n",
            "Epoch 56/100\n",
            "100/100 [==============================] - 5s 52ms/step - loss: 0.2427 - accuracy: 0.9125 - val_loss: 0.2438 - val_accuracy: 0.9150\n",
            "Epoch 57/100\n",
            "100/100 [==============================] - 5s 53ms/step - loss: 0.2662 - accuracy: 0.9094 - val_loss: 0.2571 - val_accuracy: 0.9062\n",
            "Epoch 58/100\n",
            "100/100 [==============================] - 5s 52ms/step - loss: 0.2257 - accuracy: 0.9247 - val_loss: 0.2551 - val_accuracy: 0.9144\n",
            "Epoch 59/100\n",
            "100/100 [==============================] - 5s 52ms/step - loss: 0.2311 - accuracy: 0.9141 - val_loss: 0.2346 - val_accuracy: 0.9169\n",
            "Epoch 60/100\n",
            "100/100 [==============================] - 5s 52ms/step - loss: 0.2190 - accuracy: 0.9222 - val_loss: 0.2380 - val_accuracy: 0.9181\n",
            "Epoch 61/100\n",
            "100/100 [==============================] - 5s 52ms/step - loss: 0.2452 - accuracy: 0.9150 - val_loss: 0.2405 - val_accuracy: 0.9200\n",
            "Epoch 62/100\n",
            "100/100 [==============================] - 5s 52ms/step - loss: 0.2273 - accuracy: 0.9231 - val_loss: 0.2293 - val_accuracy: 0.9200\n",
            "Epoch 63/100\n",
            "100/100 [==============================] - 5s 52ms/step - loss: 0.2241 - accuracy: 0.9237 - val_loss: 0.2514 - val_accuracy: 0.9100\n",
            "Epoch 64/100\n",
            "100/100 [==============================] - 5s 52ms/step - loss: 0.2432 - accuracy: 0.9184 - val_loss: 0.2473 - val_accuracy: 0.9150\n",
            "Epoch 65/100\n",
            "100/100 [==============================] - 5s 52ms/step - loss: 0.2302 - accuracy: 0.9197 - val_loss: 0.2603 - val_accuracy: 0.9087\n",
            "Epoch 66/100\n",
            "100/100 [==============================] - 5s 52ms/step - loss: 0.2238 - accuracy: 0.9225 - val_loss: 0.2230 - val_accuracy: 0.9187\n",
            "Epoch 67/100\n",
            "100/100 [==============================] - 5s 52ms/step - loss: 0.2288 - accuracy: 0.9200 - val_loss: 0.2876 - val_accuracy: 0.9119\n",
            "Epoch 68/100\n",
            "100/100 [==============================] - 5s 52ms/step - loss: 0.2553 - accuracy: 0.9119 - val_loss: 0.2464 - val_accuracy: 0.9075\n",
            "Epoch 69/100\n",
            "100/100 [==============================] - 5s 52ms/step - loss: 0.2475 - accuracy: 0.9103 - val_loss: 0.2522 - val_accuracy: 0.9194\n",
            "Epoch 70/100\n",
            "100/100 [==============================] - 5s 52ms/step - loss: 0.2324 - accuracy: 0.9197 - val_loss: 0.2507 - val_accuracy: 0.9150\n",
            "Epoch 71/100\n",
            "100/100 [==============================] - 5s 53ms/step - loss: 0.2153 - accuracy: 0.9203 - val_loss: 0.2630 - val_accuracy: 0.9131\n",
            "Epoch 72/100\n",
            "100/100 [==============================] - 5s 52ms/step - loss: 0.2539 - accuracy: 0.9162 - val_loss: 0.2393 - val_accuracy: 0.9200\n",
            "Epoch 73/100\n",
            "100/100 [==============================] - 5s 52ms/step - loss: 0.2252 - accuracy: 0.9209 - val_loss: 0.2709 - val_accuracy: 0.9094\n",
            "Epoch 74/100\n",
            "100/100 [==============================] - 5s 52ms/step - loss: 0.2348 - accuracy: 0.9159 - val_loss: 0.2858 - val_accuracy: 0.9094\n",
            "Epoch 75/100\n",
            "100/100 [==============================] - 5s 52ms/step - loss: 0.2516 - accuracy: 0.9137 - val_loss: 0.2639 - val_accuracy: 0.9038\n",
            "Epoch 76/100\n",
            "100/100 [==============================] - 5s 52ms/step - loss: 0.2271 - accuracy: 0.9191 - val_loss: 0.2517 - val_accuracy: 0.9106\n",
            "Epoch 77/100\n",
            "100/100 [==============================] - 5s 52ms/step - loss: 0.2461 - accuracy: 0.9234 - val_loss: 0.2659 - val_accuracy: 0.9006\n",
            "Epoch 78/100\n",
            "100/100 [==============================] - 5s 52ms/step - loss: 0.2253 - accuracy: 0.9191 - val_loss: 0.2331 - val_accuracy: 0.9131\n",
            "Epoch 79/100\n",
            "100/100 [==============================] - 6s 56ms/step - loss: 0.2027 - accuracy: 0.9303 - val_loss: 0.2514 - val_accuracy: 0.9181\n",
            "Epoch 80/100\n",
            "100/100 [==============================] - 6s 56ms/step - loss: 0.2145 - accuracy: 0.9259 - val_loss: 0.2580 - val_accuracy: 0.9094\n",
            "Epoch 81/100\n",
            "100/100 [==============================] - 6s 55ms/step - loss: 0.2233 - accuracy: 0.9203 - val_loss: 0.2388 - val_accuracy: 0.9169\n",
            "Epoch 82/100\n",
            "100/100 [==============================] - 5s 52ms/step - loss: 0.2215 - accuracy: 0.9247 - val_loss: 0.2356 - val_accuracy: 0.9081\n",
            "Epoch 83/100\n",
            "100/100 [==============================] - 5s 52ms/step - loss: 0.2201 - accuracy: 0.9278 - val_loss: 0.2512 - val_accuracy: 0.9100\n",
            "Epoch 84/100\n",
            "100/100 [==============================] - 5s 53ms/step - loss: 0.1972 - accuracy: 0.9203 - val_loss: 0.2599 - val_accuracy: 0.9119\n",
            "Epoch 85/100\n",
            "100/100 [==============================] - 5s 52ms/step - loss: 0.2519 - accuracy: 0.9141 - val_loss: 0.2922 - val_accuracy: 0.9181\n",
            "Epoch 86/100\n",
            "100/100 [==============================] - 5s 53ms/step - loss: 0.2094 - accuracy: 0.9278 - val_loss: 0.2535 - val_accuracy: 0.9144\n",
            "Epoch 87/100\n",
            "100/100 [==============================] - 5s 52ms/step - loss: 0.2016 - accuracy: 0.9284 - val_loss: 0.2259 - val_accuracy: 0.9150\n",
            "Epoch 88/100\n",
            "100/100 [==============================] - 5s 53ms/step - loss: 0.2195 - accuracy: 0.9194 - val_loss: 0.2254 - val_accuracy: 0.9156\n",
            "Epoch 89/100\n",
            "100/100 [==============================] - 5s 52ms/step - loss: 0.2124 - accuracy: 0.9275 - val_loss: 0.2312 - val_accuracy: 0.9150\n",
            "Epoch 90/100\n",
            "100/100 [==============================] - 5s 53ms/step - loss: 0.1988 - accuracy: 0.9253 - val_loss: 0.2327 - val_accuracy: 0.9181\n",
            "Epoch 91/100\n",
            "100/100 [==============================] - 5s 52ms/step - loss: 0.2139 - accuracy: 0.9306 - val_loss: 0.2434 - val_accuracy: 0.9094\n",
            "Epoch 92/100\n",
            "100/100 [==============================] - 5s 52ms/step - loss: 0.2236 - accuracy: 0.9300 - val_loss: 0.2655 - val_accuracy: 0.9050\n",
            "Epoch 93/100\n",
            "100/100 [==============================] - 5s 52ms/step - loss: 0.2075 - accuracy: 0.9256 - val_loss: 0.2262 - val_accuracy: 0.9212\n",
            "Epoch 94/100\n",
            "100/100 [==============================] - 5s 53ms/step - loss: 0.2026 - accuracy: 0.9272 - val_loss: 0.2885 - val_accuracy: 0.9075\n",
            "Epoch 95/100\n",
            "100/100 [==============================] - 5s 52ms/step - loss: 0.1773 - accuracy: 0.9356 - val_loss: 0.2390 - val_accuracy: 0.9200\n",
            "Epoch 96/100\n",
            "100/100 [==============================] - 5s 53ms/step - loss: 0.2010 - accuracy: 0.9328 - val_loss: 0.2505 - val_accuracy: 0.9175\n",
            "Epoch 97/100\n",
            "100/100 [==============================] - 5s 52ms/step - loss: 0.1876 - accuracy: 0.9366 - val_loss: 0.2457 - val_accuracy: 0.9206\n",
            "Epoch 98/100\n",
            "100/100 [==============================] - 5s 52ms/step - loss: 0.2165 - accuracy: 0.9216 - val_loss: 0.2517 - val_accuracy: 0.9169\n",
            "Epoch 99/100\n",
            "100/100 [==============================] - 5s 53ms/step - loss: 0.2222 - accuracy: 0.9272 - val_loss: 0.2338 - val_accuracy: 0.9162\n",
            "Epoch 100/100\n",
            "100/100 [==============================] - 5s 52ms/step - loss: 0.2193 - accuracy: 0.9203 - val_loss: 0.2435 - val_accuracy: 0.9175\n"
          ]
        }
      ],
      "source": [
        "history = modified_model_vgg16.fit(x_train, y_train, batch_size=32, steps_per_epoch=100,\n",
        "    epochs=100, verbose=1, validation_data=(x_test, y_test), validation_steps=50)"
      ]
    },
    {
      "cell_type": "code",
      "source": [
        "accuracy = modified_model_vgg16.evaluate(x_test, y_test, verbose=0)\n",
        "print('Test accuracy:', accuracy[1])"
      ],
      "metadata": {
        "colab": {
          "base_uri": "https://localhost:8080/"
        },
        "id": "UOZ9Wu-fKSiT",
        "outputId": "cc4be232-66a5-4dbf-f4b7-3effc5e45e94"
      },
      "execution_count": 85,
      "outputs": [
        {
          "output_type": "stream",
          "name": "stdout",
          "text": [
            "Test accuracy: 0.9165999889373779\n"
          ]
        }
      ]
    },
    {
      "cell_type": "code",
      "execution_count": 86,
      "metadata": {
        "colab": {
          "base_uri": "https://localhost:8080/",
          "height": 545
        },
        "id": "nsQeTZz90Cag",
        "outputId": "ed932ec7-26c1-4f59-a2da-4c31b34f08a5"
      },
      "outputs": [
        {
          "output_type": "display_data",
          "data": {
            "image/png": "[encoded data removed]",
            "text/plain": [
              "<Figure size 432x288 with 1 Axes>"
            ]
          },
          "metadata": {
            "needs_background": "light"
          }
        },
        {
          "output_type": "display_data",
          "data": {
            "image/png": "[encoded data removed]",
            "text/plain": [
              "<Figure size 432x288 with 1 Axes>"
            ]
          },
          "metadata": {
            "needs_background": "light"
          }
        }
      ],
      "source": [
        "acc = history.history['accuracy']\n",
        "val_acc = history.history['val_accuracy']\n",
        "loss = history.history['loss']\n",
        "val_loss = history.history['val_loss']\n",
        "epochs = range(1, len(acc) + 1)\n",
        "\n",
        "plt.title('Training and validation accuracy')\n",
        "plt.plot(epochs, acc, 'green', label='Training acc')\n",
        "plt.plot(epochs, val_acc, 'blue', label='Validation acc')\n",
        "plt.legend()\n",
        "\n",
        "plt.figure()\n",
        "plt.title('Training and validation loss')\n",
        "plt.plot(epochs, loss, 'green', label='Training loss')\n",
        "plt.plot(epochs, val_loss, 'blue', label='Validation loss')\n",
        "\n",
        "plt.legend()\n",
        "\n",
        "plt.show()"
      ]
    },
    {
      "cell_type": "markdown",
      "source": [
        "CNN больше подходит для задач распознавания образов, чем MLP, что видно из https://github.com/Tsyhankova/goit_python/blob/main/HW_10_tensorflow_fashion_mnist_MLP.ipynb, а также https://github.com/Tsyhankova/goit_python/blob/main/HW_11_tensorflow_fashion_mnist_conv.ipynb. \n",
        "Можно использовать готовые сети такие как VGG16, но и самостоятельно обучить с нуля. "
      ],
      "metadata": {
        "id": "C2ZBdaIqOqKk"
      }
    }
  ],
  "metadata": {
    "kernelspec": {
      "display_name": "Python 3",
      "language": "python",
      "name": "python3"
    },
    "language_info": {
      "codemirror_mode": {
        "name": "ipython",
        "version": 3
      },
      "file_extension": ".py",
      "mimetype": "text/x-python",
      "name": "python",
      "nbconvert_exporter": "python",
      "pygments_lexer": "ipython3",
      "version": "3.8.8"
    },
    "colab": {
      "name": "HW_12_tensorflow_fashion_mnist_VGG16.ipynb",
      "provenance": [],
      "include_colab_link": true
    },
    "accelerator": "GPU"
  },
  "nbformat": 4,
  "nbformat_minor": 0
}