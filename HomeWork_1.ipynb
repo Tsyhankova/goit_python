{
  "nbformat": 4,
  "nbformat_minor": 0,
  "metadata": {
    "colab": {
      "name": "HomeWork_1.ipynb",
      "provenance": [],
      "collapsed_sections": [],
      "authorship_tag": "ABX9TyM7934YXSEgPxlccl6pDesC",
      "include_colab_link": true
    },
    "kernelspec": {
      "name": "python3",
      "display_name": "Python 3"
    },
    "language_info": {
      "name": "python"
    }
  },
  "cells": [
    {
      "cell_type": "markdown",
      "metadata": {
        "id": "view-in-github",
        "colab_type": "text"
      },
      "source": [
        "<a href=\"https://colab.research.google.com/github/Tsyhankova/goit_python/blob/main/HomeWork_1.ipynb\" target=\"_parent\"><img src=\"https://colab.research.google.com/assets/colab-badge.svg\" alt=\"Open In Colab\"/></a>"
      ]
    },
    {
      "cell_type": "code",
      "metadata": {
        "id": "i680ni205JtN"
      },
      "source": [
        "import numpy as np"
      ],
      "execution_count": 5,
      "outputs": []
    },
    {
      "cell_type": "markdown",
      "metadata": {
        "id": "z1FWDJVA4RJy"
      },
      "source": [
        "# Домашнее задание"
      ]
    },
    {
      "cell_type": "markdown",
      "metadata": {
        "id": "xsExvdyK4a0k"
      },
      "source": [
        "1. Вкладчик положил 50000 условных единиц на три разных счета в три разных банка. По первому счету выплаты составят 5% годовых, по второму – 7% годовых и по третьему 6% годовых. Известно, что через год вкладчик получил по процентам сумму в 2250 у.е. с первого и второго банка и сумму в 1400 у.е. с первого и третьего банка. Сколько условных единиц он положил на каждый счет изначально?"
      ]
    },
    {
      "cell_type": "markdown",
      "metadata": {
        "id": "qKVr35Oi4v7i"
      },
      "source": [
        "Пусть х у.е. вкладчик положил на первый счет, y и z соответственно на второй и третий.\n",
        "\n",
        "x + y + z = 50000\n",
        "\n",
        "0,05x + 0.07y = 2250\n",
        "\n",
        "0,05x + 0.06z = 1400"
      ]
    },
    {
      "cell_type": "code",
      "metadata": {
        "colab": {
          "base_uri": "https://localhost:8080/"
        },
        "id": "U_rrwR-s4_dX",
        "outputId": "556b76cd-5b00-48c8-c126-f48c12b090c8"
      },
      "source": [
        "a = np.matrix(\"1,1,1;0.05,0.07,0;0.05,0,0.06\")\n",
        "b = np.matrix(\"50000;2250;1400\")\n",
        "x = np.linalg.solve(a, b)\n",
        "print(x)"
      ],
      "execution_count": 4,
      "outputs": [
        {
          "output_type": "stream",
          "name": "stdout",
          "text": [
            "[[10000.]\n",
            " [25000.]\n",
            " [15000.]]\n"
          ]
        }
      ]
    },
    {
      "cell_type": "markdown",
      "metadata": {
        "id": "sbwZ8qf25Yha"
      },
      "source": [
        "Ответ: 10000 у.е - на первый счет, 25000 у.е - на второй, 15000 у.е.- на третий"
      ]
    },
    {
      "cell_type": "markdown",
      "metadata": {
        "id": "HH8MxjXi5dPQ"
      },
      "source": [
        "2. На складе хранятся мобильные телефоны iPhone 6, iPhone 11, iPhone 12 моделей. Всего 1328 экземпляра. Моделей iPhone 6 на 120 меньше, чем моделей iPhone 11, и на 100 больше, чем моделей iPhone 12. Сколько моделей каждого вида на складе?"
      ]
    },
    {
      "cell_type": "markdown",
      "metadata": {
        "id": "OgRx3qiw5k6B"
      },
      "source": [
        "Пусть x, y, z это  iPhone 6, iPhone 11, iPhone 12 соответственно. \n",
        "\n",
        "x + y + z = 1328\n",
        "\n",
        "-x + y = 120\n",
        "\n",
        "x - z = 100"
      ]
    },
    {
      "cell_type": "code",
      "metadata": {
        "colab": {
          "base_uri": "https://localhost:8080/"
        },
        "id": "Nh-1gNZm5oqt",
        "outputId": "a40c3d2a-d27f-4a54-c15e-92cb14ed1b56"
      },
      "source": [
        "a = np.matrix(\"1,1,1;-1,1,0;1,0,-1\")\n",
        "b = np.matrix(\"1328;120;100\")\n",
        "x = np.linalg.solve(a, b)\n",
        "print(x)"
      ],
      "execution_count": 6,
      "outputs": [
        {
          "output_type": "stream",
          "name": "stdout",
          "text": [
            "[[436.]\n",
            " [556.]\n",
            " [336.]]\n"
          ]
        }
      ]
    },
    {
      "cell_type": "markdown",
      "metadata": {
        "id": "5xtVSDev5uUp"
      },
      "source": [
        "Ответ: 436, 556 и 336 штук iPhone 6, iPhone 11, iPhone 12 соответственно."
      ]
    },
    {
      "cell_type": "markdown",
      "metadata": {
        "id": "GhZ-aUUM5vkw"
      },
      "source": [
        "3. Составьте каноническое уравнение эллипсоида, проходящего через три точки A,B,C. \n",
        "![image.png](data:image/png;base64,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)\n",
        "\n",
        "Каноническое уравнение эллипсоида в прямоугольной декартовой системе координат имеет вид:\n",
        "\n",
        "![image.png](data:image/png;base64,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)"
      ]
    },
    {
      "cell_type": "markdown",
      "metadata": {
        "id": "smzj4xRl522o"
      },
      "source": [
        "После подстановки точек в уравнение и преобразований, получаем систему уравнений, в которой a* = a в минус второй степени, b* = b в минус второй степени и c соответственно = с* в минус второй степени :\n",
        "\n",
        "3a* + 3c* = 1\n",
        "\n",
        "6a* + 1/4b* = 1\n",
        "\n",
        "a* + 1/3b* + c* = 1"
      ]
    },
    {
      "cell_type": "code",
      "metadata": {
        "colab": {
          "base_uri": "https://localhost:8080/"
        },
        "id": "DmDoxUwa6xku",
        "outputId": "613e63ab-393a-415c-d64e-b10259d9ebb6"
      },
      "source": [
        "a = np.matrix(\"3,0,3;6,0.25,0;1,0.333,1\")\n",
        "b = np.matrix(\"1;1;1\")\n",
        "x = np.linalg.solve(a, b)\n",
        "print(x)\n",
        "import math\n",
        "a = (1/math.sqrt(x[0]), -1/math.sqrt(x[0]))\n",
        "b = (1/math.sqrt(x[1]), -1/math.sqrt(x[1]))\n",
        "c = (1/math.sqrt(x[2]), -1/math.sqrt(x[2]))\n",
        "print(a, b, c)"
      ],
      "execution_count": 7,
      "outputs": [
        {
          "output_type": "stream",
          "name": "stdout",
          "text": [
            "[[0.08324992]\n",
            " [2.002002  ]\n",
            " [0.25008342]]\n",
            "(3.465836702456737, -3.465836702456737) (0.7067531393633848, -0.7067531393633848) (1.9996664164767055, -1.9996664164767055)\n"
          ]
        }
      ]
    },
    {
      "cell_type": "code",
      "metadata": {
        "colab": {
          "base_uri": "https://localhost:8080/"
        },
        "id": "OJmq_YMt64ZV",
        "outputId": "bc47f007-4709-43cc-c557-5af003da6e6d"
      },
      "source": [
        "import itertools\n",
        "l = list(itertools.product(a, b, c)) #находим все подходящие параметры a, b, c\n",
        "print(l) "
      ],
      "execution_count": 9,
      "outputs": [
        {
          "output_type": "stream",
          "name": "stdout",
          "text": [
            "[(3.465836702456737, 0.7067531393633848, 1.9996664164767055), (3.465836702456737, 0.7067531393633848, -1.9996664164767055), (3.465836702456737, -0.7067531393633848, 1.9996664164767055), (3.465836702456737, -0.7067531393633848, -1.9996664164767055), (-3.465836702456737, 0.7067531393633848, 1.9996664164767055), (-3.465836702456737, 0.7067531393633848, -1.9996664164767055), (-3.465836702456737, -0.7067531393633848, 1.9996664164767055), (-3.465836702456737, -0.7067531393633848, -1.9996664164767055)]\n"
          ]
        }
      ]
    },
    {
      "cell_type": "markdown",
      "metadata": {
        "id": "6bFsyj_e7Sev"
      },
      "source": [
        "4. Составьте уравнение параболы проходящей через заданные три точки (1,12), (3,54), (-1,2). Необходимо найти коэффициенты уравнения a,b,c\n",
        "\n",
        "![image.png](data:image/png;base64,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)\n",
        "\n"
      ]
    },
    {
      "cell_type": "markdown",
      "metadata": {
        "id": "Jy2BWiXn8gYW"
      },
      "source": [
        "a + b + c = 12\n",
        "\n",
        "9a + 3b + c = 54\n",
        "\n",
        "a - b + c = 2"
      ]
    },
    {
      "cell_type": "code",
      "metadata": {
        "colab": {
          "base_uri": "https://localhost:8080/"
        },
        "id": "0LCS11hb8iw9",
        "outputId": "6dafd009-3ab6-4081-de1b-e93aa56e1327"
      },
      "source": [
        "A = np.matrix(\"1, 1, 1; 9, 3, 1; 1, -1, 1\")\n",
        "B = np.matrix(\"12; 54; 2\")\n",
        "x = np.linalg.solve(A, B)\n",
        "print(x)"
      ],
      "execution_count": 10,
      "outputs": [
        {
          "output_type": "stream",
          "name": "stdout",
          "text": [
            "[[4.]\n",
            " [5.]\n",
            " [3.]]\n"
          ]
        }
      ]
    },
    {
      "cell_type": "markdown",
      "metadata": {
        "id": "xPYQ2BND8oeI"
      },
      "source": [
        "Ответ: коэффициенты уравнения a, b и c равны 4, 5 и 3 соответсвенно"
      ]
    },
    {
      "cell_type": "markdown",
      "metadata": {
        "id": "QivRP6o08-ZR"
      },
      "source": [
        "![image.png](data:image/png;base64,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)"
      ]
    },
    {
      "cell_type": "code",
      "metadata": {
        "id": "iPLh1nCR9gPB"
      },
      "source": [
        "def get_polynom(coords):\n",
        "    m = list(zip(*coords))\n",
        "    n = len(m[1]) - 1\n",
        "    B = np.matrix(m[1]).reshape(n+1,1)\n",
        "    l = []\n",
        "    for i in m[0]:\n",
        "        for d in range(0, n+1):\n",
        "            l.append(i**d)\n",
        "    A = np.matrix(l).reshape((n+1,n+1))\n",
        "    return np.linalg.solve(A, B)"
      ],
      "execution_count": 11,
      "outputs": []
    },
    {
      "cell_type": "code",
      "metadata": {
        "colab": {
          "base_uri": "https://localhost:8080/"
        },
        "id": "RP9htc9W9med",
        "outputId": "aff82e6e-57a2-48ff-c0b5-9bc24add4e9d"
      },
      "source": [
        "coords = [(1,12), (3,54), (-1,2)]\n",
        "get_polynom(coords)"
      ],
      "execution_count": 12,
      "outputs": [
        {
          "output_type": "execute_result",
          "data": {
            "text/plain": [
              "matrix([[3.],\n",
              "        [5.],\n",
              "        [4.]])"
            ]
          },
          "metadata": {},
          "execution_count": 12
        }
      ]
    }
  ]
}