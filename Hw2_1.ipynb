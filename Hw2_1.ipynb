{
  "nbformat": 4,
  "nbformat_minor": 0,
  "metadata": {
    "colab": {
      "name": "Hw2.1.ipynb",
      "provenance": [],
      "collapsed_sections": [],
      "authorship_tag": "ABX9TyOUGJleVvAQQiLDLpZhwrEp",
      "include_colab_link": true
    },
    "kernelspec": {
      "name": "python3",
      "display_name": "Python 3"
    },
    "language_info": {
      "name": "python"
    }
  },
  "cells": [
    {
      "cell_type": "markdown",
      "metadata": {
        "id": "view-in-github",
        "colab_type": "text"
      },
      "source": [
        "<a href=\"https://colab.research.google.com/github/Tsyhankova/goit_python/blob/main/Hw2_1.ipynb\" target=\"_parent\"><img src=\"https://colab.research.google.com/assets/colab-badge.svg\" alt=\"Open In Colab\"/></a>"
      ]
    },
    {
      "cell_type": "markdown",
      "metadata": {
        "id": "2_IrRy0X1D-K"
      },
      "source": [
        "# **Часть первая: Знакомство с Pandas.**"
      ]
    },
    {
      "cell_type": "code",
      "metadata": {
        "id": "T10i6gTT0bDJ"
      },
      "source": [
        "import pandas as pd"
      ],
      "execution_count": 3,
      "outputs": []
    },
    {
      "cell_type": "markdown",
      "metadata": {
        "id": "bxmkREh30-nj"
      },
      "source": [
        "Прочитайте данные с помощью метода read_html из таблицы \"Коефіцієнт народжуваності в регіонах України (1950—2019)\" [по ссылке](https://uk.wikipedia.org/wiki/%D0%9D%D0%B0%D1%81%D0%B5%D0%BB%D0%B5%D0%BD%D0%BD%D1%8F_%D0%A3%D0%BA%D1%80%D0%B0%D1%97%D0%BD%D0%B8#%D0%9D%D0%B0%D1%80%D0%BE%D0%B4%D0%B6%D1%83%D0%B2%D0%B0%D0%BD%D1%96%D1%81%D1%82%D1%8C)"
      ]
    },
    {
      "cell_type": "code",
      "metadata": {
        "colab": {
          "base_uri": "https://localhost:8080/"
        },
        "id": "Du2ikX8g1qsZ",
        "outputId": "52de9959-39e4-4ead-bee3-737a2652aaec"
      },
      "source": [
        "tabl = pd.read_html(\"https://uk.wikipedia.org/wiki/%D0%9D%D0%B0%D1%81%D0%B5%D0%BB%D0%B5%D0%BD%D0%BD%D1%8F_%D0%A3%D0%BA%D1%80%D0%B0%D1%97%D0%BD%D0%B8#%D0%9D%D0%B0%D1%80%D0%BE%D0%B4%D0%B6%D1%83%D0%B2%D0%B0%D0%BD%D1%96%D1%81%D1%82%D1%8C\", \n",
        "                    attrs = {\"class\" : \"wikitable collapsible collapsed\", \"style\" : \"text-align: right\"}) \n",
        "\n",
        "tabl_koef = tabl[2]\n",
        "print(tabl_koef)"
      ],
      "execution_count": 4,
      "outputs": [
        {
          "output_type": "stream",
          "name": "stdout",
          "text": [
            "               Регіон   1950   1960   1970  1990  2000  2012 2014 2019\n",
            "0                Крим  230.0  206.0  160.0   130    73   126    —    —\n",
            "1           Вінницька  224.0  192.0  142.0   124    84   112  109   76\n",
            "2           Волинська  247.0  250.0  179.0   153   112   148  141  101\n",
            "3    Дніпропетровська  204.0  204.0  151.0   123    71   112  111   71\n",
            "4            Донецька  271.0  214.0  140.0   109    61    98   82    —\n",
            "5         Житомирська  261.0  223.0  159.0   129    89   122  120   79\n",
            "6        Закарпатська  314.0  273.0  207.0   168   115   151  146  104\n",
            "7          Запорізька  219.0  197.0  150.0   124    71   106  106   68\n",
            "8   Івано-Франківська  243.0  248.0  182.0   155   103   124  122   88\n",
            "9            Київська  204.0  189.0  156.0   123    73   122  121   80\n",
            "10     Кіровоградська  216.0  171.0  145.0   126    79   110  108   68\n",
            "11          Луганська  262.0  235.0  144.0   116    62    96   51    —\n",
            "12          Львівська  234.0  240.0  171.0   140    91   119  119   87\n",
            "13       Миколаївська  211.0  194.0  155.0   137    80   115  112   71\n",
            "14            Одеська  241.0  192.0  148.0   126    80   127  123   88\n",
            "15         Полтавська  186.0  163.0  131.0   118    70    99  100   65\n",
            "16         Рівненська  269.0  267.0  193.0   158   118   159  148  107\n",
            "17            Сумська  216.0  184.0  132.0   115    70    97   92   60\n",
            "18      Тернопільська  213.0  216.0  157.0   142    92   113  109   76\n",
            "19         Харківська  197.0  173.0  140.0   114    68    99  101   68\n",
            "20         Херсонська  208.0  214.0  166.0   143    85   117  115   81\n",
            "21        Хмельницька  234.0  198.0  148.0   129    85   113  112   79\n",
            "22          Черкаська  205.0  179.0  144.0   123    75   100   98   64\n",
            "23        Чернівецька  247.0  218.0  170.0   148   101   128  129   92\n",
            "24       Чернігівська  220.0  183.0  127.0   108    69    94   90   61\n",
            "25               Київ    NaN  174.0  159.0   120    73   120  121  110\n",
            "26        Севастополь    NaN    NaN    NaN   125    70   120    —    —\n",
            "27            Україна  228.0  205.0  152.0   126    78   114  111   81\n"
          ]
        }
      ]
    },
    {
      "cell_type": "markdown",
      "metadata": {
        "id": "jhWIJAiPHF5C"
      },
      "source": [
        "Вывести первые строки таблицы с помощью метода head"
      ]
    },
    {
      "cell_type": "code",
      "metadata": {
        "colab": {
          "base_uri": "https://localhost:8080/"
        },
        "id": "WOy-1LA5HDIW",
        "outputId": "78c24212-ce6f-4048-ed63-5d7b2c9302ac"
      },
      "source": [
        "print(tabl_koef.head())"
      ],
      "execution_count": 5,
      "outputs": [
        {
          "output_type": "stream",
          "name": "stdout",
          "text": [
            "             Регіон   1950   1960   1970  1990  2000  2012 2014 2019\n",
            "0              Крим  230.0  206.0  160.0   130    73   126    —    —\n",
            "1         Вінницька  224.0  192.0  142.0   124    84   112  109   76\n",
            "2         Волинська  247.0  250.0  179.0   153   112   148  141  101\n",
            "3  Дніпропетровська  204.0  204.0  151.0   123    71   112  111   71\n",
            "4          Донецька  271.0  214.0  140.0   109    61    98   82    —\n"
          ]
        }
      ]
    },
    {
      "cell_type": "markdown",
      "metadata": {
        "id": "GaUDANqVHTMU"
      },
      "source": [
        "Определите количество строк и столбцов в датафрейме (атрибут shape)"
      ]
    },
    {
      "cell_type": "code",
      "metadata": {
        "colab": {
          "base_uri": "https://localhost:8080/"
        },
        "id": "dgbp-1lTHUkV",
        "outputId": "7a2877a4-f9fa-4af8-d3e7-557bd67bde40"
      },
      "source": [
        "print(tabl_koef.shape)"
      ],
      "execution_count": 6,
      "outputs": [
        {
          "output_type": "stream",
          "name": "stdout",
          "text": [
            "(28, 9)\n"
          ]
        }
      ]
    },
    {
      "cell_type": "markdown",
      "metadata": {
        "id": "AaAanPvkHhod"
      },
      "source": [
        "Замените в таблице значения \"—\" на значения NaN"
      ]
    },
    {
      "cell_type": "code",
      "metadata": {
        "id": "oSEzl3tzQgBb"
      },
      "source": [
        "import numpy as np"
      ],
      "execution_count": 7,
      "outputs": []
    },
    {
      "cell_type": "code",
      "metadata": {
        "colab": {
          "base_uri": "https://localhost:8080/"
        },
        "id": "Zd5MtBq8Hiq0",
        "outputId": "74387bea-be9b-47fb-844f-f12c78f902f7"
      },
      "source": [
        "tabl_koef = tabl_koef.replace(\"—\", np.nan)\n",
        "print(tabl_koef)"
      ],
      "execution_count": 8,
      "outputs": [
        {
          "output_type": "stream",
          "name": "stdout",
          "text": [
            "               Регіон   1950   1960   1970  1990  2000  2012 2014 2019\n",
            "0                Крим  230.0  206.0  160.0   130    73   126  NaN  NaN\n",
            "1           Вінницька  224.0  192.0  142.0   124    84   112  109   76\n",
            "2           Волинська  247.0  250.0  179.0   153   112   148  141  101\n",
            "3    Дніпропетровська  204.0  204.0  151.0   123    71   112  111   71\n",
            "4            Донецька  271.0  214.0  140.0   109    61    98   82  NaN\n",
            "5         Житомирська  261.0  223.0  159.0   129    89   122  120   79\n",
            "6        Закарпатська  314.0  273.0  207.0   168   115   151  146  104\n",
            "7          Запорізька  219.0  197.0  150.0   124    71   106  106   68\n",
            "8   Івано-Франківська  243.0  248.0  182.0   155   103   124  122   88\n",
            "9            Київська  204.0  189.0  156.0   123    73   122  121   80\n",
            "10     Кіровоградська  216.0  171.0  145.0   126    79   110  108   68\n",
            "11          Луганська  262.0  235.0  144.0   116    62    96   51  NaN\n",
            "12          Львівська  234.0  240.0  171.0   140    91   119  119   87\n",
            "13       Миколаївська  211.0  194.0  155.0   137    80   115  112   71\n",
            "14            Одеська  241.0  192.0  148.0   126    80   127  123   88\n",
            "15         Полтавська  186.0  163.0  131.0   118    70    99  100   65\n",
            "16         Рівненська  269.0  267.0  193.0   158   118   159  148  107\n",
            "17            Сумська  216.0  184.0  132.0   115    70    97   92   60\n",
            "18      Тернопільська  213.0  216.0  157.0   142    92   113  109   76\n",
            "19         Харківська  197.0  173.0  140.0   114    68    99  101   68\n",
            "20         Херсонська  208.0  214.0  166.0   143    85   117  115   81\n",
            "21        Хмельницька  234.0  198.0  148.0   129    85   113  112   79\n",
            "22          Черкаська  205.0  179.0  144.0   123    75   100   98   64\n",
            "23        Чернівецька  247.0  218.0  170.0   148   101   128  129   92\n",
            "24       Чернігівська  220.0  183.0  127.0   108    69    94   90   61\n",
            "25               Київ    NaN  174.0  159.0   120    73   120  121  110\n",
            "26        Севастополь    NaN    NaN    NaN   125    70   120  NaN  NaN\n",
            "27            Україна  228.0  205.0  152.0   126    78   114  111   81\n"
          ]
        }
      ]
    },
    {
      "cell_type": "markdown",
      "metadata": {
        "id": "7kO7bZ0cKexb"
      },
      "source": [
        "Определите типы всех столбцов с помощью dataframe.dtypes"
      ]
    },
    {
      "cell_type": "code",
      "metadata": {
        "colab": {
          "base_uri": "https://localhost:8080/"
        },
        "id": "owwD7dbvKf6h",
        "outputId": "cc585d49-0423-4946-c66c-c674dda0b5c4"
      },
      "source": [
        "tabl_koef.dtypes"
      ],
      "execution_count": 9,
      "outputs": [
        {
          "output_type": "execute_result",
          "data": {
            "text/plain": [
              "Регіон     object\n",
              "1950      float64\n",
              "1960      float64\n",
              "1970      float64\n",
              "1990        int64\n",
              "2000        int64\n",
              "2012        int64\n",
              "2014       object\n",
              "2019       object\n",
              "dtype: object"
            ]
          },
          "metadata": {},
          "execution_count": 9
        }
      ]
    },
    {
      "cell_type": "markdown",
      "metadata": {
        "id": "hnuRtfU-LLSJ"
      },
      "source": [
        "Замените типы не числовых колонок на числовые. Подсказка - это колонки где находился символ \"—\""
      ]
    },
    {
      "cell_type": "code",
      "metadata": {
        "colab": {
          "base_uri": "https://localhost:8080/"
        },
        "id": "dcb5_L8ALPkJ",
        "outputId": "e260d5c7-89cb-435b-9e0b-91e7e0a8d4a3"
      },
      "source": [
        "tabl_koef[[\"2014\", \"2019\"]] = (tabl_koef[[\"2014\", \"2019\"]]).astype('float64')\n",
        "tabl_koef.dtypes"
      ],
      "execution_count": 10,
      "outputs": [
        {
          "output_type": "execute_result",
          "data": {
            "text/plain": [
              "Регіон     object\n",
              "1950      float64\n",
              "1960      float64\n",
              "1970      float64\n",
              "1990        int64\n",
              "2000        int64\n",
              "2012        int64\n",
              "2014      float64\n",
              "2019      float64\n",
              "dtype: object"
            ]
          },
          "metadata": {},
          "execution_count": 10
        }
      ]
    },
    {
      "cell_type": "markdown",
      "metadata": {
        "id": "iJFwRjgwRF5C"
      },
      "source": [
        "Посчитайте, какая доля пропусков содержится в каждой колонке (используйте методы isnull и sum)"
      ]
    },
    {
      "cell_type": "code",
      "metadata": {
        "colab": {
          "base_uri": "https://localhost:8080/"
        },
        "id": "IR2vLtf7RHxF",
        "outputId": "45eeb36c-36a1-4ace-e374-61f22e896188"
      },
      "source": [
        "tabl_koef.isnull().sum(axis = 0, skipna = True)"
      ],
      "execution_count": 11,
      "outputs": [
        {
          "output_type": "execute_result",
          "data": {
            "text/plain": [
              "Регіон    0\n",
              "1950      2\n",
              "1960      1\n",
              "1970      1\n",
              "1990      0\n",
              "2000      0\n",
              "2012      0\n",
              "2014      2\n",
              "2019      4\n",
              "dtype: int64"
            ]
          },
          "metadata": {},
          "execution_count": 11
        }
      ]
    },
    {
      "cell_type": "markdown",
      "metadata": {
        "id": "58CILvjSSkkc"
      },
      "source": [
        "Удалите из таблицы данные по всей стране, последняя строчка таблицы"
      ]
    },
    {
      "cell_type": "code",
      "metadata": {
        "colab": {
          "base_uri": "https://localhost:8080/"
        },
        "id": "mHLObwQ-SonU",
        "outputId": "b54990a3-2259-4023-f322-26f4be6b21a3"
      },
      "source": [
        "tabl_koef = tabl_koef.drop([27])\n",
        "print(tabl_koef)"
      ],
      "execution_count": 16,
      "outputs": [
        {
          "output_type": "stream",
          "name": "stdout",
          "text": [
            "               Регіон    1950        1960  ...  2012    2014        2019\n",
            "0                Крим  230.00  206.000000  ...   126  111.44   80.173913\n",
            "1           Вінницька  224.00  192.000000  ...   112  109.00   76.000000\n",
            "2           Волинська  247.00  250.000000  ...   148  141.00  101.000000\n",
            "3    Дніпропетровська  204.00  204.000000  ...   112  111.00   71.000000\n",
            "4            Донецька  271.00  214.000000  ...    98   82.00   80.173913\n",
            "5         Житомирська  261.00  223.000000  ...   122  120.00   79.000000\n",
            "6        Закарпатська  314.00  273.000000  ...   151  146.00  104.000000\n",
            "7          Запорізька  219.00  197.000000  ...   106  106.00   68.000000\n",
            "8   Івано-Франківська  243.00  248.000000  ...   124  122.00   88.000000\n",
            "9            Київська  204.00  189.000000  ...   122  121.00   80.000000\n",
            "10     Кіровоградська  216.00  171.000000  ...   110  108.00   68.000000\n",
            "11          Луганська  262.00  235.000000  ...    96   51.00   80.173913\n",
            "12          Львівська  234.00  240.000000  ...   119  119.00   87.000000\n",
            "13       Миколаївська  211.00  194.000000  ...   115  112.00   71.000000\n",
            "14            Одеська  241.00  192.000000  ...   127  123.00   88.000000\n",
            "15         Полтавська  186.00  163.000000  ...    99  100.00   65.000000\n",
            "16         Рівненська  269.00  267.000000  ...   159  148.00  107.000000\n",
            "17            Сумська  216.00  184.000000  ...    97   92.00   60.000000\n",
            "18      Тернопільська  213.00  216.000000  ...   113  109.00   76.000000\n",
            "19         Харківська  197.00  173.000000  ...    99  101.00   68.000000\n",
            "20         Херсонська  208.00  214.000000  ...   117  115.00   81.000000\n",
            "21        Хмельницька  234.00  198.000000  ...   113  112.00   79.000000\n",
            "22          Черкаська  205.00  179.000000  ...   100   98.00   64.000000\n",
            "23        Чернівецька  247.00  218.000000  ...   128  129.00   92.000000\n",
            "24       Чернігівська  220.00  183.000000  ...    94   90.00   61.000000\n",
            "25               Київ  231.04  174.000000  ...   120  121.00  110.000000\n",
            "26        Севастополь  231.04  207.576923  ...   120  111.44   80.173913\n",
            "\n",
            "[27 rows x 9 columns]\n"
          ]
        }
      ]
    },
    {
      "cell_type": "markdown",
      "metadata": {
        "id": "QZItF_PMTob8"
      },
      "source": [
        "Замените отсутствующие данные в столбцах средними значениями по этим столбцам (метод fillna)"
      ]
    },
    {
      "cell_type": "code",
      "metadata": {
        "colab": {
          "base_uri": "https://localhost:8080/"
        },
        "id": "YRVBROMUTpta",
        "outputId": "712697f4-ce3e-49cf-c68c-18ab753b73d2"
      },
      "source": [
        "tabl_koef = tabl_koef.fillna({\"1950\": tabl_koef[\"1950\"].mean(), \n",
        "                  \"1960\": tabl_koef[\"1960\"].mean(), \n",
        "                  \"1970\": tabl_koef[\"1970\"].mean(), \n",
        "                  \"2014\": tabl_koef[\"2014\"].mean(), \n",
        "                  \"2019\": tabl_koef[\"2019\"].mean()})\n",
        "print(tabl_koef)"
      ],
      "execution_count": 13,
      "outputs": [
        {
          "output_type": "stream",
          "name": "stdout",
          "text": [
            "               Регіон    1950        1960  ...  2012    2014        2019\n",
            "0                Крим  230.00  206.000000  ...   126  111.44   80.173913\n",
            "1           Вінницька  224.00  192.000000  ...   112  109.00   76.000000\n",
            "2           Волинська  247.00  250.000000  ...   148  141.00  101.000000\n",
            "3    Дніпропетровська  204.00  204.000000  ...   112  111.00   71.000000\n",
            "4            Донецька  271.00  214.000000  ...    98   82.00   80.173913\n",
            "5         Житомирська  261.00  223.000000  ...   122  120.00   79.000000\n",
            "6        Закарпатська  314.00  273.000000  ...   151  146.00  104.000000\n",
            "7          Запорізька  219.00  197.000000  ...   106  106.00   68.000000\n",
            "8   Івано-Франківська  243.00  248.000000  ...   124  122.00   88.000000\n",
            "9            Київська  204.00  189.000000  ...   122  121.00   80.000000\n",
            "10     Кіровоградська  216.00  171.000000  ...   110  108.00   68.000000\n",
            "11          Луганська  262.00  235.000000  ...    96   51.00   80.173913\n",
            "12          Львівська  234.00  240.000000  ...   119  119.00   87.000000\n",
            "13       Миколаївська  211.00  194.000000  ...   115  112.00   71.000000\n",
            "14            Одеська  241.00  192.000000  ...   127  123.00   88.000000\n",
            "15         Полтавська  186.00  163.000000  ...    99  100.00   65.000000\n",
            "16         Рівненська  269.00  267.000000  ...   159  148.00  107.000000\n",
            "17            Сумська  216.00  184.000000  ...    97   92.00   60.000000\n",
            "18      Тернопільська  213.00  216.000000  ...   113  109.00   76.000000\n",
            "19         Харківська  197.00  173.000000  ...    99  101.00   68.000000\n",
            "20         Херсонська  208.00  214.000000  ...   117  115.00   81.000000\n",
            "21        Хмельницька  234.00  198.000000  ...   113  112.00   79.000000\n",
            "22          Черкаська  205.00  179.000000  ...   100   98.00   64.000000\n",
            "23        Чернівецька  247.00  218.000000  ...   128  129.00   92.000000\n",
            "24       Чернігівська  220.00  183.000000  ...    94   90.00   61.000000\n",
            "25               Київ  231.04  174.000000  ...   120  121.00  110.000000\n",
            "26        Севастополь  231.04  207.576923  ...   120  111.44   80.173913\n",
            "\n",
            "[27 rows x 9 columns]\n"
          ]
        }
      ]
    },
    {
      "cell_type": "markdown",
      "metadata": {
        "id": "y1VY8q-iVkpt"
      },
      "source": [
        "Получите список регионов, где уровень рождаемости в 2019 году был выше среднего по Украине"
      ]
    },
    {
      "cell_type": "code",
      "metadata": {
        "colab": {
          "base_uri": "https://localhost:8080/"
        },
        "id": "3xWatrTMUxFA",
        "outputId": "46030848-de52-4e26-bf83-36f416a6bcd1"
      },
      "source": [
        "new_tab = pd.concat([tabl_koef[\"Регіон\"], tabl_koef[\"2019\"]], axis = 1)\n",
        "\n",
        "new_tab = new_tab[new_tab[\"2019\"] > new_tab[\"2019\"].mean()]\n",
        "reg_list = []\n",
        "for reg in new_tab['Регіон']:\n",
        "  reg_list.append(reg)\n",
        "print(reg_list)"
      ],
      "execution_count": 39,
      "outputs": [
        {
          "output_type": "stream",
          "name": "stdout",
          "text": [
            "['Волинська', 'Закарпатська', 'Івано-Франківська', 'Львівська', 'Одеська', 'Рівненська', 'Херсонська', 'Чернівецька', 'Київ']\n"
          ]
        }
      ]
    },
    {
      "cell_type": "markdown",
      "metadata": {
        "id": "2M84caIIbcjL"
      },
      "source": [
        "В каком регионе была самая высокая рождаемость в 2014 году?"
      ]
    },
    {
      "cell_type": "code",
      "metadata": {
        "colab": {
          "base_uri": "https://localhost:8080/",
          "height": 80
        },
        "id": "eyDYja_rdG_Y",
        "outputId": "66e1e8f7-e90f-484d-ab07-59f3a2164f86"
      },
      "source": [
        "new_tab = pd.concat([tabl_koef[\"Регіон\"], tabl_koef[\"2014\"]], axis = 1)\n",
        "\n",
        "new_tab[new_tab[\"2014\"] >=  new_tab['2014'].max()]"
      ],
      "execution_count": 52,
      "outputs": [
        {
          "output_type": "execute_result",
          "data": {
            "text/html": [
              "<div>\n",
              "<style scoped>\n",
              "    .dataframe tbody tr th:only-of-type {\n",
              "        vertical-align: middle;\n",
              "    }\n",
              "\n",
              "    .dataframe tbody tr th {\n",
              "        vertical-align: top;\n",
              "    }\n",
              "\n",
              "    .dataframe thead th {\n",
              "        text-align: right;\n",
              "    }\n",
              "</style>\n",
              "<table border=\"1\" class=\"dataframe\">\n",
              "  <thead>\n",
              "    <tr style=\"text-align: right;\">\n",
              "      <th></th>\n",
              "      <th>Регіон</th>\n",
              "      <th>2014</th>\n",
              "    </tr>\n",
              "  </thead>\n",
              "  <tbody>\n",
              "    <tr>\n",
              "      <th>16</th>\n",
              "      <td>Рівненська</td>\n",
              "      <td>148.0</td>\n",
              "    </tr>\n",
              "  </tbody>\n",
              "</table>\n",
              "</div>"
            ],
            "text/plain": [
              "        Регіон   2014\n",
              "16  Рівненська  148.0"
            ]
          },
          "metadata": {},
          "execution_count": 52
        }
      ]
    },
    {
      "cell_type": "markdown",
      "metadata": {
        "id": "DbifJIm7g_sk"
      },
      "source": [
        "Постройте столбцовую диаграмму рождаемости по регионам в 2019 году"
      ]
    },
    {
      "cell_type": "code",
      "metadata": {
        "colab": {
          "base_uri": "https://localhost:8080/",
          "height": 387
        },
        "id": "YoN_zFg-fANK",
        "outputId": "a28df308-f264-4e55-8fd3-6492cd44264d"
      },
      "source": [
        "import matplotlib.pyplot as plt\n",
        "\n",
        "Region = tabl_koef[\"Регіон\"]\n",
        "birth_rate = tabl_koef[\"2019\"]\n",
        "\n",
        "plt.bar(Region, birth_rate)\n",
        "plt.xticks(rotation=90)\n",
        "plt.xlabel('Region', fontsize=14)\n",
        "plt.ylabel('birth_rate', fontsize=14)\n",
        "plt.title('2019', fontsize=14)\n",
        "plt.show()"
      ],
      "execution_count": 65,
      "outputs": [
        {
          "output_type": "display_data",
          "data": {
            "image/png": "[encoded data removed]",
            "text/plain": [
              "<Figure size 432x288 with 1 Axes>"
            ]
          },
          "metadata": {
            "needs_background": "light"
          }
        }
      ]
    }
  ]
}